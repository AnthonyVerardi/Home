{
 "cells": [
  {
   "cell_type": "markdown",
   "metadata": {},
   "source": [
    "# Classifiers and Categorical Data\n",
    "\n",
    "Lecture 2/27/2020\n",
    "Materials and code courtesy of Na-Rae Han"
   ]
  },
  {
   "cell_type": "markdown",
   "metadata": {},
   "source": [
    "## A Brief Review of Count Vectors and TD-IDF Vectorizer\n",
    "\n",
    "### What is a Count Vector?\n",
    "\n",
    "Info about the CountVector() function: https://scikit-learn.org/stable/modules/generated/sklearn.feature_extraction.text.CountVectorizer.html\n",
    "\n",
    "\"Convert a collection of text documents to a matrix of token counts\"\n",
    "* Each row represents a document\n",
    "* Each column represents a token count\n",
    "\n",
    "### What is TF-IDF Vectorizer?\n",
    "\n",
    "Info about the TfidfTransformer() function: http://scikit-learn.org/stable/modules/generated/sklearn.feature_extraction.text.TfidfTransformer.html\n",
    "\n",
    "\"Scale down the impact of tokens that occur very frequently in a given corpus and that are hence empirically less informative than features that occur in a small fraction of the training corpus.\"\n",
    "\n",
    "Info about the TfidfVectorizer() function: http://scikit-learn.org/stable/modules/generated/sklearn.feature_extraction.text.TfidfVectorizer.html\n",
    "\n",
    "\"Equivalent to CountVectorizer followed by TfidfTransformer.\"\n",
    "\n",
    "### Why do we use them?\n",
    "Text can't be put directly into a classifier. They require numerical data. These functions allow us to (1) convert the text into token counts vectors and (2) convert these token count vectors into numbers that even out effects of very large counts\n",
    "\n",
    "### How can we use them effectively?\n",
    "\n",
    "Let's take a brief detour into Tuesday's code, with slight modifications..."
   ]
  },
  {
   "cell_type": "code",
   "execution_count": 1,
   "metadata": {},
   "outputs": [
    {
     "name": "stdout",
     "output_type": "stream",
     "text": [
      "Pretty printing has been turned OFF\n"
     ]
    }
   ],
   "source": [
    "# Turns on/off pretty printing \n",
    "%pprint\n",
    "\n",
    "# Every returned Out[] is displayed, not just the last one. \n",
    "from IPython.core.interactiveshell import InteractiveShell\n",
    "InteractiveShell.ast_node_interactivity = \"all\""
   ]
  },
  {
   "cell_type": "code",
   "execution_count": 2,
   "metadata": {},
   "outputs": [],
   "source": [
    "import numpy as np\n",
    "import pandas as pd\n",
    "import sklearn               \n",
    "import nltk \n",
    "\n",
    "import matplotlib.pyplot as plt\n",
    "import seaborn as sns        \n",
    "sns.set_style('darkgrid')\n",
    "\n",
    "import statsmodels.api as sm\n",
    "import statsmodels.formula.api as smf"
   ]
  },
  {
   "cell_type": "code",
   "execution_count": 3,
   "metadata": {},
   "outputs": [],
   "source": [
    "#Remove the -1 from your path\n",
    "english = pd.read_csv('../../Class-Exercise-Repo-1/activity3/english_updated.csv', index_col='Index')"
   ]
  },
  {
   "cell_type": "code",
   "execution_count": 4,
   "metadata": {},
   "outputs": [
    {
     "data": {
      "text/plain": [
       "['alt.atheism', 'comp.graphics', 'comp.os.ms-windows.misc', 'comp.sys.ibm.pc.hardware', 'comp.sys.mac.hardware', 'comp.windows.x', 'misc.forsale', 'rec.autos', 'rec.motorcycles', 'rec.sport.baseball', 'rec.sport.hockey', 'sci.crypt', 'sci.electronics', 'sci.med', 'sci.space', 'soc.religion.christian', 'talk.politics.guns', 'talk.politics.mideast', 'talk.politics.misc', 'talk.religion.misc']"
      ]
     },
     "execution_count": 4,
     "metadata": {},
     "output_type": "execute_result"
    }
   ],
   "source": [
    "from sklearn.datasets import fetch_20newsgroups\n",
    "data = fetch_20newsgroups()   # downloads training data by default: subset='train'. test', 'all'\n",
    "data.target_names"
   ]
  },
  {
   "cell_type": "code",
   "execution_count": 5,
   "metadata": {},
   "outputs": [],
   "source": [
    "categories = ['talk.religion.misc', 'soc.religion.christian',\n",
    "              'sci.space', 'comp.graphics']\n",
    "train = fetch_20newsgroups(subset='train', categories=categories)\n",
    "test = fetch_20newsgroups(subset='test', categories=categories)"
   ]
  },
  {
   "cell_type": "code",
   "execution_count": 6,
   "metadata": {},
   "outputs": [],
   "source": [
    "from sklearn.feature_extraction.text import TfidfVectorizer\n",
    "from sklearn.naive_bayes import MultinomialNB\n",
    "from sklearn.pipeline import make_pipeline\n",
    "\n",
    "# pipeline! See textbook. \n",
    "model = make_pipeline(TfidfVectorizer(), MultinomialNB())"
   ]
  },
  {
   "cell_type": "code",
   "execution_count": 7,
   "metadata": {},
   "outputs": [
    {
     "data": {
      "text/plain": [
       "Pipeline(memory=None,\n",
       "     steps=[('tfidfvectorizer', TfidfVectorizer(analyzer='word', binary=False, decode_error='strict',\n",
       "        dtype=<class 'numpy.float64'>, encoding='utf-8', input='content',\n",
       "        lowercase=True, max_df=1.0, max_features=None, min_df=1,\n",
       "        ngram_range=(1, 1), norm='l2', preprocessor=None, smooth...   vocabulary=None)), ('multinomialnb', MultinomialNB(alpha=1.0, class_prior=None, fit_prior=True))])"
      ]
     },
     "execution_count": 7,
     "metadata": {},
     "output_type": "execute_result"
    }
   ],
   "source": [
    "# train model\n",
    "model.fit(train.data, train.target)\n",
    "\n",
    "# predict labels on test data\n",
    "labels = model.predict(test.data)"
   ]
  },
  {
   "cell_type": "code",
   "execution_count": 8,
   "metadata": {},
   "outputs": [
    {
     "data": {
      "text/plain": [
       "array([[344,  13,  32,   0],\n",
       "       [  6, 364,  24,   0],\n",
       "       [  1,   5, 392,   0],\n",
       "       [  4,  12, 187,  48]], dtype=int64)"
      ]
     },
     "execution_count": 8,
     "metadata": {},
     "output_type": "execute_result"
    }
   ],
   "source": [
    "from sklearn.metrics import confusion_matrix\n",
    "mat1 = confusion_matrix(test.target, labels)\n",
    "mat1"
   ]
  },
  {
   "cell_type": "code",
   "execution_count": 9,
   "metadata": {},
   "outputs": [
    {
     "data": {
      "text/plain": [
       "0.8016759776536313"
      ]
     },
     "execution_count": 9,
     "metadata": {},
     "output_type": "execute_result"
    }
   ],
   "source": [
    "from sklearn.metrics import accuracy_score\n",
    "accuracy_score(test.target, labels)"
   ]
  },
  {
   "cell_type": "markdown",
   "metadata": {},
   "source": [
    "We got 80% accuracy by using the standard TfidfVectorizer function. What happens when we modify it?\n",
    "\n",
    "### The TfidfVectorizer() function:\n",
    "It has many parameters. Let's look at a few...\n",
    "* min_df: Only include words that occur above this minimum document frequency (between 0 and 1 OR an int)\n",
    "    * a cut-off\n",
    "* max_df: Only include words that occur below this maximum document frequency (between 0 and 1 OR an int)\n",
    "    * Corpus-specific stop words\n",
    "* max_features: Only include the top N features (ordered by frequency)\n",
    "* stop_words: a list of words to be ignored for tokenization\n",
    "    * How might you choose your stop words?\n",
    "\n",
    "Questions to ask when adjusting these arguments:\n",
    "1. How am I limiting my data?\n",
    "2. Why am I limiting my data in this way?\n",
    "\n",
    "### Fudging around with these arguments:\n",
    "Let's start simple--what if we get rid of english stop words?"
   ]
  },
  {
   "cell_type": "code",
   "execution_count": 10,
   "metadata": {},
   "outputs": [
    {
     "data": {
      "text/plain": [
       "Pipeline(memory=None,\n",
       "     steps=[('tfidfvectorizer', TfidfVectorizer(analyzer='word', binary=False, decode_error='strict',\n",
       "        dtype=<class 'numpy.float64'>, encoding='utf-8', input='content',\n",
       "        lowercase=True, max_df=1.0, max_features=None, min_df=1,\n",
       "        ngram_range=(1, 1), norm='l2', preprocessor=None, smooth...   vocabulary=None)), ('multinomialnb', MultinomialNB(alpha=1.0, class_prior=None, fit_prior=True))])"
      ]
     },
     "execution_count": 10,
     "metadata": {},
     "output_type": "execute_result"
    }
   ],
   "source": [
    "model2 = make_pipeline(TfidfVectorizer(stop_words = 'english'), MultinomialNB())\n",
    "\n",
    "# train model\n",
    "model2.fit(train.data, train.target)\n",
    "\n",
    "# predict labels on test data\n",
    "labels2 = model2.predict(test.data)\n",
    "\n",
    "mat2 = confusion_matrix(test.target, labels2)"
   ]
  },
  {
   "cell_type": "code",
   "execution_count": 11,
   "metadata": {},
   "outputs": [
    {
     "name": "stdout",
     "output_type": "stream",
     "text": [
      "Including Stop Words:\n"
     ]
    },
    {
     "data": {
      "text/plain": [
       "0.8016759776536313"
      ]
     },
     "execution_count": 11,
     "metadata": {},
     "output_type": "execute_result"
    },
    {
     "data": {
      "text/plain": [
       "array([[344,  13,  32,   0],\n",
       "       [  6, 364,  24,   0],\n",
       "       [  1,   5, 392,   0],\n",
       "       [  4,  12, 187,  48]], dtype=int64)"
      ]
     },
     "execution_count": 11,
     "metadata": {},
     "output_type": "execute_result"
    },
    {
     "name": "stdout",
     "output_type": "stream",
     "text": [
      "Excluding Stop Words:\n"
     ]
    },
    {
     "data": {
      "text/plain": [
       "0.8561452513966481"
      ]
     },
     "execution_count": 11,
     "metadata": {},
     "output_type": "execute_result"
    },
    {
     "data": {
      "text/plain": [
       "array([[367,  13,   9,   0],\n",
       "       [  9, 379,   6,   0],\n",
       "       [  2,   5, 389,   2],\n",
       "       [  5,  20, 135,  91]], dtype=int64)"
      ]
     },
     "execution_count": 11,
     "metadata": {},
     "output_type": "execute_result"
    }
   ],
   "source": [
    "print(\"Including Stop Words:\")\n",
    "accuracy_score(test.target, labels)\n",
    "mat1\n",
    "\n",
    "print(\"Excluding Stop Words:\")\n",
    "accuracy_score(test.target, labels2)\n",
    "mat2"
   ]
  },
  {
   "cell_type": "code",
   "execution_count": 12,
   "metadata": {},
   "outputs": [
    {
     "data": {
      "text/plain": [
       "<matplotlib.axes._subplots.AxesSubplot object at 0x0E96FB10>"
      ]
     },
     "execution_count": 12,
     "metadata": {},
     "output_type": "execute_result"
    },
    {
     "data": {
      "text/plain": [
       "Text(0.5, 16.0, 'true label')"
      ]
     },
     "execution_count": 12,
     "metadata": {},
     "output_type": "execute_result"
    },
    {
     "data": {
      "text/plain": [
       "Text(92.68, 0.5, 'predicted label')"
      ]
     },
     "execution_count": 12,
     "metadata": {},
     "output_type": "execute_result"
    },
    {
     "data": {
      "image/png": "[encoded data removed]",
      "text/plain": [
       "<Figure size 432x288 with 1 Axes>"
      ]
     },
     "metadata": {
      "needs_background": "light"
     },
     "output_type": "display_data"
    },
    {
     "data": {
      "text/plain": [
       "<matplotlib.axes._subplots.AxesSubplot object at 0x0E978F30>"
      ]
     },
     "execution_count": 12,
     "metadata": {},
     "output_type": "execute_result"
    },
    {
     "data": {
      "text/plain": [
       "Text(0.5, 16.0, 'true label')"
      ]
     },
     "execution_count": 12,
     "metadata": {},
     "output_type": "execute_result"
    },
    {
     "data": {
      "text/plain": [
       "Text(92.68, 0.5, 'predicted label')"
      ]
     },
     "execution_count": 12,
     "metadata": {},
     "output_type": "execute_result"
    },
    {
     "data": {
      "image/png": "[encoded data removed]",
      "text/plain": [
       "<Figure size 432x288 with 1 Axes>"
      ]
     },
     "metadata": {
      "needs_background": "light"
     },
     "output_type": "display_data"
    }
   ],
   "source": [
    "sns.heatmap(mat1.T, square=True, annot=True, fmt='d', cbar=False,\n",
    "            xticklabels=train.target_names, yticklabels=train.target_names)\n",
    "plt.xlabel('true label')\n",
    "plt.ylabel('predicted label')\n",
    "plt.show()\n",
    "\n",
    "sns.heatmap(mat2.T, square=True, annot=True, fmt='d', cbar=False,\n",
    "            xticklabels=train.target_names, yticklabels=train.target_names)\n",
    "plt.xlabel('true label')\n",
    "plt.ylabel('predicted label')\n",
    "plt.show()"
   ]
  },
  {
   "cell_type": "markdown",
   "metadata": {},
   "source": [
    "That got our accuracy score up about 5%! What if we change other things?"
   ]
  },
  {
   "cell_type": "code",
   "execution_count": 13,
   "metadata": {},
   "outputs": [
    {
     "data": {
      "text/plain": [
       "Pipeline(memory=None,\n",
       "     steps=[('tfidfvectorizer', TfidfVectorizer(analyzer='word', binary=False, decode_error='strict',\n",
       "        dtype=<class 'numpy.float64'>, encoding='utf-8', input='content',\n",
       "        lowercase=True, max_df=1.0, max_features=3000, min_df=1,\n",
       "        ngram_range=(1, 1), norm='l2', preprocessor=None, smooth...   vocabulary=None)), ('multinomialnb', MultinomialNB(alpha=1.0, class_prior=None, fit_prior=True))])"
      ]
     },
     "execution_count": 13,
     "metadata": {},
     "output_type": "execute_result"
    }
   ],
   "source": [
    "#Only include the top 3000 features\n",
    "model3 = make_pipeline(TfidfVectorizer(max_features = 3000), MultinomialNB())\n",
    "\n",
    "# train model\n",
    "model3.fit(train.data, train.target)\n",
    "\n",
    "# predict labels on test data\n",
    "labels3 = model3.predict(test.data)\n",
    "\n",
    "mat3 = confusion_matrix(test.target, labels3)"
   ]
  },
  {
   "cell_type": "code",
   "execution_count": 14,
   "metadata": {},
   "outputs": [
    {
     "data": {
      "text/plain": [
       "array([[373,   7,   7,   2],\n",
       "       [ 21, 366,   7,   0],\n",
       "       [  6,   3, 386,   3],\n",
       "       [  8,  16, 116, 111]], dtype=int64)"
      ]
     },
     "execution_count": 14,
     "metadata": {},
     "output_type": "execute_result"
    }
   ],
   "source": [
    "mat3"
   ]
  },
  {
   "cell_type": "code",
   "execution_count": 15,
   "metadata": {},
   "outputs": [
    {
     "data": {
      "text/plain": [
       "0.8631284916201117"
      ]
     },
     "execution_count": 15,
     "metadata": {},
     "output_type": "execute_result"
    }
   ],
   "source": [
    "accuracy_score(test.target, labels3)"
   ]
  },
  {
   "cell_type": "markdown",
   "metadata": {},
   "source": [
    "An even higher accuracy score! But what has changed in how it categorizes?"
   ]
  },
  {
   "cell_type": "code",
   "execution_count": 16,
   "metadata": {},
   "outputs": [
    {
     "data": {
      "text/plain": [
       "<matplotlib.axes._subplots.AxesSubplot object at 0x0EB2EE50>"
      ]
     },
     "execution_count": 16,
     "metadata": {},
     "output_type": "execute_result"
    },
    {
     "data": {
      "text/plain": [
       "Text(0.5, 16.0, 'true label')"
      ]
     },
     "execution_count": 16,
     "metadata": {},
     "output_type": "execute_result"
    },
    {
     "data": {
      "text/plain": [
       "Text(92.68, 0.5, 'predicted label')"
      ]
     },
     "execution_count": 16,
     "metadata": {},
     "output_type": "execute_result"
    },
    {
     "data": {
      "image/png": "[encoded data removed]",
      "text/plain": [
       "<Figure size 432x288 with 1 Axes>"
      ]
     },
     "metadata": {
      "needs_background": "light"
     },
     "output_type": "display_data"
    },
    {
     "data": {
      "text/plain": [
       "<matplotlib.axes._subplots.AxesSubplot object at 0x0EA0CCD0>"
      ]
     },
     "execution_count": 16,
     "metadata": {},
     "output_type": "execute_result"
    },
    {
     "data": {
      "text/plain": [
       "Text(0.5, 16.0, 'true label')"
      ]
     },
     "execution_count": 16,
     "metadata": {},
     "output_type": "execute_result"
    },
    {
     "data": {
      "text/plain": [
       "Text(92.68, 0.5, 'predicted label')"
      ]
     },
     "execution_count": 16,
     "metadata": {},
     "output_type": "execute_result"
    },
    {
     "data": {
      "image/png": "[encoded data removed]",
      "text/plain": [
       "<Figure size 432x288 with 1 Axes>"
      ]
     },
     "metadata": {
      "needs_background": "light"
     },
     "output_type": "display_data"
    }
   ],
   "source": [
    "sns.heatmap(mat2.T, square=True, annot=True, fmt='d', cbar=False,\n",
    "            xticklabels=train.target_names, yticklabels=train.target_names)\n",
    "plt.xlabel('true label')\n",
    "plt.ylabel('predicted label')\n",
    "plt.show()\n",
    "\n",
    "sns.heatmap(mat3.T, square=True, annot=True, fmt='d', cbar=False,\n",
    "            xticklabels=train.target_names, yticklabels=train.target_names)\n",
    "plt.xlabel('true label')\n",
    "plt.ylabel('predicted label')\n",
    "plt.show()"
   ]
  },
  {
   "cell_type": "markdown",
   "metadata": {},
   "source": [
    "Suggests that including too many features causes the classifier to take features into account that aren't truly relevant\n",
    "\n",
    "Porque no las dos?"
   ]
  },
  {
   "cell_type": "code",
   "execution_count": 17,
   "metadata": {},
   "outputs": [
    {
     "data": {
      "text/plain": [
       "Pipeline(memory=None,\n",
       "     steps=[('tfidfvectorizer', TfidfVectorizer(analyzer='word', binary=False, decode_error='strict',\n",
       "        dtype=<class 'numpy.float64'>, encoding='utf-8', input='content',\n",
       "        lowercase=True, max_df=1.0, max_features=3000, min_df=1,\n",
       "        ngram_range=(1, 1), norm='l2', preprocessor=None, smooth...   vocabulary=None)), ('multinomialnb', MultinomialNB(alpha=1.0, class_prior=None, fit_prior=True))])"
      ]
     },
     "execution_count": 17,
     "metadata": {},
     "output_type": "execute_result"
    }
   ],
   "source": [
    "model4 = make_pipeline(TfidfVectorizer(max_features = 3000, stop_words = 'english'), MultinomialNB())\n",
    "\n",
    "# train model\n",
    "model4.fit(train.data, train.target)\n",
    "\n",
    "# predict labels on test data\n",
    "labels4 = model4.predict(test.data)\n",
    "\n",
    "mat4 = confusion_matrix(test.target, labels4)"
   ]
  },
  {
   "cell_type": "code",
   "execution_count": 18,
   "metadata": {},
   "outputs": [
    {
     "data": {
      "text/plain": [
       "array([[375,   9,   3,   2],\n",
       "       [ 25, 368,   1,   0],\n",
       "       [  8,   4, 378,   8],\n",
       "       [ 10,  17,  85, 139]], dtype=int64)"
      ]
     },
     "execution_count": 18,
     "metadata": {},
     "output_type": "execute_result"
    },
    {
     "data": {
      "text/plain": [
       "0.8798882681564246"
      ]
     },
     "execution_count": 18,
     "metadata": {},
     "output_type": "execute_result"
    }
   ],
   "source": [
    "mat4\n",
    "accuracy_score(test.target, labels4)"
   ]
  },
  {
   "cell_type": "code",
   "execution_count": 19,
   "metadata": {},
   "outputs": [
    {
     "data": {
      "text/plain": [
       "(array([0, 1, 2, 3], dtype=int32), array([584, 593, 599, 377]))"
      ]
     },
     "execution_count": 19,
     "metadata": {},
     "output_type": "execute_result"
    }
   ],
   "source": [
    "# Wow! Now we're up to almost 88% accuracy! Recall, what was our baseline?\n",
    "np.unique(train.target, return_counts=True) #returns two arrays, one with value counts of each category"
   ]
  },
  {
   "cell_type": "code",
   "execution_count": 20,
   "metadata": {},
   "outputs": [
    {
     "data": {
      "text/plain": [
       "0.20499657768651608"
      ]
     },
     "execution_count": 20,
     "metadata": {},
     "output_type": "execute_result"
    }
   ],
   "source": [
    "599 / np.sum(train.target) # our baseline if we were looking purely based on frequency in our training data"
   ]
  },
  {
   "cell_type": "markdown",
   "metadata": {},
   "source": [
    "Maybe we think that 3000 features isn't nearly enough. What if I choose 50,000?"
   ]
  },
  {
   "cell_type": "code",
   "execution_count": 21,
   "metadata": {},
   "outputs": [
    {
     "data": {
      "text/plain": [
       "Pipeline(memory=None,\n",
       "     steps=[('tfidfvectorizer', TfidfVectorizer(analyzer='word', binary=False, decode_error='strict',\n",
       "        dtype=<class 'numpy.float64'>, encoding='utf-8', input='content',\n",
       "        lowercase=True, max_df=1.0, max_features=50000, min_df=1,\n",
       "        ngram_range=(1, 1), norm='l2', preprocessor=None, smoot...   vocabulary=None)), ('multinomialnb', MultinomialNB(alpha=1.0, class_prior=None, fit_prior=True))])"
      ]
     },
     "execution_count": 21,
     "metadata": {},
     "output_type": "execute_result"
    }
   ],
   "source": [
    "model5 = make_pipeline(TfidfVectorizer(max_features = 50000, stop_words = 'english'), MultinomialNB())\n",
    "\n",
    "# train model\n",
    "model5.fit(train.data, train.target)\n",
    "\n",
    "# predict labels on test data\n",
    "labels5 = model5.predict(test.data)\n",
    "\n",
    "mat5 = confusion_matrix(test.target, labels5)"
   ]
  },
  {
   "cell_type": "code",
   "execution_count": 22,
   "metadata": {},
   "outputs": [
    {
     "data": {
      "text/plain": [
       "0.8561452513966481"
      ]
     },
     "execution_count": 22,
     "metadata": {},
     "output_type": "execute_result"
    }
   ],
   "source": [
    "accuracy_score(test.target, labels5) # a lower accuracy score here..."
   ]
  },
  {
   "cell_type": "markdown",
   "metadata": {},
   "source": [
    "What about min_df and max_df?"
   ]
  },
  {
   "cell_type": "code",
   "execution_count": 23,
   "metadata": {},
   "outputs": [
    {
     "data": {
      "text/plain": [
       "Pipeline(memory=None,\n",
       "     steps=[('tfidfvectorizer', TfidfVectorizer(analyzer='word', binary=False, decode_error='strict',\n",
       "        dtype=<class 'numpy.float64'>, encoding='utf-8', input='content',\n",
       "        lowercase=True, max_df=1.0, max_features=None, min_df=0.5,\n",
       "        ngram_range=(1, 1), norm='l2', preprocessor=None, smoo...   vocabulary=None)), ('multinomialnb', MultinomialNB(alpha=1.0, class_prior=None, fit_prior=True))])"
      ]
     },
     "execution_count": 23,
     "metadata": {},
     "output_type": "execute_result"
    }
   ],
   "source": [
    "model6 = make_pipeline(TfidfVectorizer(min_df = 0.5, stop_words = 'english'), MultinomialNB())\n",
    "\n",
    "# train model\n",
    "model6.fit(train.data, train.target)\n",
    "\n",
    "# predict labels on test data\n",
    "labels6 = model6.predict(test.data)\n",
    "\n",
    "mat6 = confusion_matrix(test.target, labels6)"
   ]
  },
  {
   "cell_type": "code",
   "execution_count": 24,
   "metadata": {},
   "outputs": [
    {
     "data": {
      "text/plain": [
       "0.31075418994413406"
      ]
     },
     "execution_count": 24,
     "metadata": {},
     "output_type": "execute_result"
    }
   ],
   "source": [
    "accuracy_score(test.target, labels6) #uh oh..."
   ]
  },
  {
   "cell_type": "markdown",
   "metadata": {},
   "source": [
    "What happened? Recall what min_df DOES!\n",
    "Only looking at words that occur at least 50% of documents!?!? Motivation "
   ]
  },
  {
   "cell_type": "markdown",
   "metadata": {},
   "source": [
    "## Support Vector Classifier: an alternative\n",
    "\n",
    "Let's take a look at how well this does"
   ]
  },
  {
   "cell_type": "code",
   "execution_count": 25,
   "metadata": {},
   "outputs": [
    {
     "name": "stderr",
     "output_type": "stream",
     "text": [
      "c:\\users\\cassi\\appdata\\local\\programs\\python\\python36-32\\lib\\site-packages\\sklearn\\svm\\base.py:196: FutureWarning: The default value of gamma will change from 'auto' to 'scale' in version 0.22 to account better for unscaled features. Set gamma explicitly to 'auto' or 'scale' to avoid this warning.\n",
      "  \"avoid this warning.\", FutureWarning)\n"
     ]
    },
    {
     "data": {
      "text/plain": [
       "Pipeline(memory=None,\n",
       "     steps=[('tfidfvectorizer', TfidfVectorizer(analyzer='word', binary=False, decode_error='strict',\n",
       "        dtype=<class 'numpy.float64'>, encoding='utf-8', input='content',\n",
       "        lowercase=True, max_df=1.0, max_features=3000, min_df=1,\n",
       "        ngram_range=(1, 1), norm='l2', preprocessor=None, smooth...f', max_iter=-1, probability=False, random_state=None,\n",
       "  shrinking=True, tol=0.001, verbose=False))])"
      ]
     },
     "execution_count": 25,
     "metadata": {},
     "output_type": "execute_result"
    }
   ],
   "source": [
    "from sklearn.svm import SVC # \"Support vector classifier\"\n",
    "\n",
    "model = make_pipeline(TfidfVectorizer(max_features = 3000, stop_words = 'english'), SVC())\n",
    "# model = SVC(kernel='linear', C=1E5)  # 10^5: a large & hard margin\n",
    "                                     # keeps training accuracy high\n",
    "model.fit(train.data, train.target)"
   ]
  },
  {
   "cell_type": "code",
   "execution_count": 26,
   "metadata": {},
   "outputs": [
    {
     "data": {
      "text/plain": [
       "array([2, 2, 2, ..., 2, 2, 2], dtype=int32)"
      ]
     },
     "execution_count": 26,
     "metadata": {},
     "output_type": "execute_result"
    }
   ],
   "source": [
    "labels = model.predict(test.data)\n",
    "labels"
   ]
  },
  {
   "cell_type": "code",
   "execution_count": 27,
   "metadata": {},
   "outputs": [
    {
     "data": {
      "text/plain": [
       "0.2779329608938548"
      ]
     },
     "execution_count": 27,
     "metadata": {},
     "output_type": "execute_result"
    }
   ],
   "source": [
    "accuracy_score(test.target, labels) #oh my--that's awful! What happened?"
   ]
  },
  {
   "cell_type": "markdown",
   "metadata": {},
   "source": [
    "Let's take a look at SVC and what it does: https://scikit-learn.org/stable/modules/generated/sklearn.svm.SVC.html\n",
    "\n",
    "Was that really helpful for what it is? Good ol' Wikipedia: https://en.wikipedia.org/wiki/Support-vector_machine\n",
    "* Essentially, maps each category to a point in space based on features, then finds the optimal line to separate each category"
   ]
  },
  {
   "cell_type": "code",
   "execution_count": 28,
   "metadata": {},
   "outputs": [
    {
     "data": {
      "text/plain": [
       "Pipeline(memory=None,\n",
       "     steps=[('tfidfvectorizer', TfidfVectorizer(analyzer='word', binary=False, decode_error='strict',\n",
       "        dtype=<class 'numpy.float64'>, encoding='utf-8', input='content',\n",
       "        lowercase=True, max_df=1.0, max_features=3000, min_df=1,\n",
       "        ngram_range=(1, 1), norm='l2', preprocessor=None, smooth...f', max_iter=-1, probability=False, random_state=None,\n",
       "  shrinking=True, tol=0.001, verbose=False))])"
      ]
     },
     "execution_count": 28,
     "metadata": {},
     "output_type": "execute_result"
    }
   ],
   "source": [
    "model = make_pipeline(TfidfVectorizer(max_features = 3000, stop_words = 'english'), SVC(kernel='rbf', C=1E5))\n",
    "# model = SVC(kernel='linear', C=1E5)  # 10^5: a large & hard margin\n",
    "                                     # keeps training accuracy high\n",
    "model.fit(train.data, train.target)"
   ]
  },
  {
   "cell_type": "code",
   "execution_count": 29,
   "metadata": {},
   "outputs": [],
   "source": [
    "labels = model.predict(test.data)"
   ]
  },
  {
   "cell_type": "code",
   "execution_count": 30,
   "metadata": {},
   "outputs": [
    {
     "data": {
      "text/plain": [
       "array([[373,   7,   3,   6],\n",
       "       [ 15, 372,   5,   2],\n",
       "       [  4,   4, 366,  24],\n",
       "       [ 15,  16,  36, 184]], dtype=int64)"
      ]
     },
     "execution_count": 30,
     "metadata": {},
     "output_type": "execute_result"
    }
   ],
   "source": [
    "cm = confusion_matrix(test.target, labels)\n",
    "cm"
   ]
  },
  {
   "cell_type": "code",
   "execution_count": 31,
   "metadata": {},
   "outputs": [
    {
     "data": {
      "text/plain": [
       "0.9043296089385475"
      ]
     },
     "execution_count": 31,
     "metadata": {},
     "output_type": "execute_result"
    }
   ],
   "source": [
    "accuracy_score(test.target, labels) # A LOT better! What happened?"
   ]
  },
  {
   "cell_type": "code",
   "execution_count": 32,
   "metadata": {},
   "outputs": [
    {
     "data": {
      "text/plain": [
       "<matplotlib.axes._subplots.AxesSubplot object at 0x16559CD0>"
      ]
     },
     "execution_count": 32,
     "metadata": {},
     "output_type": "execute_result"
    },
    {
     "data": {
      "text/plain": [
       "Text(0.5, 16.0, 'true label')"
      ]
     },
     "execution_count": 32,
     "metadata": {},
     "output_type": "execute_result"
    },
    {
     "data": {
      "text/plain": [
       "Text(84.40000000000006, 0.5, 'predicted label')"
      ]
     },
     "execution_count": 32,
     "metadata": {},
     "output_type": "execute_result"
    },
    {
     "data": {
      "image/png": "[encoded data removed]",
      "text/plain": [
       "<Figure size 432x288 with 2 Axes>"
      ]
     },
     "metadata": {
      "needs_background": "light"
     },
     "output_type": "display_data"
    }
   ],
   "source": [
    "sns.heatmap(cm.T, square=True, annot=True, fmt='d', cbar=True, cmap=\"Reds\", \n",
    "            xticklabels=train.target_names, yticklabels=train.target_names)\n",
    "plt.xlabel('true label')\n",
    "plt.ylabel('predicted label')\n",
    "plt.show()"
   ]
  },
  {
   "cell_type": "markdown",
   "metadata": {},
   "source": [
    "How do these results differ from Multinomial Bayes? Look at the differences in confusion between christian texts and misc. religious texts..."
   ]
  },
  {
   "cell_type": "markdown",
   "metadata": {},
   "source": [
    "## Categorical Data\n",
    "\n",
    "Central Questions:\n",
    "* What data is truly categorical?\n",
    "* Can we put the data directly into a classifier for machine learning?"
   ]
  },
  {
   "cell_type": "code",
   "execution_count": 33,
   "metadata": {},
   "outputs": [],
   "source": [
    "# transfer file!\n",
    "essay_df = pd.read_pickle(r\"../../HW2-Repo-1/jevon/ets_corpus_essay_df.pkl\")"
   ]
  },
  {
   "cell_type": "code",
   "execution_count": 34,
   "metadata": {},
   "outputs": [
    {
     "data": {
      "text/html": [
       "<div>\n",
       "<style scoped>\n",
       "    .dataframe tbody tr th:only-of-type {\n",
       "        vertical-align: middle;\n",
       "    }\n",
       "\n",
       "    .dataframe tbody tr th {\n",
       "        vertical-align: top;\n",
       "    }\n",
       "\n",
       "    .dataframe thead th {\n",
       "        text-align: right;\n",
       "    }\n",
       "</style>\n",
       "<table border=\"1\" class=\"dataframe\">\n",
       "  <thead>\n",
       "    <tr style=\"text-align: right;\">\n",
       "      <th></th>\n",
       "      <th>Filename</th>\n",
       "      <th>Prompt</th>\n",
       "      <th>L1</th>\n",
       "      <th>Score</th>\n",
       "      <th>Partition</th>\n",
       "      <th>Text</th>\n",
       "      <th>Tokens</th>\n",
       "      <th>Token_count</th>\n",
       "      <th>Score123</th>\n",
       "      <th>Avg_slen</th>\n",
       "      <th>TTR</th>\n",
       "      <th>TTR2</th>\n",
       "      <th>Avg_wlen</th>\n",
       "      <th>Avg_google_kband</th>\n",
       "    </tr>\n",
       "  </thead>\n",
       "  <tbody>\n",
       "    <tr>\n",
       "      <td>0</td>\n",
       "      <td>88.txt</td>\n",
       "      <td>P6</td>\n",
       "      <td>KOR</td>\n",
       "      <td>high</td>\n",
       "      <td>DV</td>\n",
       "      <td>Some people might think that traveling in a gr...</td>\n",
       "      <td>[Some, people, might, think, that, traveling, ...</td>\n",
       "      <td>416</td>\n",
       "      <td>3</td>\n",
       "      <td>24.470588</td>\n",
       "      <td>0.367788</td>\n",
       "      <td>0.420</td>\n",
       "      <td>3.942708</td>\n",
       "      <td>1.539267</td>\n",
       "    </tr>\n",
       "    <tr>\n",
       "      <td>1</td>\n",
       "      <td>278.txt</td>\n",
       "      <td>P6</td>\n",
       "      <td>DEU</td>\n",
       "      <td>medium</td>\n",
       "      <td>TR</td>\n",
       "      <td>IThe importance and popularity of travelling i...</td>\n",
       "      <td>[IThe, importance, and, popularity, of, travel...</td>\n",
       "      <td>339</td>\n",
       "      <td>2</td>\n",
       "      <td>26.076923</td>\n",
       "      <td>0.365782</td>\n",
       "      <td>0.436</td>\n",
       "      <td>4.028037</td>\n",
       "      <td>1.438095</td>\n",
       "    </tr>\n",
       "    <tr>\n",
       "      <td>2</td>\n",
       "      <td>348.txt</td>\n",
       "      <td>P1</td>\n",
       "      <td>TUR</td>\n",
       "      <td>high</td>\n",
       "      <td>TR</td>\n",
       "      <td>It is an important decision, how to plan your ...</td>\n",
       "      <td>[It, is, an, important, decision, ,, how, to, ...</td>\n",
       "      <td>394</td>\n",
       "      <td>3</td>\n",
       "      <td>28.142857</td>\n",
       "      <td>0.479695</td>\n",
       "      <td>0.556</td>\n",
       "      <td>4.424581</td>\n",
       "      <td>1.844193</td>\n",
       "    </tr>\n",
       "    <tr>\n",
       "      <td>3</td>\n",
       "      <td>666.txt</td>\n",
       "      <td>P2</td>\n",
       "      <td>ZHO</td>\n",
       "      <td>medium</td>\n",
       "      <td>TR</td>\n",
       "      <td>Some people believe that young people can enjo...</td>\n",
       "      <td>[Some, people, believe, that, young, people, c...</td>\n",
       "      <td>379</td>\n",
       "      <td>2</td>\n",
       "      <td>27.071429</td>\n",
       "      <td>0.437995</td>\n",
       "      <td>0.532</td>\n",
       "      <td>4.133136</td>\n",
       "      <td>1.546828</td>\n",
       "    </tr>\n",
       "    <tr>\n",
       "      <td>4</td>\n",
       "      <td>733.txt</td>\n",
       "      <td>P6</td>\n",
       "      <td>TEL</td>\n",
       "      <td>medium</td>\n",
       "      <td>TR</td>\n",
       "      <td>Travelling is  usually considered as good recr...</td>\n",
       "      <td>[Travelling, is, usually, considered, as, good...</td>\n",
       "      <td>354</td>\n",
       "      <td>2</td>\n",
       "      <td>59.000000</td>\n",
       "      <td>0.418079</td>\n",
       "      <td>0.480</td>\n",
       "      <td>4.252976</td>\n",
       "      <td>1.733746</td>\n",
       "    </tr>\n",
       "  </tbody>\n",
       "</table>\n",
       "</div>"
      ],
      "text/plain": [
       "  Filename Prompt   L1   Score Partition  \\\n",
       "0   88.txt     P6  KOR    high        DV   \n",
       "1  278.txt     P6  DEU  medium        TR   \n",
       "2  348.txt     P1  TUR    high        TR   \n",
       "3  666.txt     P2  ZHO  medium        TR   \n",
       "4  733.txt     P6  TEL  medium        TR   \n",
       "\n",
       "                                                Text  \\\n",
       "0  Some people might think that traveling in a gr...   \n",
       "1  IThe importance and popularity of travelling i...   \n",
       "2  It is an important decision, how to plan your ...   \n",
       "3  Some people believe that young people can enjo...   \n",
       "4  Travelling is  usually considered as good recr...   \n",
       "\n",
       "                                              Tokens  Token_count Score123  \\\n",
       "0  [Some, people, might, think, that, traveling, ...          416        3   \n",
       "1  [IThe, importance, and, popularity, of, travel...          339        2   \n",
       "2  [It, is, an, important, decision, ,, how, to, ...          394        3   \n",
       "3  [Some, people, believe, that, young, people, c...          379        2   \n",
       "4  [Travelling, is, usually, considered, as, good...          354        2   \n",
       "\n",
       "    Avg_slen       TTR   TTR2  Avg_wlen  Avg_google_kband  \n",
       "0  24.470588  0.367788  0.420  3.942708          1.539267  \n",
       "1  26.076923  0.365782  0.436  4.028037          1.438095  \n",
       "2  28.142857  0.479695  0.556  4.424581          1.844193  \n",
       "3  27.071429  0.437995  0.532  4.133136          1.546828  \n",
       "4  59.000000  0.418079  0.480  4.252976          1.733746  "
      ]
     },
     "execution_count": 34,
     "metadata": {},
     "output_type": "execute_result"
    }
   ],
   "source": [
    "essay_df.head()"
   ]
  },
  {
   "cell_type": "markdown",
   "metadata": {},
   "source": [
    "Which columns contain categorical data?\n",
    "If a column contains categorical data, is it nominal or ordinal?\n",
    "\n",
    "#### Ordinal Categorial Data\n",
    "* Scores: low, medium, high\n",
    "    * 3 target labels (can be used as-is)\n",
    "    * to use them as a feature, must turn these into numbers (strings cannot be directly used as features)\n",
    "* Score123: 1, 2, or 3\n",
    "    * if treated as real numbers, a regression model is appropriate (continuous variables then must be binned)\n",
    "    * if treated as 3 discrete targets, can use a classification model with 3 target labels\n",
    "    \n",
    "#### Nominal Categorial Data\n",
    "* L1\n",
    "* Prompt\n",
    "    * Can both be used as targets as-is\n",
    "    * To be used as features, must be decomposed\n",
    "    \n",
    "#### Decomposing strings into a set of binary, independent features\n",
    "3 options\n",
    "1. Encode value labels as integers via LabelEncoder. THEN, map integer lables into set of binary-valued columns via OneHotEncoder\n",
    "2. Transform column of categorical data into set of dummy variables via pandas.get_dummies\n",
    "3. Use sparse vector format via DictVectorizer (in textbook)\n",
    "\n",
    "\n",
    "##### Option 1: LabelEncoder + OneHotEncoder"
   ]
  },
  {
   "cell_type": "code",
   "execution_count": 35,
   "metadata": {},
   "outputs": [],
   "source": [
    "from sklearn.preprocessing import LabelEncoder, OneHotEncoder"
   ]
  },
  {
   "cell_type": "code",
   "execution_count": 36,
   "metadata": {},
   "outputs": [
    {
     "data": {
      "text/html": [
       "<div>\n",
       "<style scoped>\n",
       "    .dataframe tbody tr th:only-of-type {\n",
       "        vertical-align: middle;\n",
       "    }\n",
       "\n",
       "    .dataframe tbody tr th {\n",
       "        vertical-align: top;\n",
       "    }\n",
       "\n",
       "    .dataframe thead th {\n",
       "        text-align: right;\n",
       "    }\n",
       "</style>\n",
       "<table border=\"1\" class=\"dataframe\">\n",
       "  <thead>\n",
       "    <tr style=\"text-align: right;\">\n",
       "      <th></th>\n",
       "      <th>Prompt</th>\n",
       "      <th>L1</th>\n",
       "      <th>Score</th>\n",
       "    </tr>\n",
       "  </thead>\n",
       "  <tbody>\n",
       "    <tr>\n",
       "      <td>12090</td>\n",
       "      <td>P6</td>\n",
       "      <td>HIN</td>\n",
       "      <td>medium</td>\n",
       "    </tr>\n",
       "    <tr>\n",
       "      <td>12091</td>\n",
       "      <td>P6</td>\n",
       "      <td>ZHO</td>\n",
       "      <td>medium</td>\n",
       "    </tr>\n",
       "    <tr>\n",
       "      <td>12092</td>\n",
       "      <td>P8</td>\n",
       "      <td>DEU</td>\n",
       "      <td>high</td>\n",
       "    </tr>\n",
       "    <tr>\n",
       "      <td>12093</td>\n",
       "      <td>P2</td>\n",
       "      <td>KOR</td>\n",
       "      <td>medium</td>\n",
       "    </tr>\n",
       "    <tr>\n",
       "      <td>12094</td>\n",
       "      <td>P7</td>\n",
       "      <td>JPN</td>\n",
       "      <td>medium</td>\n",
       "    </tr>\n",
       "    <tr>\n",
       "      <td>12095</td>\n",
       "      <td>P1</td>\n",
       "      <td>ZHO</td>\n",
       "      <td>medium</td>\n",
       "    </tr>\n",
       "    <tr>\n",
       "      <td>12096</td>\n",
       "      <td>P8</td>\n",
       "      <td>KOR</td>\n",
       "      <td>high</td>\n",
       "    </tr>\n",
       "    <tr>\n",
       "      <td>12097</td>\n",
       "      <td>P5</td>\n",
       "      <td>SPA</td>\n",
       "      <td>high</td>\n",
       "    </tr>\n",
       "    <tr>\n",
       "      <td>12098</td>\n",
       "      <td>P5</td>\n",
       "      <td>HIN</td>\n",
       "      <td>high</td>\n",
       "    </tr>\n",
       "    <tr>\n",
       "      <td>12099</td>\n",
       "      <td>P1</td>\n",
       "      <td>ZHO</td>\n",
       "      <td>medium</td>\n",
       "    </tr>\n",
       "  </tbody>\n",
       "</table>\n",
       "</div>"
      ],
      "text/plain": [
       "      Prompt   L1   Score\n",
       "12090     P6  HIN  medium\n",
       "12091     P6  ZHO  medium\n",
       "12092     P8  DEU    high\n",
       "12093     P2  KOR  medium\n",
       "12094     P7  JPN  medium\n",
       "12095     P1  ZHO  medium\n",
       "12096     P8  KOR    high\n",
       "12097     P5  SPA    high\n",
       "12098     P5  HIN    high\n",
       "12099     P1  ZHO  medium"
      ]
     },
     "execution_count": 36,
     "metadata": {},
     "output_type": "execute_result"
    }
   ],
   "source": [
    "mini = essay_df[-10:][['Prompt', 'L1', 'Score']]\n",
    "mini\n",
    "# 6 different L1 represented."
   ]
  },
  {
   "cell_type": "code",
   "execution_count": 37,
   "metadata": {},
   "outputs": [
    {
     "data": {
      "text/plain": [
       "LabelEncoder()"
      ]
     },
     "execution_count": 37,
     "metadata": {},
     "output_type": "execute_result"
    },
    {
     "data": {
      "text/plain": [
       "array([1, 5, 0, 3, 2, 5, 3, 4, 1, 5])"
      ]
     },
     "execution_count": 37,
     "metadata": {},
     "output_type": "execute_result"
    }
   ],
   "source": [
    "# Maps string values to integers. \n",
    "lenc = LabelEncoder()\n",
    "lenc.fit(mini['L1'])\n",
    "lenc.transform(mini['L1'])"
   ]
  },
  {
   "cell_type": "code",
   "execution_count": 38,
   "metadata": {},
   "outputs": [
    {
     "data": {
      "text/html": [
       "<div>\n",
       "<style scoped>\n",
       "    .dataframe tbody tr th:only-of-type {\n",
       "        vertical-align: middle;\n",
       "    }\n",
       "\n",
       "    .dataframe tbody tr th {\n",
       "        vertical-align: top;\n",
       "    }\n",
       "\n",
       "    .dataframe thead th {\n",
       "        text-align: right;\n",
       "    }\n",
       "</style>\n",
       "<table border=\"1\" class=\"dataframe\">\n",
       "  <thead>\n",
       "    <tr style=\"text-align: right;\">\n",
       "      <th></th>\n",
       "      <th>Prompt</th>\n",
       "      <th>L1</th>\n",
       "      <th>Score</th>\n",
       "    </tr>\n",
       "  </thead>\n",
       "  <tbody>\n",
       "    <tr>\n",
       "      <td>12090</td>\n",
       "      <td>P6</td>\n",
       "      <td>1</td>\n",
       "      <td>medium</td>\n",
       "    </tr>\n",
       "    <tr>\n",
       "      <td>12091</td>\n",
       "      <td>P6</td>\n",
       "      <td>5</td>\n",
       "      <td>medium</td>\n",
       "    </tr>\n",
       "    <tr>\n",
       "      <td>12092</td>\n",
       "      <td>P8</td>\n",
       "      <td>0</td>\n",
       "      <td>high</td>\n",
       "    </tr>\n",
       "    <tr>\n",
       "      <td>12093</td>\n",
       "      <td>P2</td>\n",
       "      <td>3</td>\n",
       "      <td>medium</td>\n",
       "    </tr>\n",
       "    <tr>\n",
       "      <td>12094</td>\n",
       "      <td>P7</td>\n",
       "      <td>2</td>\n",
       "      <td>medium</td>\n",
       "    </tr>\n",
       "    <tr>\n",
       "      <td>12095</td>\n",
       "      <td>P1</td>\n",
       "      <td>5</td>\n",
       "      <td>medium</td>\n",
       "    </tr>\n",
       "    <tr>\n",
       "      <td>12096</td>\n",
       "      <td>P8</td>\n",
       "      <td>3</td>\n",
       "      <td>high</td>\n",
       "    </tr>\n",
       "    <tr>\n",
       "      <td>12097</td>\n",
       "      <td>P5</td>\n",
       "      <td>4</td>\n",
       "      <td>high</td>\n",
       "    </tr>\n",
       "    <tr>\n",
       "      <td>12098</td>\n",
       "      <td>P5</td>\n",
       "      <td>1</td>\n",
       "      <td>high</td>\n",
       "    </tr>\n",
       "    <tr>\n",
       "      <td>12099</td>\n",
       "      <td>P1</td>\n",
       "      <td>5</td>\n",
       "      <td>medium</td>\n",
       "    </tr>\n",
       "  </tbody>\n",
       "</table>\n",
       "</div>"
      ],
      "text/plain": [
       "      Prompt  L1   Score\n",
       "12090     P6   1  medium\n",
       "12091     P6   5  medium\n",
       "12092     P8   0    high\n",
       "12093     P2   3  medium\n",
       "12094     P7   2  medium\n",
       "12095     P1   5  medium\n",
       "12096     P8   3    high\n",
       "12097     P5   4    high\n",
       "12098     P5   1    high\n",
       "12099     P1   5  medium"
      ]
     },
     "execution_count": 38,
     "metadata": {},
     "output_type": "execute_result"
    }
   ],
   "source": [
    "mini['L1'] = lenc.transform(mini['L1'])\n",
    "mini"
   ]
  },
  {
   "cell_type": "code",
   "execution_count": 39,
   "metadata": {},
   "outputs": [
    {
     "name": "stderr",
     "output_type": "stream",
     "text": [
      "c:\\users\\cassi\\appdata\\local\\programs\\python\\python36-32\\lib\\site-packages\\sklearn\\preprocessing\\_encoders.py:368: FutureWarning: The handling of integer data will change in version 0.22. Currently, the categories are determined based on the range [0, max(values)], while in the future they will be determined based on the unique values.\n",
      "If you want the future behaviour and silence this warning, you can specify \"categories='auto'\".\n",
      "In case you used a LabelEncoder before this OneHotEncoder to convert the categories to integers, then you can now use the OneHotEncoder directly.\n",
      "  warnings.warn(msg, FutureWarning)\n"
     ]
    },
    {
     "data": {
      "text/plain": [
       "array([[0., 1., 0., 0., 0., 0.],\n",
       "       [0., 0., 0., 0., 0., 1.],\n",
       "       [1., 0., 0., 0., 0., 0.],\n",
       "       [0., 0., 0., 1., 0., 0.],\n",
       "       [0., 0., 1., 0., 0., 0.],\n",
       "       [0., 0., 0., 0., 0., 1.],\n",
       "       [0., 0., 0., 1., 0., 0.],\n",
       "       [0., 0., 0., 0., 1., 0.],\n",
       "       [0., 1., 0., 0., 0., 0.],\n",
       "       [0., 0., 0., 0., 0., 1.]])"
      ]
     },
     "execution_count": 39,
     "metadata": {},
     "output_type": "execute_result"
    }
   ],
   "source": [
    "# Turns multi-valued L1 column into 6 columns of binary values, \n",
    "#     in sparse vector format. \n",
    "ohenc = OneHotEncoder()\n",
    "\n",
    "# In sparse vector, but small enough to cast to array\n",
    "ohenc.fit_transform(mini[['L1']]).toarray()"
   ]
  },
  {
   "cell_type": "markdown",
   "metadata": {},
   "source": [
    "##### Option 2: Use pandas.get_dummies"
   ]
  },
  {
   "cell_type": "code",
   "execution_count": 40,
   "metadata": {},
   "outputs": [
    {
     "data": {
      "text/html": [
       "<div>\n",
       "<style scoped>\n",
       "    .dataframe tbody tr th:only-of-type {\n",
       "        vertical-align: middle;\n",
       "    }\n",
       "\n",
       "    .dataframe tbody tr th {\n",
       "        vertical-align: top;\n",
       "    }\n",
       "\n",
       "    .dataframe thead th {\n",
       "        text-align: right;\n",
       "    }\n",
       "</style>\n",
       "<table border=\"1\" class=\"dataframe\">\n",
       "  <thead>\n",
       "    <tr style=\"text-align: right;\">\n",
       "      <th></th>\n",
       "      <th>Prompt</th>\n",
       "      <th>L1</th>\n",
       "      <th>Score</th>\n",
       "    </tr>\n",
       "  </thead>\n",
       "  <tbody>\n",
       "    <tr>\n",
       "      <td>12090</td>\n",
       "      <td>P6</td>\n",
       "      <td>HIN</td>\n",
       "      <td>medium</td>\n",
       "    </tr>\n",
       "    <tr>\n",
       "      <td>12091</td>\n",
       "      <td>P6</td>\n",
       "      <td>ZHO</td>\n",
       "      <td>medium</td>\n",
       "    </tr>\n",
       "    <tr>\n",
       "      <td>12092</td>\n",
       "      <td>P8</td>\n",
       "      <td>DEU</td>\n",
       "      <td>high</td>\n",
       "    </tr>\n",
       "    <tr>\n",
       "      <td>12093</td>\n",
       "      <td>P2</td>\n",
       "      <td>KOR</td>\n",
       "      <td>medium</td>\n",
       "    </tr>\n",
       "    <tr>\n",
       "      <td>12094</td>\n",
       "      <td>P7</td>\n",
       "      <td>JPN</td>\n",
       "      <td>medium</td>\n",
       "    </tr>\n",
       "    <tr>\n",
       "      <td>12095</td>\n",
       "      <td>P1</td>\n",
       "      <td>ZHO</td>\n",
       "      <td>medium</td>\n",
       "    </tr>\n",
       "    <tr>\n",
       "      <td>12096</td>\n",
       "      <td>P8</td>\n",
       "      <td>KOR</td>\n",
       "      <td>high</td>\n",
       "    </tr>\n",
       "    <tr>\n",
       "      <td>12097</td>\n",
       "      <td>P5</td>\n",
       "      <td>SPA</td>\n",
       "      <td>high</td>\n",
       "    </tr>\n",
       "    <tr>\n",
       "      <td>12098</td>\n",
       "      <td>P5</td>\n",
       "      <td>HIN</td>\n",
       "      <td>high</td>\n",
       "    </tr>\n",
       "    <tr>\n",
       "      <td>12099</td>\n",
       "      <td>P1</td>\n",
       "      <td>ZHO</td>\n",
       "      <td>medium</td>\n",
       "    </tr>\n",
       "  </tbody>\n",
       "</table>\n",
       "</div>"
      ],
      "text/plain": [
       "      Prompt   L1   Score\n",
       "12090     P6  HIN  medium\n",
       "12091     P6  ZHO  medium\n",
       "12092     P8  DEU    high\n",
       "12093     P2  KOR  medium\n",
       "12094     P7  JPN  medium\n",
       "12095     P1  ZHO  medium\n",
       "12096     P8  KOR    high\n",
       "12097     P5  SPA    high\n",
       "12098     P5  HIN    high\n",
       "12099     P1  ZHO  medium"
      ]
     },
     "execution_count": 40,
     "metadata": {},
     "output_type": "execute_result"
    }
   ],
   "source": [
    "# Re-build mini DF\n",
    "mini = essay_df[-10:][['Prompt', 'L1', 'Score']]\n",
    "mini"
   ]
  },
  {
   "cell_type": "code",
   "execution_count": 41,
   "metadata": {},
   "outputs": [
    {
     "data": {
      "text/html": [
       "<div>\n",
       "<style scoped>\n",
       "    .dataframe tbody tr th:only-of-type {\n",
       "        vertical-align: middle;\n",
       "    }\n",
       "\n",
       "    .dataframe tbody tr th {\n",
       "        vertical-align: top;\n",
       "    }\n",
       "\n",
       "    .dataframe thead th {\n",
       "        text-align: right;\n",
       "    }\n",
       "</style>\n",
       "<table border=\"1\" class=\"dataframe\">\n",
       "  <thead>\n",
       "    <tr style=\"text-align: right;\">\n",
       "      <th></th>\n",
       "      <th>Prompt</th>\n",
       "      <th>Score</th>\n",
       "      <th>L1_DEU</th>\n",
       "      <th>L1_HIN</th>\n",
       "      <th>L1_JPN</th>\n",
       "      <th>L1_KOR</th>\n",
       "      <th>L1_SPA</th>\n",
       "      <th>L1_ZHO</th>\n",
       "    </tr>\n",
       "  </thead>\n",
       "  <tbody>\n",
       "    <tr>\n",
       "      <td>12090</td>\n",
       "      <td>P6</td>\n",
       "      <td>medium</td>\n",
       "      <td>0</td>\n",
       "      <td>1</td>\n",
       "      <td>0</td>\n",
       "      <td>0</td>\n",
       "      <td>0</td>\n",
       "      <td>0</td>\n",
       "    </tr>\n",
       "    <tr>\n",
       "      <td>12091</td>\n",
       "      <td>P6</td>\n",
       "      <td>medium</td>\n",
       "      <td>0</td>\n",
       "      <td>0</td>\n",
       "      <td>0</td>\n",
       "      <td>0</td>\n",
       "      <td>0</td>\n",
       "      <td>1</td>\n",
       "    </tr>\n",
       "    <tr>\n",
       "      <td>12092</td>\n",
       "      <td>P8</td>\n",
       "      <td>high</td>\n",
       "      <td>1</td>\n",
       "      <td>0</td>\n",
       "      <td>0</td>\n",
       "      <td>0</td>\n",
       "      <td>0</td>\n",
       "      <td>0</td>\n",
       "    </tr>\n",
       "    <tr>\n",
       "      <td>12093</td>\n",
       "      <td>P2</td>\n",
       "      <td>medium</td>\n",
       "      <td>0</td>\n",
       "      <td>0</td>\n",
       "      <td>0</td>\n",
       "      <td>1</td>\n",
       "      <td>0</td>\n",
       "      <td>0</td>\n",
       "    </tr>\n",
       "    <tr>\n",
       "      <td>12094</td>\n",
       "      <td>P7</td>\n",
       "      <td>medium</td>\n",
       "      <td>0</td>\n",
       "      <td>0</td>\n",
       "      <td>1</td>\n",
       "      <td>0</td>\n",
       "      <td>0</td>\n",
       "      <td>0</td>\n",
       "    </tr>\n",
       "    <tr>\n",
       "      <td>12095</td>\n",
       "      <td>P1</td>\n",
       "      <td>medium</td>\n",
       "      <td>0</td>\n",
       "      <td>0</td>\n",
       "      <td>0</td>\n",
       "      <td>0</td>\n",
       "      <td>0</td>\n",
       "      <td>1</td>\n",
       "    </tr>\n",
       "    <tr>\n",
       "      <td>12096</td>\n",
       "      <td>P8</td>\n",
       "      <td>high</td>\n",
       "      <td>0</td>\n",
       "      <td>0</td>\n",
       "      <td>0</td>\n",
       "      <td>1</td>\n",
       "      <td>0</td>\n",
       "      <td>0</td>\n",
       "    </tr>\n",
       "    <tr>\n",
       "      <td>12097</td>\n",
       "      <td>P5</td>\n",
       "      <td>high</td>\n",
       "      <td>0</td>\n",
       "      <td>0</td>\n",
       "      <td>0</td>\n",
       "      <td>0</td>\n",
       "      <td>1</td>\n",
       "      <td>0</td>\n",
       "    </tr>\n",
       "    <tr>\n",
       "      <td>12098</td>\n",
       "      <td>P5</td>\n",
       "      <td>high</td>\n",
       "      <td>0</td>\n",
       "      <td>1</td>\n",
       "      <td>0</td>\n",
       "      <td>0</td>\n",
       "      <td>0</td>\n",
       "      <td>0</td>\n",
       "    </tr>\n",
       "    <tr>\n",
       "      <td>12099</td>\n",
       "      <td>P1</td>\n",
       "      <td>medium</td>\n",
       "      <td>0</td>\n",
       "      <td>0</td>\n",
       "      <td>0</td>\n",
       "      <td>0</td>\n",
       "      <td>0</td>\n",
       "      <td>1</td>\n",
       "    </tr>\n",
       "  </tbody>\n",
       "</table>\n",
       "</div>"
      ],
      "text/plain": [
       "      Prompt   Score  L1_DEU  L1_HIN  L1_JPN  L1_KOR  L1_SPA  L1_ZHO\n",
       "12090     P6  medium       0       1       0       0       0       0\n",
       "12091     P6  medium       0       0       0       0       0       1\n",
       "12092     P8    high       1       0       0       0       0       0\n",
       "12093     P2  medium       0       0       0       1       0       0\n",
       "12094     P7  medium       0       0       1       0       0       0\n",
       "12095     P1  medium       0       0       0       0       0       1\n",
       "12096     P8    high       0       0       0       1       0       0\n",
       "12097     P5    high       0       0       0       0       1       0\n",
       "12098     P5    high       0       1       0       0       0       0\n",
       "12099     P1  medium       0       0       0       0       0       1"
      ]
     },
     "execution_count": 41,
     "metadata": {},
     "output_type": "execute_result"
    }
   ],
   "source": [
    "# Decomposes L1 column into 6 binary columns. \n",
    "pd.get_dummies(mini, columns=['L1'])"
   ]
  },
  {
   "cell_type": "code",
   "execution_count": 42,
   "metadata": {},
   "outputs": [
    {
     "data": {
      "text/html": [
       "<div>\n",
       "<style scoped>\n",
       "    .dataframe tbody tr th:only-of-type {\n",
       "        vertical-align: middle;\n",
       "    }\n",
       "\n",
       "    .dataframe tbody tr th {\n",
       "        vertical-align: top;\n",
       "    }\n",
       "\n",
       "    .dataframe thead th {\n",
       "        text-align: right;\n",
       "    }\n",
       "</style>\n",
       "<table border=\"1\" class=\"dataframe\">\n",
       "  <thead>\n",
       "    <tr style=\"text-align: right;\">\n",
       "      <th></th>\n",
       "      <th>Score</th>\n",
       "      <th>Prompt_P1</th>\n",
       "      <th>Prompt_P2</th>\n",
       "      <th>Prompt_P5</th>\n",
       "      <th>Prompt_P6</th>\n",
       "      <th>Prompt_P7</th>\n",
       "      <th>Prompt_P8</th>\n",
       "      <th>L1_DEU</th>\n",
       "      <th>L1_HIN</th>\n",
       "      <th>L1_JPN</th>\n",
       "      <th>L1_KOR</th>\n",
       "      <th>L1_SPA</th>\n",
       "      <th>L1_ZHO</th>\n",
       "    </tr>\n",
       "  </thead>\n",
       "  <tbody>\n",
       "    <tr>\n",
       "      <td>12090</td>\n",
       "      <td>medium</td>\n",
       "      <td>0</td>\n",
       "      <td>0</td>\n",
       "      <td>0</td>\n",
       "      <td>1</td>\n",
       "      <td>0</td>\n",
       "      <td>0</td>\n",
       "      <td>0</td>\n",
       "      <td>1</td>\n",
       "      <td>0</td>\n",
       "      <td>0</td>\n",
       "      <td>0</td>\n",
       "      <td>0</td>\n",
       "    </tr>\n",
       "    <tr>\n",
       "      <td>12091</td>\n",
       "      <td>medium</td>\n",
       "      <td>0</td>\n",
       "      <td>0</td>\n",
       "      <td>0</td>\n",
       "      <td>1</td>\n",
       "      <td>0</td>\n",
       "      <td>0</td>\n",
       "      <td>0</td>\n",
       "      <td>0</td>\n",
       "      <td>0</td>\n",
       "      <td>0</td>\n",
       "      <td>0</td>\n",
       "      <td>1</td>\n",
       "    </tr>\n",
       "    <tr>\n",
       "      <td>12092</td>\n",
       "      <td>high</td>\n",
       "      <td>0</td>\n",
       "      <td>0</td>\n",
       "      <td>0</td>\n",
       "      <td>0</td>\n",
       "      <td>0</td>\n",
       "      <td>1</td>\n",
       "      <td>1</td>\n",
       "      <td>0</td>\n",
       "      <td>0</td>\n",
       "      <td>0</td>\n",
       "      <td>0</td>\n",
       "      <td>0</td>\n",
       "    </tr>\n",
       "    <tr>\n",
       "      <td>12093</td>\n",
       "      <td>medium</td>\n",
       "      <td>0</td>\n",
       "      <td>1</td>\n",
       "      <td>0</td>\n",
       "      <td>0</td>\n",
       "      <td>0</td>\n",
       "      <td>0</td>\n",
       "      <td>0</td>\n",
       "      <td>0</td>\n",
       "      <td>0</td>\n",
       "      <td>1</td>\n",
       "      <td>0</td>\n",
       "      <td>0</td>\n",
       "    </tr>\n",
       "    <tr>\n",
       "      <td>12094</td>\n",
       "      <td>medium</td>\n",
       "      <td>0</td>\n",
       "      <td>0</td>\n",
       "      <td>0</td>\n",
       "      <td>0</td>\n",
       "      <td>1</td>\n",
       "      <td>0</td>\n",
       "      <td>0</td>\n",
       "      <td>0</td>\n",
       "      <td>1</td>\n",
       "      <td>0</td>\n",
       "      <td>0</td>\n",
       "      <td>0</td>\n",
       "    </tr>\n",
       "    <tr>\n",
       "      <td>12095</td>\n",
       "      <td>medium</td>\n",
       "      <td>1</td>\n",
       "      <td>0</td>\n",
       "      <td>0</td>\n",
       "      <td>0</td>\n",
       "      <td>0</td>\n",
       "      <td>0</td>\n",
       "      <td>0</td>\n",
       "      <td>0</td>\n",
       "      <td>0</td>\n",
       "      <td>0</td>\n",
       "      <td>0</td>\n",
       "      <td>1</td>\n",
       "    </tr>\n",
       "    <tr>\n",
       "      <td>12096</td>\n",
       "      <td>high</td>\n",
       "      <td>0</td>\n",
       "      <td>0</td>\n",
       "      <td>0</td>\n",
       "      <td>0</td>\n",
       "      <td>0</td>\n",
       "      <td>1</td>\n",
       "      <td>0</td>\n",
       "      <td>0</td>\n",
       "      <td>0</td>\n",
       "      <td>1</td>\n",
       "      <td>0</td>\n",
       "      <td>0</td>\n",
       "    </tr>\n",
       "    <tr>\n",
       "      <td>12097</td>\n",
       "      <td>high</td>\n",
       "      <td>0</td>\n",
       "      <td>0</td>\n",
       "      <td>1</td>\n",
       "      <td>0</td>\n",
       "      <td>0</td>\n",
       "      <td>0</td>\n",
       "      <td>0</td>\n",
       "      <td>0</td>\n",
       "      <td>0</td>\n",
       "      <td>0</td>\n",
       "      <td>1</td>\n",
       "      <td>0</td>\n",
       "    </tr>\n",
       "    <tr>\n",
       "      <td>12098</td>\n",
       "      <td>high</td>\n",
       "      <td>0</td>\n",
       "      <td>0</td>\n",
       "      <td>1</td>\n",
       "      <td>0</td>\n",
       "      <td>0</td>\n",
       "      <td>0</td>\n",
       "      <td>0</td>\n",
       "      <td>1</td>\n",
       "      <td>0</td>\n",
       "      <td>0</td>\n",
       "      <td>0</td>\n",
       "      <td>0</td>\n",
       "    </tr>\n",
       "    <tr>\n",
       "      <td>12099</td>\n",
       "      <td>medium</td>\n",
       "      <td>1</td>\n",
       "      <td>0</td>\n",
       "      <td>0</td>\n",
       "      <td>0</td>\n",
       "      <td>0</td>\n",
       "      <td>0</td>\n",
       "      <td>0</td>\n",
       "      <td>0</td>\n",
       "      <td>0</td>\n",
       "      <td>0</td>\n",
       "      <td>0</td>\n",
       "      <td>1</td>\n",
       "    </tr>\n",
       "  </tbody>\n",
       "</table>\n",
       "</div>"
      ],
      "text/plain": [
       "        Score  Prompt_P1  Prompt_P2  Prompt_P5  Prompt_P6  Prompt_P7  \\\n",
       "12090  medium          0          0          0          1          0   \n",
       "12091  medium          0          0          0          1          0   \n",
       "12092    high          0          0          0          0          0   \n",
       "12093  medium          0          1          0          0          0   \n",
       "12094  medium          0          0          0          0          1   \n",
       "12095  medium          1          0          0          0          0   \n",
       "12096    high          0          0          0          0          0   \n",
       "12097    high          0          0          1          0          0   \n",
       "12098    high          0          0          1          0          0   \n",
       "12099  medium          1          0          0          0          0   \n",
       "\n",
       "       Prompt_P8  L1_DEU  L1_HIN  L1_JPN  L1_KOR  L1_SPA  L1_ZHO  \n",
       "12090          0       0       1       0       0       0       0  \n",
       "12091          0       0       0       0       0       0       1  \n",
       "12092          1       1       0       0       0       0       0  \n",
       "12093          0       0       0       0       1       0       0  \n",
       "12094          0       0       0       1       0       0       0  \n",
       "12095          0       0       0       0       0       0       1  \n",
       "12096          1       0       0       0       1       0       0  \n",
       "12097          0       0       0       0       0       1       0  \n",
       "12098          0       0       1       0       0       0       0  \n",
       "12099          0       0       0       0       0       0       1  "
      ]
     },
     "execution_count": 42,
     "metadata": {},
     "output_type": "execute_result"
    }
   ],
   "source": [
    "# Decomposition on both Prompt and L1.  \n",
    "pd.get_dummies(mini, columns=['Prompt', 'L1'])\n",
    "\n",
    "# Works, looking tidy, but lots of wasted space with 0s\n",
    "# It would be more efficient to use a sparse vector..."
   ]
  },
  {
   "cell_type": "markdown",
   "metadata": {},
   "source": [
    "Looks good...but there's something wrong here..."
   ]
  },
  {
   "cell_type": "markdown",
   "metadata": {},
   "source": [
    "### The Dummy Variable Trap\n",
    "* Recall, we want these features to be INDEPENDENT\n",
    "* For Prompt and L1, there's one redundant column\n",
    "    * If all others are labeled, can predict the last L1 or prompt based on the others\n",
    "    \n",
    "This is *multi-collinearity* and causes problems in certain machine learning models (not to mention you don't want to enter redundant info in general)\n",
    "\n",
    "We must REMOVE a column for each feature category. For more info, see https://shanlodh.wordpress.com/2018/03/05/beward-silent-multi-collinearity-from-dummy-variables-in-sklearn/"
   ]
  },
  {
   "cell_type": "code",
   "execution_count": 43,
   "metadata": {},
   "outputs": [
    {
     "data": {
      "text/html": [
       "<div>\n",
       "<style scoped>\n",
       "    .dataframe tbody tr th:only-of-type {\n",
       "        vertical-align: middle;\n",
       "    }\n",
       "\n",
       "    .dataframe tbody tr th {\n",
       "        vertical-align: top;\n",
       "    }\n",
       "\n",
       "    .dataframe thead th {\n",
       "        text-align: right;\n",
       "    }\n",
       "</style>\n",
       "<table border=\"1\" class=\"dataframe\">\n",
       "  <thead>\n",
       "    <tr style=\"text-align: right;\">\n",
       "      <th></th>\n",
       "      <th>Score</th>\n",
       "      <th>Prompt_P2</th>\n",
       "      <th>Prompt_P5</th>\n",
       "      <th>Prompt_P6</th>\n",
       "      <th>Prompt_P7</th>\n",
       "      <th>Prompt_P8</th>\n",
       "      <th>L1_HIN</th>\n",
       "      <th>L1_JPN</th>\n",
       "      <th>L1_KOR</th>\n",
       "      <th>L1_SPA</th>\n",
       "      <th>L1_ZHO</th>\n",
       "    </tr>\n",
       "  </thead>\n",
       "  <tbody>\n",
       "    <tr>\n",
       "      <td>12090</td>\n",
       "      <td>medium</td>\n",
       "      <td>0</td>\n",
       "      <td>0</td>\n",
       "      <td>1</td>\n",
       "      <td>0</td>\n",
       "      <td>0</td>\n",
       "      <td>1</td>\n",
       "      <td>0</td>\n",
       "      <td>0</td>\n",
       "      <td>0</td>\n",
       "      <td>0</td>\n",
       "    </tr>\n",
       "    <tr>\n",
       "      <td>12091</td>\n",
       "      <td>medium</td>\n",
       "      <td>0</td>\n",
       "      <td>0</td>\n",
       "      <td>1</td>\n",
       "      <td>0</td>\n",
       "      <td>0</td>\n",
       "      <td>0</td>\n",
       "      <td>0</td>\n",
       "      <td>0</td>\n",
       "      <td>0</td>\n",
       "      <td>1</td>\n",
       "    </tr>\n",
       "    <tr>\n",
       "      <td>12092</td>\n",
       "      <td>high</td>\n",
       "      <td>0</td>\n",
       "      <td>0</td>\n",
       "      <td>0</td>\n",
       "      <td>0</td>\n",
       "      <td>1</td>\n",
       "      <td>0</td>\n",
       "      <td>0</td>\n",
       "      <td>0</td>\n",
       "      <td>0</td>\n",
       "      <td>0</td>\n",
       "    </tr>\n",
       "    <tr>\n",
       "      <td>12093</td>\n",
       "      <td>medium</td>\n",
       "      <td>1</td>\n",
       "      <td>0</td>\n",
       "      <td>0</td>\n",
       "      <td>0</td>\n",
       "      <td>0</td>\n",
       "      <td>0</td>\n",
       "      <td>0</td>\n",
       "      <td>1</td>\n",
       "      <td>0</td>\n",
       "      <td>0</td>\n",
       "    </tr>\n",
       "    <tr>\n",
       "      <td>12094</td>\n",
       "      <td>medium</td>\n",
       "      <td>0</td>\n",
       "      <td>0</td>\n",
       "      <td>0</td>\n",
       "      <td>1</td>\n",
       "      <td>0</td>\n",
       "      <td>0</td>\n",
       "      <td>1</td>\n",
       "      <td>0</td>\n",
       "      <td>0</td>\n",
       "      <td>0</td>\n",
       "    </tr>\n",
       "    <tr>\n",
       "      <td>12095</td>\n",
       "      <td>medium</td>\n",
       "      <td>0</td>\n",
       "      <td>0</td>\n",
       "      <td>0</td>\n",
       "      <td>0</td>\n",
       "      <td>0</td>\n",
       "      <td>0</td>\n",
       "      <td>0</td>\n",
       "      <td>0</td>\n",
       "      <td>0</td>\n",
       "      <td>1</td>\n",
       "    </tr>\n",
       "    <tr>\n",
       "      <td>12096</td>\n",
       "      <td>high</td>\n",
       "      <td>0</td>\n",
       "      <td>0</td>\n",
       "      <td>0</td>\n",
       "      <td>0</td>\n",
       "      <td>1</td>\n",
       "      <td>0</td>\n",
       "      <td>0</td>\n",
       "      <td>1</td>\n",
       "      <td>0</td>\n",
       "      <td>0</td>\n",
       "    </tr>\n",
       "    <tr>\n",
       "      <td>12097</td>\n",
       "      <td>high</td>\n",
       "      <td>0</td>\n",
       "      <td>1</td>\n",
       "      <td>0</td>\n",
       "      <td>0</td>\n",
       "      <td>0</td>\n",
       "      <td>0</td>\n",
       "      <td>0</td>\n",
       "      <td>0</td>\n",
       "      <td>1</td>\n",
       "      <td>0</td>\n",
       "    </tr>\n",
       "    <tr>\n",
       "      <td>12098</td>\n",
       "      <td>high</td>\n",
       "      <td>0</td>\n",
       "      <td>1</td>\n",
       "      <td>0</td>\n",
       "      <td>0</td>\n",
       "      <td>0</td>\n",
       "      <td>1</td>\n",
       "      <td>0</td>\n",
       "      <td>0</td>\n",
       "      <td>0</td>\n",
       "      <td>0</td>\n",
       "    </tr>\n",
       "    <tr>\n",
       "      <td>12099</td>\n",
       "      <td>medium</td>\n",
       "      <td>0</td>\n",
       "      <td>0</td>\n",
       "      <td>0</td>\n",
       "      <td>0</td>\n",
       "      <td>0</td>\n",
       "      <td>0</td>\n",
       "      <td>0</td>\n",
       "      <td>0</td>\n",
       "      <td>0</td>\n",
       "      <td>1</td>\n",
       "    </tr>\n",
       "  </tbody>\n",
       "</table>\n",
       "</div>"
      ],
      "text/plain": [
       "        Score  Prompt_P2  Prompt_P5  Prompt_P6  Prompt_P7  Prompt_P8  L1_HIN  \\\n",
       "12090  medium          0          0          1          0          0       1   \n",
       "12091  medium          0          0          1          0          0       0   \n",
       "12092    high          0          0          0          0          1       0   \n",
       "12093  medium          1          0          0          0          0       0   \n",
       "12094  medium          0          0          0          1          0       0   \n",
       "12095  medium          0          0          0          0          0       0   \n",
       "12096    high          0          0          0          0          1       0   \n",
       "12097    high          0          1          0          0          0       0   \n",
       "12098    high          0          1          0          0          0       1   \n",
       "12099  medium          0          0          0          0          0       0   \n",
       "\n",
       "       L1_JPN  L1_KOR  L1_SPA  L1_ZHO  \n",
       "12090       0       0       0       0  \n",
       "12091       0       0       0       1  \n",
       "12092       0       0       0       0  \n",
       "12093       0       1       0       0  \n",
       "12094       1       0       0       0  \n",
       "12095       0       0       0       1  \n",
       "12096       0       1       0       0  \n",
       "12097       0       0       1       0  \n",
       "12098       0       0       0       0  \n",
       "12099       0       0       0       1  "
      ]
     },
     "execution_count": 43,
     "metadata": {},
     "output_type": "execute_result"
    }
   ],
   "source": [
    "# Use drop_first=True to avoid creating perfectly correlated variables\n",
    "pd.get_dummies(mini, columns=['Prompt', 'L1'], drop_first=True)\n",
    "\n",
    "# All right -- it takes only 5 columns to encode 6 distinct values"
   ]
  },
  {
   "cell_type": "markdown",
   "metadata": {},
   "source": [
    "Wait, doesn't OneHotEncoder also run into the dummy variable trap?\n",
    "Yes! But people don't typically use OneHotCoder for our purposes. Instead, they use it for other methods, like unsupervised classification. "
   ]
  },
  {
   "cell_type": "markdown",
   "metadata": {},
   "source": [
    "##### Option 3: sklearn's DictVectorizer\n",
    "See the [textbook example](https://jakevdp.github.io/PythonDataScienceHandbook/05.04-feature-engineering.html#Categorical-Features)"
   ]
  },
  {
   "cell_type": "code",
   "execution_count": null,
   "metadata": {},
   "outputs": [],
   "source": []
  }
 ],
 "metadata": {
  "kernelspec": {
   "display_name": "Python 3",
   "language": "python",
   "name": "python3"
  },
  "language_info": {
   "codemirror_mode": {
    "name": "ipython",
    "version": 3
   },
   "file_extension": ".py",
   "mimetype": "text/x-python",
   "name": "python",
   "nbconvert_exporter": "python",
   "pygments_lexer": "ipython3",
   "version": "3.6.4"
  }
 },
 "nbformat": 4,
 "nbformat_minor": 2
}
