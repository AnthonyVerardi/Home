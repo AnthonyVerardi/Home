{
 "cells": [
  {
   "cell_type": "markdown",
   "metadata": {},
   "source": [
    "# Introduction to Regression Analysis"
   ]
  },
  {
   "cell_type": "markdown",
   "metadata": {},
   "source": [
    "## _Regression:_ (metaphorical) movement to an underlying trend\n",
    "0. _Regression toward the mean_\n",
    "1. _Linear regression_ (simple linear, multiple linear, quantile)\n",
    "2. _Polynomial regression_ (& spline regression)\n",
    "3. _Non-parametric regression_ (regression trees)\n",
    "4. _Binomial regression_ (binary, probit, logit/logistical)"
   ]
  },
  {
   "cell_type": "code",
   "execution_count": 1,
   "metadata": {},
   "outputs": [
    {
     "name": "stdout",
     "output_type": "stream",
     "text": [
      "Pretty printing has been turned OFF\n"
     ]
    }
   ],
   "source": [
    "# Turns on/off pretty printing \n",
    "%pprint\n",
    "\n",
    "# Every returned Out[] is displayed, not just the last one. \n",
    "from IPython.core.interactiveshell import InteractiveShell\n",
    "InteractiveShell.ast_node_interactivity = \"all\""
   ]
  },
  {
   "cell_type": "code",
   "execution_count": 2,
   "metadata": {},
   "outputs": [],
   "source": [
    "import numpy as np\n",
    "import pandas as pd\n",
    "import sklearn               # sklearn is the ML package we will use\n",
    "import nltk \n",
    "\n",
    "import matplotlib.pyplot as plt\n",
    "import seaborn as sns        # seaborn graphical package\n",
    "sns.set_style('darkgrid')"
   ]
  },
  {
   "cell_type": "code",
   "execution_count": 88,
   "metadata": {},
   "outputs": [],
   "source": [
    "# statsmodels.api is for actually looking at\n",
    "# the regression equation and statistical measures thereof\n",
    "import statsmodels.api as sm\n",
    "import statsmodels.formula.api as smf"
   ]
  },
  {
   "cell_type": "markdown",
   "metadata": {},
   "source": [
    "### Linear Regression: fitting to lines\n",
    "#### Assumptions:\n",
    "* continuous values\n",
    "* a linear relationship\n",
    "* multivariate normality\n",
    "* no multicollinearity\n",
    "* homoskedasticity"
   ]
  },
  {
   "cell_type": "markdown",
   "metadata": {},
   "source": [
    "Regression can be used for __explanation__, and also for __prediction__:\n",
    "* explain the overall relationship between predictor variable(s) and outcome variable\n",
    "* predict individual outcomes for new data\n",
    "A regression model itself does not prove the direction of causation; conclusions about causation _must_ come from an a priori understanding of the relationship between variables."
   ]
  },
  {
   "cell_type": "code",
   "execution_count": 5,
   "metadata": {},
   "outputs": [],
   "source": [
    "# CSV files on GitHub are rendered. Click on \"Raw\" to get to the raw file. \n",
    "# This salary data has cleaner correlation. \n",
    "url = \"https://raw.githubusercontent.com/csjcode/course-machinelearning-az/master/Machine-Learning-A-Z/Part%202%20-%20Regression/Section%204%20-%20Simple%20Linear%20Regression/Salary_Data.csv\"\n",
    "df = pd.read_csv(url)\n",
    "df.columns = ['years_experience', 'salary']\n",
    " \n",
    "# This salary data is bigger, has more variability. \n",
    "url = \"https://raw.githubusercontent.com/bokeh/bokeh/master/examples/app/export_csv/salary_data.csv\"\n",
    "df2 = pd.read_csv(url)"
   ]
  },
  {
   "cell_type": "code",
   "execution_count": 12,
   "metadata": {},
   "outputs": [
    {
     "data": {
      "text/html": [
       "<div>\n",
       "<style scoped>\n",
       "    .dataframe tbody tr th:only-of-type {\n",
       "        vertical-align: middle;\n",
       "    }\n",
       "\n",
       "    .dataframe tbody tr th {\n",
       "        vertical-align: top;\n",
       "    }\n",
       "\n",
       "    .dataframe thead th {\n",
       "        text-align: right;\n",
       "    }\n",
       "</style>\n",
       "<table border=\"1\" class=\"dataframe\">\n",
       "  <thead>\n",
       "    <tr style=\"text-align: right;\">\n",
       "      <th></th>\n",
       "      <th>years_experience</th>\n",
       "      <th>salary</th>\n",
       "    </tr>\n",
       "  </thead>\n",
       "  <tbody>\n",
       "    <tr>\n",
       "      <td>count</td>\n",
       "      <td>30.000000</td>\n",
       "      <td>30.000000</td>\n",
       "    </tr>\n",
       "    <tr>\n",
       "      <td>mean</td>\n",
       "      <td>5.313333</td>\n",
       "      <td>76003.000000</td>\n",
       "    </tr>\n",
       "    <tr>\n",
       "      <td>std</td>\n",
       "      <td>2.837888</td>\n",
       "      <td>27414.429785</td>\n",
       "    </tr>\n",
       "    <tr>\n",
       "      <td>min</td>\n",
       "      <td>1.100000</td>\n",
       "      <td>37731.000000</td>\n",
       "    </tr>\n",
       "    <tr>\n",
       "      <td>25%</td>\n",
       "      <td>3.200000</td>\n",
       "      <td>56720.750000</td>\n",
       "    </tr>\n",
       "    <tr>\n",
       "      <td>50%</td>\n",
       "      <td>4.700000</td>\n",
       "      <td>65237.000000</td>\n",
       "    </tr>\n",
       "    <tr>\n",
       "      <td>75%</td>\n",
       "      <td>7.700000</td>\n",
       "      <td>100544.750000</td>\n",
       "    </tr>\n",
       "    <tr>\n",
       "      <td>max</td>\n",
       "      <td>10.500000</td>\n",
       "      <td>122391.000000</td>\n",
       "    </tr>\n",
       "  </tbody>\n",
       "</table>\n",
       "</div>"
      ],
      "text/plain": [
       "       years_experience         salary\n",
       "count         30.000000      30.000000\n",
       "mean           5.313333   76003.000000\n",
       "std            2.837888   27414.429785\n",
       "min            1.100000   37731.000000\n",
       "25%            3.200000   56720.750000\n",
       "50%            4.700000   65237.000000\n",
       "75%            7.700000  100544.750000\n",
       "max           10.500000  122391.000000"
      ]
     },
     "execution_count": 12,
     "metadata": {},
     "output_type": "execute_result"
    }
   ],
   "source": [
    "df.describe()"
   ]
  },
  {
   "cell_type": "code",
   "execution_count": 13,
   "metadata": {},
   "outputs": [
    {
     "data": {
      "text/html": [
       "<div>\n",
       "<style scoped>\n",
       "    .dataframe tbody tr th:only-of-type {\n",
       "        vertical-align: middle;\n",
       "    }\n",
       "\n",
       "    .dataframe tbody tr th {\n",
       "        vertical-align: top;\n",
       "    }\n",
       "\n",
       "    .dataframe thead th {\n",
       "        text-align: right;\n",
       "    }\n",
       "</style>\n",
       "<table border=\"1\" class=\"dataframe\">\n",
       "  <thead>\n",
       "    <tr style=\"text-align: right;\">\n",
       "      <th></th>\n",
       "      <th>years_experience</th>\n",
       "      <th>salary</th>\n",
       "    </tr>\n",
       "  </thead>\n",
       "  <tbody>\n",
       "    <tr>\n",
       "      <td>0</td>\n",
       "      <td>1.1</td>\n",
       "      <td>39343.0</td>\n",
       "    </tr>\n",
       "    <tr>\n",
       "      <td>1</td>\n",
       "      <td>1.3</td>\n",
       "      <td>46205.0</td>\n",
       "    </tr>\n",
       "    <tr>\n",
       "      <td>2</td>\n",
       "      <td>1.5</td>\n",
       "      <td>37731.0</td>\n",
       "    </tr>\n",
       "    <tr>\n",
       "      <td>3</td>\n",
       "      <td>2.0</td>\n",
       "      <td>43525.0</td>\n",
       "    </tr>\n",
       "    <tr>\n",
       "      <td>4</td>\n",
       "      <td>2.2</td>\n",
       "      <td>39891.0</td>\n",
       "    </tr>\n",
       "    <tr>\n",
       "      <td>5</td>\n",
       "      <td>2.9</td>\n",
       "      <td>56642.0</td>\n",
       "    </tr>\n",
       "    <tr>\n",
       "      <td>6</td>\n",
       "      <td>3.0</td>\n",
       "      <td>60150.0</td>\n",
       "    </tr>\n",
       "    <tr>\n",
       "      <td>7</td>\n",
       "      <td>3.2</td>\n",
       "      <td>54445.0</td>\n",
       "    </tr>\n",
       "    <tr>\n",
       "      <td>8</td>\n",
       "      <td>3.2</td>\n",
       "      <td>64445.0</td>\n",
       "    </tr>\n",
       "    <tr>\n",
       "      <td>9</td>\n",
       "      <td>3.7</td>\n",
       "      <td>57189.0</td>\n",
       "    </tr>\n",
       "    <tr>\n",
       "      <td>10</td>\n",
       "      <td>3.9</td>\n",
       "      <td>63218.0</td>\n",
       "    </tr>\n",
       "    <tr>\n",
       "      <td>11</td>\n",
       "      <td>4.0</td>\n",
       "      <td>55794.0</td>\n",
       "    </tr>\n",
       "    <tr>\n",
       "      <td>12</td>\n",
       "      <td>4.0</td>\n",
       "      <td>56957.0</td>\n",
       "    </tr>\n",
       "    <tr>\n",
       "      <td>13</td>\n",
       "      <td>4.1</td>\n",
       "      <td>57081.0</td>\n",
       "    </tr>\n",
       "    <tr>\n",
       "      <td>14</td>\n",
       "      <td>4.5</td>\n",
       "      <td>61111.0</td>\n",
       "    </tr>\n",
       "    <tr>\n",
       "      <td>15</td>\n",
       "      <td>4.9</td>\n",
       "      <td>67938.0</td>\n",
       "    </tr>\n",
       "    <tr>\n",
       "      <td>16</td>\n",
       "      <td>5.1</td>\n",
       "      <td>66029.0</td>\n",
       "    </tr>\n",
       "    <tr>\n",
       "      <td>17</td>\n",
       "      <td>5.3</td>\n",
       "      <td>83088.0</td>\n",
       "    </tr>\n",
       "    <tr>\n",
       "      <td>18</td>\n",
       "      <td>5.9</td>\n",
       "      <td>81363.0</td>\n",
       "    </tr>\n",
       "    <tr>\n",
       "      <td>19</td>\n",
       "      <td>6.0</td>\n",
       "      <td>93940.0</td>\n",
       "    </tr>\n",
       "    <tr>\n",
       "      <td>20</td>\n",
       "      <td>6.8</td>\n",
       "      <td>91738.0</td>\n",
       "    </tr>\n",
       "    <tr>\n",
       "      <td>21</td>\n",
       "      <td>7.1</td>\n",
       "      <td>98273.0</td>\n",
       "    </tr>\n",
       "    <tr>\n",
       "      <td>22</td>\n",
       "      <td>7.9</td>\n",
       "      <td>101302.0</td>\n",
       "    </tr>\n",
       "    <tr>\n",
       "      <td>23</td>\n",
       "      <td>8.2</td>\n",
       "      <td>113812.0</td>\n",
       "    </tr>\n",
       "    <tr>\n",
       "      <td>24</td>\n",
       "      <td>8.7</td>\n",
       "      <td>109431.0</td>\n",
       "    </tr>\n",
       "    <tr>\n",
       "      <td>25</td>\n",
       "      <td>9.0</td>\n",
       "      <td>105582.0</td>\n",
       "    </tr>\n",
       "    <tr>\n",
       "      <td>26</td>\n",
       "      <td>9.5</td>\n",
       "      <td>116969.0</td>\n",
       "    </tr>\n",
       "    <tr>\n",
       "      <td>27</td>\n",
       "      <td>9.6</td>\n",
       "      <td>112635.0</td>\n",
       "    </tr>\n",
       "    <tr>\n",
       "      <td>28</td>\n",
       "      <td>10.3</td>\n",
       "      <td>122391.0</td>\n",
       "    </tr>\n",
       "    <tr>\n",
       "      <td>29</td>\n",
       "      <td>10.5</td>\n",
       "      <td>121872.0</td>\n",
       "    </tr>\n",
       "  </tbody>\n",
       "</table>\n",
       "</div>"
      ],
      "text/plain": [
       "    years_experience    salary\n",
       "0                1.1   39343.0\n",
       "1                1.3   46205.0\n",
       "2                1.5   37731.0\n",
       "3                2.0   43525.0\n",
       "4                2.2   39891.0\n",
       "5                2.9   56642.0\n",
       "6                3.0   60150.0\n",
       "7                3.2   54445.0\n",
       "8                3.2   64445.0\n",
       "9                3.7   57189.0\n",
       "10               3.9   63218.0\n",
       "11               4.0   55794.0\n",
       "12               4.0   56957.0\n",
       "13               4.1   57081.0\n",
       "14               4.5   61111.0\n",
       "15               4.9   67938.0\n",
       "16               5.1   66029.0\n",
       "17               5.3   83088.0\n",
       "18               5.9   81363.0\n",
       "19               6.0   93940.0\n",
       "20               6.8   91738.0\n",
       "21               7.1   98273.0\n",
       "22               7.9  101302.0\n",
       "23               8.2  113812.0\n",
       "24               8.7  109431.0\n",
       "25               9.0  105582.0\n",
       "26               9.5  116969.0\n",
       "27               9.6  112635.0\n",
       "28              10.3  122391.0\n",
       "29              10.5  121872.0"
      ]
     },
     "execution_count": 13,
     "metadata": {},
     "output_type": "execute_result"
    }
   ],
   "source": [
    "df"
   ]
  },
  {
   "cell_type": "code",
   "execution_count": 41,
   "metadata": {},
   "outputs": [
    {
     "data": {
      "text/plain": [
       "array([ 9449.96232146, 25792.20019867])"
      ]
     },
     "execution_count": 41,
     "metadata": {},
     "output_type": "execute_result"
    }
   ],
   "source": [
    "df_line = np.polyfit(df['years_experience'], df['salary'], 1)\n",
    "# polynomial of degree 1 that minimizes error\n",
    "df_line \n",
    "# first term is coefficient, second is intercept\n",
    "# the returned vector minimizes residual error"
   ]
  },
  {
   "cell_type": "code",
   "execution_count": 35,
   "metadata": {},
   "outputs": [
    {
     "data": {
      "text/plain": [
       "array([ 1.01265659e-04, -2.38316056e+00])"
      ]
     },
     "execution_count": 35,
     "metadata": {},
     "output_type": "execute_result"
    }
   ],
   "source": [
    "df_line2 = np.polyfit(df['salary'], df['years_experience'], 1)\n",
    "df_line2"
   ]
  },
  {
   "cell_type": "code",
   "execution_count": 38,
   "metadata": {},
   "outputs": [
    {
     "data": {
      "text/plain": [
       "array([[ 1., -1.],\n",
       "       [-1.,  1.]])"
      ]
     },
     "execution_count": 38,
     "metadata": {},
     "output_type": "execute_result"
    }
   ],
   "source": [
    "np.corrcoef(df_line, df_line2)"
   ]
  },
  {
   "cell_type": "markdown",
   "metadata": {},
   "source": [
    "* continuous values?\n",
    "* a linear relationship?\n",
    "* multivariate normality?\n",
    "* no multicollinearity?\n",
    "* homoskedasticity?"
   ]
  },
  {
   "cell_type": "code",
   "execution_count": 39,
   "metadata": {
    "scrolled": true
   },
   "outputs": [
    {
     "data": {
      "text/plain": [
       "<matplotlib.collections.PathCollection object at 0x1a1d46b9d0>"
      ]
     },
     "execution_count": 39,
     "metadata": {},
     "output_type": "execute_result"
    },
    {
     "data": {
      "image/png": "[encoded data removed]",
      "text/plain": [
       "<Figure size 432x288 with 1 Axes>"
      ]
     },
     "metadata": {
      "needs_background": "light"
     },
     "output_type": "display_data"
    }
   ],
   "source": [
    "plt.scatter(df['years_experience'], df['salary'])"
   ]
  },
  {
   "cell_type": "code",
   "execution_count": 32,
   "metadata": {},
   "outputs": [
    {
     "data": {
      "text/plain": [
       "<matplotlib.axes._subplots.AxesSubplot object at 0x1a1dd88ad0>"
      ]
     },
     "execution_count": 32,
     "metadata": {},
     "output_type": "execute_result"
    },
    {
     "data": {
      "image/png": "[encoded data removed]",
      "text/plain": [
       "<Figure size 432x288 with 1 Axes>"
      ]
     },
     "metadata": {
      "needs_background": "light"
     },
     "output_type": "display_data"
    }
   ],
   "source": [
    "sns.regplot(x=df.years_experience,y=df.salary,color='blue')"
   ]
  },
  {
   "cell_type": "markdown",
   "metadata": {},
   "source": [
    "### Multiple Linear Regression: fitting to multiple lines(!?)"
   ]
  },
  {
   "cell_type": "code",
   "execution_count": 43,
   "metadata": {},
   "outputs": [],
   "source": [
    "english = pd.read_csv('../../../Class-Exercise-Repo/activity3/english_updated.csv', index_col='Index')"
   ]
  },
  {
   "cell_type": "code",
   "execution_count": 44,
   "metadata": {},
   "outputs": [
    {
     "data": {
      "text/html": [
       "<div>\n",
       "<style scoped>\n",
       "    .dataframe tbody tr th:only-of-type {\n",
       "        vertical-align: middle;\n",
       "    }\n",
       "\n",
       "    .dataframe tbody tr th {\n",
       "        vertical-align: top;\n",
       "    }\n",
       "\n",
       "    .dataframe thead th {\n",
       "        text-align: right;\n",
       "    }\n",
       "</style>\n",
       "<table border=\"1\" class=\"dataframe\">\n",
       "  <thead>\n",
       "    <tr style=\"text-align: right;\">\n",
       "      <th></th>\n",
       "      <th>RTlexdec</th>\n",
       "      <th>RTnaming</th>\n",
       "      <th>Familiarity</th>\n",
       "      <th>WrittenFrequency</th>\n",
       "      <th>WrittenSpokenFrequencyRatio</th>\n",
       "      <th>FamilySize</th>\n",
       "      <th>DerivationalEntropy</th>\n",
       "      <th>InflectionalEntropy</th>\n",
       "      <th>NumberSimplexSynsets</th>\n",
       "      <th>NumberComplexSynsets</th>\n",
       "      <th>...</th>\n",
       "      <th>ConfriendsN</th>\n",
       "      <th>ConffV</th>\n",
       "      <th>ConffN</th>\n",
       "      <th>ConfbV</th>\n",
       "      <th>ConfbN</th>\n",
       "      <th>NounFrequency</th>\n",
       "      <th>VerbFrequency</th>\n",
       "      <th>FrequencyInitialDiphoneWord</th>\n",
       "      <th>FrequencyInitialDiphoneSyllable</th>\n",
       "      <th>CorrectLexdec</th>\n",
       "    </tr>\n",
       "  </thead>\n",
       "  <tbody>\n",
       "    <tr>\n",
       "      <td>count</td>\n",
       "      <td>4568.000000</td>\n",
       "      <td>4568.000000</td>\n",
       "      <td>4568.000000</td>\n",
       "      <td>4568.000000</td>\n",
       "      <td>4568.000000</td>\n",
       "      <td>4568.000000</td>\n",
       "      <td>4568.000000</td>\n",
       "      <td>4568.000000</td>\n",
       "      <td>4568.000000</td>\n",
       "      <td>4568.000000</td>\n",
       "      <td>...</td>\n",
       "      <td>4568.000000</td>\n",
       "      <td>4568.000000</td>\n",
       "      <td>4568.000000</td>\n",
       "      <td>4568.000000</td>\n",
       "      <td>4568.000000</td>\n",
       "      <td>4568.000000</td>\n",
       "      <td>4568.000000</td>\n",
       "      <td>4568.000000</td>\n",
       "      <td>4568.000000</td>\n",
       "      <td>4568.000000</td>\n",
       "    </tr>\n",
       "    <tr>\n",
       "      <td>mean</td>\n",
       "      <td>6.550097</td>\n",
       "      <td>6.322505</td>\n",
       "      <td>3.795582</td>\n",
       "      <td>5.021145</td>\n",
       "      <td>0.677625</td>\n",
       "      <td>1.821324</td>\n",
       "      <td>0.540890</td>\n",
       "      <td>1.118614</td>\n",
       "      <td>1.707797</td>\n",
       "      <td>1.567777</td>\n",
       "      <td>...</td>\n",
       "      <td>5.265387</td>\n",
       "      <td>0.410887</td>\n",
       "      <td>1.308101</td>\n",
       "      <td>1.556996</td>\n",
       "      <td>3.889859</td>\n",
       "      <td>600.188266</td>\n",
       "      <td>881.020140</td>\n",
       "      <td>10.359055</td>\n",
       "      <td>10.789196</td>\n",
       "      <td>27.051664</td>\n",
       "    </tr>\n",
       "    <tr>\n",
       "      <td>std</td>\n",
       "      <td>0.156919</td>\n",
       "      <td>0.178481</td>\n",
       "      <td>1.149326</td>\n",
       "      <td>1.843559</td>\n",
       "      <td>1.165004</td>\n",
       "      <td>0.820511</td>\n",
       "      <td>0.557345</td>\n",
       "      <td>0.566056</td>\n",
       "      <td>0.669328</td>\n",
       "      <td>1.308999</td>\n",
       "      <td>...</td>\n",
       "      <td>2.076256</td>\n",
       "      <td>0.688143</td>\n",
       "      <td>2.413261</td>\n",
       "      <td>1.125484</td>\n",
       "      <td>3.131148</td>\n",
       "      <td>1858.115409</td>\n",
       "      <td>6852.356442</td>\n",
       "      <td>1.583577</td>\n",
       "      <td>1.598599</td>\n",
       "      <td>4.302697</td>\n",
       "    </tr>\n",
       "    <tr>\n",
       "      <td>min</td>\n",
       "      <td>6.205325</td>\n",
       "      <td>6.021751</td>\n",
       "      <td>1.100000</td>\n",
       "      <td>0.000000</td>\n",
       "      <td>-6.553933</td>\n",
       "      <td>0.693147</td>\n",
       "      <td>0.000000</td>\n",
       "      <td>0.000000</td>\n",
       "      <td>0.000000</td>\n",
       "      <td>0.000000</td>\n",
       "      <td>...</td>\n",
       "      <td>0.000000</td>\n",
       "      <td>0.000000</td>\n",
       "      <td>0.000000</td>\n",
       "      <td>0.000000</td>\n",
       "      <td>0.000000</td>\n",
       "      <td>0.000000</td>\n",
       "      <td>0.000000</td>\n",
       "      <td>3.091042</td>\n",
       "      <td>3.367296</td>\n",
       "      <td>1.000000</td>\n",
       "    </tr>\n",
       "    <tr>\n",
       "      <td>25%</td>\n",
       "      <td>6.425525</td>\n",
       "      <td>6.148682</td>\n",
       "      <td>3.000000</td>\n",
       "      <td>3.761200</td>\n",
       "      <td>-0.074017</td>\n",
       "      <td>1.098612</td>\n",
       "      <td>0.039325</td>\n",
       "      <td>0.744172</td>\n",
       "      <td>1.098612</td>\n",
       "      <td>0.000000</td>\n",
       "      <td>...</td>\n",
       "      <td>4.158883</td>\n",
       "      <td>0.000000</td>\n",
       "      <td>0.000000</td>\n",
       "      <td>0.693147</td>\n",
       "      <td>0.000000</td>\n",
       "      <td>28.750000</td>\n",
       "      <td>0.000000</td>\n",
       "      <td>9.556808</td>\n",
       "      <td>10.000478</td>\n",
       "      <td>27.000000</td>\n",
       "    </tr>\n",
       "    <tr>\n",
       "      <td>50%</td>\n",
       "      <td>6.550466</td>\n",
       "      <td>6.342023</td>\n",
       "      <td>3.700000</td>\n",
       "      <td>4.832298</td>\n",
       "      <td>0.681184</td>\n",
       "      <td>1.791759</td>\n",
       "      <td>0.410975</td>\n",
       "      <td>1.098210</td>\n",
       "      <td>1.609438</td>\n",
       "      <td>1.386294</td>\n",
       "      <td>...</td>\n",
       "      <td>5.486850</td>\n",
       "      <td>0.000000</td>\n",
       "      <td>0.000000</td>\n",
       "      <td>1.386294</td>\n",
       "      <td>4.143135</td>\n",
       "      <td>108.000000</td>\n",
       "      <td>30.000000</td>\n",
       "      <td>10.516509</td>\n",
       "      <td>10.972070</td>\n",
       "      <td>29.000000</td>\n",
       "    </tr>\n",
       "    <tr>\n",
       "      <td>75%</td>\n",
       "      <td>6.653211</td>\n",
       "      <td>6.489699</td>\n",
       "      <td>4.570000</td>\n",
       "      <td>6.247074</td>\n",
       "      <td>1.441460</td>\n",
       "      <td>2.302585</td>\n",
       "      <td>0.893225</td>\n",
       "      <td>1.632455</td>\n",
       "      <td>2.197225</td>\n",
       "      <td>2.564949</td>\n",
       "      <td>...</td>\n",
       "      <td>6.642077</td>\n",
       "      <td>0.693147</td>\n",
       "      <td>1.386294</td>\n",
       "      <td>2.564949</td>\n",
       "      <td>6.241734</td>\n",
       "      <td>424.750000</td>\n",
       "      <td>164.250000</td>\n",
       "      <td>11.319947</td>\n",
       "      <td>11.702636</td>\n",
       "      <td>30.000000</td>\n",
       "    </tr>\n",
       "    <tr>\n",
       "      <td>max</td>\n",
       "      <td>7.187808</td>\n",
       "      <td>6.695675</td>\n",
       "      <td>6.970000</td>\n",
       "      <td>11.356658</td>\n",
       "      <td>5.630714</td>\n",
       "      <td>5.517453</td>\n",
       "      <td>5.207280</td>\n",
       "      <td>2.451410</td>\n",
       "      <td>4.356709</td>\n",
       "      <td>6.111467</td>\n",
       "      <td>...</td>\n",
       "      <td>10.303035</td>\n",
       "      <td>3.332205</td>\n",
       "      <td>10.347436</td>\n",
       "      <td>4.189655</td>\n",
       "      <td>10.599755</td>\n",
       "      <td>35351.000000</td>\n",
       "      <td>242066.000000</td>\n",
       "      <td>13.924902</td>\n",
       "      <td>13.929620</td>\n",
       "      <td>30.000000</td>\n",
       "    </tr>\n",
       "  </tbody>\n",
       "</table>\n",
       "<p>8 rows × 29 columns</p>\n",
       "</div>"
      ],
      "text/plain": [
       "          RTlexdec     RTnaming  Familiarity  WrittenFrequency  \\\n",
       "count  4568.000000  4568.000000  4568.000000       4568.000000   \n",
       "mean      6.550097     6.322505     3.795582          5.021145   \n",
       "std       0.156919     0.178481     1.149326          1.843559   \n",
       "min       6.205325     6.021751     1.100000          0.000000   \n",
       "25%       6.425525     6.148682     3.000000          3.761200   \n",
       "50%       6.550466     6.342023     3.700000          4.832298   \n",
       "75%       6.653211     6.489699     4.570000          6.247074   \n",
       "max       7.187808     6.695675     6.970000         11.356658   \n",
       "\n",
       "       WrittenSpokenFrequencyRatio   FamilySize  DerivationalEntropy  \\\n",
       "count                  4568.000000  4568.000000          4568.000000   \n",
       "mean                      0.677625     1.821324             0.540890   \n",
       "std                       1.165004     0.820511             0.557345   \n",
       "min                      -6.553933     0.693147             0.000000   \n",
       "25%                      -0.074017     1.098612             0.039325   \n",
       "50%                       0.681184     1.791759             0.410975   \n",
       "75%                       1.441460     2.302585             0.893225   \n",
       "max                       5.630714     5.517453             5.207280   \n",
       "\n",
       "       InflectionalEntropy  NumberSimplexSynsets  NumberComplexSynsets  ...  \\\n",
       "count          4568.000000           4568.000000           4568.000000  ...   \n",
       "mean              1.118614              1.707797              1.567777  ...   \n",
       "std               0.566056              0.669328              1.308999  ...   \n",
       "min               0.000000              0.000000              0.000000  ...   \n",
       "25%               0.744172              1.098612              0.000000  ...   \n",
       "50%               1.098210              1.609438              1.386294  ...   \n",
       "75%               1.632455              2.197225              2.564949  ...   \n",
       "max               2.451410              4.356709              6.111467  ...   \n",
       "\n",
       "       ConfriendsN       ConffV       ConffN       ConfbV       ConfbN  \\\n",
       "count  4568.000000  4568.000000  4568.000000  4568.000000  4568.000000   \n",
       "mean      5.265387     0.410887     1.308101     1.556996     3.889859   \n",
       "std       2.076256     0.688143     2.413261     1.125484     3.131148   \n",
       "min       0.000000     0.000000     0.000000     0.000000     0.000000   \n",
       "25%       4.158883     0.000000     0.000000     0.693147     0.000000   \n",
       "50%       5.486850     0.000000     0.000000     1.386294     4.143135   \n",
       "75%       6.642077     0.693147     1.386294     2.564949     6.241734   \n",
       "max      10.303035     3.332205    10.347436     4.189655    10.599755   \n",
       "\n",
       "       NounFrequency  VerbFrequency  FrequencyInitialDiphoneWord  \\\n",
       "count    4568.000000    4568.000000                  4568.000000   \n",
       "mean      600.188266     881.020140                    10.359055   \n",
       "std      1858.115409    6852.356442                     1.583577   \n",
       "min         0.000000       0.000000                     3.091042   \n",
       "25%        28.750000       0.000000                     9.556808   \n",
       "50%       108.000000      30.000000                    10.516509   \n",
       "75%       424.750000     164.250000                    11.319947   \n",
       "max     35351.000000  242066.000000                    13.924902   \n",
       "\n",
       "       FrequencyInitialDiphoneSyllable  CorrectLexdec  \n",
       "count                      4568.000000    4568.000000  \n",
       "mean                         10.789196      27.051664  \n",
       "std                           1.598599       4.302697  \n",
       "min                           3.367296       1.000000  \n",
       "25%                          10.000478      27.000000  \n",
       "50%                          10.972070      29.000000  \n",
       "75%                          11.702636      30.000000  \n",
       "max                          13.929620      30.000000  \n",
       "\n",
       "[8 rows x 29 columns]"
      ]
     },
     "execution_count": 44,
     "metadata": {},
     "output_type": "execute_result"
    }
   ],
   "source": [
    "english.describe()"
   ]
  },
  {
   "cell_type": "code",
   "execution_count": 85,
   "metadata": {},
   "outputs": [],
   "source": [
    "elm = smf.ols(\"RTlexdec ~ Familiarity + WrittenFrequency\", english)"
   ]
  },
  {
   "cell_type": "code",
   "execution_count": 86,
   "metadata": {},
   "outputs": [],
   "source": [
    "elmf = elm.fit()"
   ]
  },
  {
   "cell_type": "code",
   "execution_count": 89,
   "metadata": {
    "scrolled": false
   },
   "outputs": [
    {
     "name": "stdout",
     "output_type": "stream",
     "text": [
      "                            OLS Regression Results                            \n",
      "==============================================================================\n",
      "Dep. Variable:               RTlexdec   R-squared:                       0.216\n",
      "Model:                            OLS   Adj. R-squared:                  0.216\n",
      "Method:                 Least Squares   F-statistic:                     628.9\n",
      "Date:                Thu, 20 Feb 2020   Prob (F-statistic):          5.96e-242\n",
      "Time:                        12:17:26   Log-Likelihood:                 2534.7\n",
      "No. Observations:                4568   AIC:                            -5063.\n",
      "Df Residuals:                    4565   BIC:                            -5044.\n",
      "Df Model:                           2                                         \n",
      "Covariance Type:            nonrobust                                         \n",
      "====================================================================================\n",
      "                       coef    std err          t      P>|t|      [0.025      0.975]\n",
      "------------------------------------------------------------------------------------\n",
      "Intercept            6.7843      0.007    954.802      0.000       6.770       6.798\n",
      "Familiarity         -0.0366      0.003    -12.524      0.000      -0.042      -0.031\n",
      "WrittenFrequency    -0.0189      0.002    -10.379      0.000      -0.023      -0.015\n",
      "==============================================================================\n",
      "Omnibus:                       95.512   Durbin-Watson:                   0.718\n",
      "Prob(Omnibus):                  0.000   Jarque-Bera (JB):               79.199\n",
      "Skew:                           0.252   Prob(JB):                     6.34e-18\n",
      "Kurtosis:                       2.599   Cond. No.                         23.8\n",
      "==============================================================================\n",
      "\n",
      "Warnings:\n",
      "[1] Standard Errors assume that the covariance matrix of the errors is correctly specified.\n"
     ]
    }
   ],
   "source": [
    "print(elmf.summary())"
   ]
  },
  {
   "cell_type": "markdown",
   "metadata": {},
   "source": [
    "### Stepwise regression?\n",
    "* adding/removing one predictor, comparing the resulting model to the original\n",
    "* rinse, repeat\n",
    "\n",
    "__Probably don't do this.__\n",
    "* It encourages brute force solutions, biased toward outliers, etc. (regression to the mean)\n",
    "* It encourages overfitting to the data\n",
    "* It discourages thinking about the data\n",
    "* It inflates (deflates?) p-values: _p-hacking_"
   ]
  },
  {
   "cell_type": "code",
   "execution_count": 92,
   "metadata": {},
   "outputs": [],
   "source": [
    "elm2 = smf.ols(\"RTlexdec ~ Familiarity * WrittenFrequency\", english)\n",
    "elmf2 = elm2.fit()"
   ]
  },
  {
   "cell_type": "code",
   "execution_count": 93,
   "metadata": {},
   "outputs": [
    {
     "name": "stdout",
     "output_type": "stream",
     "text": [
      "                            OLS Regression Results                            \n",
      "==============================================================================\n",
      "Dep. Variable:               RTlexdec   R-squared:                       0.239\n",
      "Model:                            OLS   Adj. R-squared:                  0.239\n",
      "Method:                 Least Squares   F-statistic:                     478.4\n",
      "Date:                Thu, 20 Feb 2020   Prob (F-statistic):          2.71e-270\n",
      "Time:                        12:28:42   Log-Likelihood:                 2603.4\n",
      "No. Observations:                4568   AIC:                            -5199.\n",
      "Df Residuals:                    4564   BIC:                            -5173.\n",
      "Df Model:                           3                                         \n",
      "Covariance Type:            nonrobust                                         \n",
      "================================================================================================\n",
      "                                   coef    std err          t      P>|t|      [0.025      0.975]\n",
      "------------------------------------------------------------------------------------------------\n",
      "Intercept                        6.9739      0.018    397.975      0.000       6.940       7.008\n",
      "Familiarity                     -0.0864      0.005    -16.921      0.000      -0.096      -0.076\n",
      "WrittenFrequency                -0.0595      0.004    -15.345      0.000      -0.067      -0.052\n",
      "Familiarity:WrittenFrequency     0.0098      0.001     11.807      0.000       0.008       0.011\n",
      "==============================================================================\n",
      "Omnibus:                       61.668   Durbin-Watson:                   0.672\n",
      "Prob(Omnibus):                  0.000   Jarque-Bera (JB):               53.665\n",
      "Skew:                           0.209   Prob(JB):                     2.22e-12\n",
      "Kurtosis:                       2.673   Cond. No.                         230.\n",
      "==============================================================================\n",
      "\n",
      "Warnings:\n",
      "[1] Standard Errors assume that the covariance matrix of the errors is correctly specified.\n"
     ]
    }
   ],
   "source": [
    "print(elmf2.summary())"
   ]
  },
  {
   "cell_type": "markdown",
   "metadata": {},
   "source": [
    "### Preparing data for machine learning. \n",
    "Need to create:\n",
    "- Input data, which we will call X. 1+ columns of data points (\"features\"). \n",
    "    - We have only 1 \"feature\", however, which is years of experience.  \n",
    "- Target data, which we will call y. A series of data points. \n",
    "    - Target is salary dollar amount. "
   ]
  },
  {
   "cell_type": "code",
   "execution_count": 70,
   "metadata": {},
   "outputs": [],
   "source": [
    "x = df['years_experience']    # series: lower-case x\n",
    "X = df[['years_experience']]  # dataframe with only one column. Uppercase X. \n",
    "y = df['salary']              # series"
   ]
  },
  {
   "cell_type": "code",
   "execution_count": 71,
   "metadata": {},
   "outputs": [
    {
     "data": {
      "text/plain": [
       "0    1.1\n",
       "1    1.3\n",
       "2    1.5\n",
       "3    2.0\n",
       "4    2.2\n",
       "Name: years_experience, dtype: float64"
      ]
     },
     "execution_count": 71,
     "metadata": {},
     "output_type": "execute_result"
    },
    {
     "data": {
      "text/html": [
       "<div>\n",
       "<style scoped>\n",
       "    .dataframe tbody tr th:only-of-type {\n",
       "        vertical-align: middle;\n",
       "    }\n",
       "\n",
       "    .dataframe tbody tr th {\n",
       "        vertical-align: top;\n",
       "    }\n",
       "\n",
       "    .dataframe thead th {\n",
       "        text-align: right;\n",
       "    }\n",
       "</style>\n",
       "<table border=\"1\" class=\"dataframe\">\n",
       "  <thead>\n",
       "    <tr style=\"text-align: right;\">\n",
       "      <th></th>\n",
       "      <th>years_experience</th>\n",
       "    </tr>\n",
       "  </thead>\n",
       "  <tbody>\n",
       "    <tr>\n",
       "      <td>0</td>\n",
       "      <td>1.1</td>\n",
       "    </tr>\n",
       "    <tr>\n",
       "      <td>1</td>\n",
       "      <td>1.3</td>\n",
       "    </tr>\n",
       "    <tr>\n",
       "      <td>2</td>\n",
       "      <td>1.5</td>\n",
       "    </tr>\n",
       "    <tr>\n",
       "      <td>3</td>\n",
       "      <td>2.0</td>\n",
       "    </tr>\n",
       "    <tr>\n",
       "      <td>4</td>\n",
       "      <td>2.2</td>\n",
       "    </tr>\n",
       "  </tbody>\n",
       "</table>\n",
       "</div>"
      ],
      "text/plain": [
       "   years_experience\n",
       "0               1.1\n",
       "1               1.3\n",
       "2               1.5\n",
       "3               2.0\n",
       "4               2.2"
      ]
     },
     "execution_count": 71,
     "metadata": {},
     "output_type": "execute_result"
    },
    {
     "data": {
      "text/plain": [
       "0    39343.0\n",
       "1    46205.0\n",
       "2    37731.0\n",
       "3    43525.0\n",
       "4    39891.0\n",
       "Name: salary, dtype: float64"
      ]
     },
     "execution_count": 71,
     "metadata": {},
     "output_type": "execute_result"
    }
   ],
   "source": [
    "x.head()         # Won't be using these, just for illustration\n",
    "X.head()         # input feature(s)\n",
    "y.head()         # output target values"
   ]
  },
  {
   "cell_type": "code",
   "execution_count": 72,
   "metadata": {},
   "outputs": [],
   "source": [
    "# sklearn provides a function for splitting data. Randomize on same seed. \n",
    "from sklearn.model_selection import train_test_split\n",
    "X_train, X_test, y_train, y_test = train_test_split(X, y, test_size = 1/3, random_state = 0)"
   ]
  },
  {
   "cell_type": "code",
   "execution_count": 73,
   "metadata": {},
   "outputs": [
    {
     "data": {
      "text/plain": [
       "20"
      ]
     },
     "execution_count": 73,
     "metadata": {},
     "output_type": "execute_result"
    },
    {
     "data": {
      "text/plain": [
       "10"
      ]
     },
     "execution_count": 73,
     "metadata": {},
     "output_type": "execute_result"
    }
   ],
   "source": [
    "len(X_train)\n",
    "len(X_test)"
   ]
  },
  {
   "cell_type": "code",
   "execution_count": 74,
   "metadata": {},
   "outputs": [
    {
     "data": {
      "text/plain": [
       "LinearRegression(copy_X=True, fit_intercept=True, n_jobs=None, normalize=False)"
      ]
     },
     "execution_count": 74,
     "metadata": {},
     "output_type": "execute_result"
    }
   ],
   "source": [
    "# Fitting Simple Linear Regression to the Training set\n",
    "from sklearn.linear_model import LinearRegression\n",
    "regressor = LinearRegression()\n",
    "regressor.fit(X_train, y_train)"
   ]
  },
  {
   "cell_type": "code",
   "execution_count": 75,
   "metadata": {},
   "outputs": [
    {
     "data": {
      "text/html": [
       "<div>\n",
       "<style scoped>\n",
       "    .dataframe tbody tr th:only-of-type {\n",
       "        vertical-align: middle;\n",
       "    }\n",
       "\n",
       "    .dataframe tbody tr th {\n",
       "        vertical-align: top;\n",
       "    }\n",
       "\n",
       "    .dataframe thead th {\n",
       "        text-align: right;\n",
       "    }\n",
       "</style>\n",
       "<table border=\"1\" class=\"dataframe\">\n",
       "  <thead>\n",
       "    <tr style=\"text-align: right;\">\n",
       "      <th></th>\n",
       "      <th>years_experience</th>\n",
       "    </tr>\n",
       "  </thead>\n",
       "  <tbody>\n",
       "    <tr>\n",
       "      <td>2</td>\n",
       "      <td>1.5</td>\n",
       "    </tr>\n",
       "    <tr>\n",
       "      <td>28</td>\n",
       "      <td>10.3</td>\n",
       "    </tr>\n",
       "    <tr>\n",
       "      <td>13</td>\n",
       "      <td>4.1</td>\n",
       "    </tr>\n",
       "    <tr>\n",
       "      <td>10</td>\n",
       "      <td>3.9</td>\n",
       "    </tr>\n",
       "    <tr>\n",
       "      <td>26</td>\n",
       "      <td>9.5</td>\n",
       "    </tr>\n",
       "    <tr>\n",
       "      <td>24</td>\n",
       "      <td>8.7</td>\n",
       "    </tr>\n",
       "    <tr>\n",
       "      <td>27</td>\n",
       "      <td>9.6</td>\n",
       "    </tr>\n",
       "    <tr>\n",
       "      <td>11</td>\n",
       "      <td>4.0</td>\n",
       "    </tr>\n",
       "    <tr>\n",
       "      <td>17</td>\n",
       "      <td>5.3</td>\n",
       "    </tr>\n",
       "    <tr>\n",
       "      <td>22</td>\n",
       "      <td>7.9</td>\n",
       "    </tr>\n",
       "  </tbody>\n",
       "</table>\n",
       "</div>"
      ],
      "text/plain": [
       "    years_experience\n",
       "2                1.5\n",
       "28              10.3\n",
       "13               4.1\n",
       "10               3.9\n",
       "26               9.5\n",
       "24               8.7\n",
       "27               9.6\n",
       "11               4.0\n",
       "17               5.3\n",
       "22               7.9"
      ]
     },
     "execution_count": 75,
     "metadata": {},
     "output_type": "execute_result"
    },
    {
     "data": {
      "text/plain": [
       "2      37731.0\n",
       "28    122391.0\n",
       "13     57081.0\n",
       "10     63218.0\n",
       "26    116969.0\n",
       "24    109431.0\n",
       "27    112635.0\n",
       "11     55794.0\n",
       "17     83088.0\n",
       "22    101302.0\n",
       "Name: salary, dtype: float64"
      ]
     },
     "execution_count": 75,
     "metadata": {},
     "output_type": "execute_result"
    }
   ],
   "source": [
    "X_test\n",
    "y_test"
   ]
  },
  {
   "cell_type": "code",
   "execution_count": 76,
   "metadata": {},
   "outputs": [],
   "source": [
    "# Predicting the Test set results\n",
    "y_pred = regressor.predict(X_test)"
   ]
  },
  {
   "cell_type": "code",
   "execution_count": 77,
   "metadata": {},
   "outputs": [
    {
     "data": {
      "text/html": [
       "<div>\n",
       "<style scoped>\n",
       "    .dataframe tbody tr th:only-of-type {\n",
       "        vertical-align: middle;\n",
       "    }\n",
       "\n",
       "    .dataframe tbody tr th {\n",
       "        vertical-align: top;\n",
       "    }\n",
       "\n",
       "    .dataframe thead th {\n",
       "        text-align: right;\n",
       "    }\n",
       "</style>\n",
       "<table border=\"1\" class=\"dataframe\">\n",
       "  <thead>\n",
       "    <tr style=\"text-align: right;\">\n",
       "      <th></th>\n",
       "      <th>years_experience</th>\n",
       "    </tr>\n",
       "  </thead>\n",
       "  <tbody>\n",
       "    <tr>\n",
       "      <td>2</td>\n",
       "      <td>1.5</td>\n",
       "    </tr>\n",
       "    <tr>\n",
       "      <td>28</td>\n",
       "      <td>10.3</td>\n",
       "    </tr>\n",
       "    <tr>\n",
       "      <td>13</td>\n",
       "      <td>4.1</td>\n",
       "    </tr>\n",
       "    <tr>\n",
       "      <td>10</td>\n",
       "      <td>3.9</td>\n",
       "    </tr>\n",
       "    <tr>\n",
       "      <td>26</td>\n",
       "      <td>9.5</td>\n",
       "    </tr>\n",
       "  </tbody>\n",
       "</table>\n",
       "</div>"
      ],
      "text/plain": [
       "    years_experience\n",
       "2                1.5\n",
       "28              10.3\n",
       "13               4.1\n",
       "10               3.9\n",
       "26               9.5"
      ]
     },
     "execution_count": 77,
     "metadata": {},
     "output_type": "execute_result"
    },
    {
     "data": {
      "text/plain": [
       "2      37731.0\n",
       "28    122391.0\n",
       "13     57081.0\n",
       "10     63218.0\n",
       "26    116969.0\n",
       "Name: salary, dtype: float64"
      ]
     },
     "execution_count": 77,
     "metadata": {},
     "output_type": "execute_result"
    },
    {
     "data": {
      "text/plain": [
       "array([ 40835.10590871, 123079.39940819,  65134.55626083,  63265.36777221,\n",
       "       115602.64545369])"
      ]
     },
     "execution_count": 77,
     "metadata": {},
     "output_type": "execute_result"
    }
   ],
   "source": [
    "X_test[:5]    # test set, years of experience\n",
    "y_test[:5]    # test set, real salaries\n",
    "y_pred[:5]    # salaries predicted by regressor\n",
    "                 # <-- hopefully not too far away from real numbers! "
   ]
  },
  {
   "cell_type": "code",
   "execution_count": 78,
   "metadata": {},
   "outputs": [
    {
     "data": {
      "text/plain": [
       "['__abstractmethods__', '__class__', '__delattr__', '__dict__', '__dir__', '__doc__', '__eq__', '__format__', '__ge__', '__getattribute__', '__getstate__', '__gt__', '__hash__', '__init__', '__init_subclass__', '__le__', '__lt__', '__module__', '__ne__', '__new__', '__reduce__', '__reduce_ex__', '__repr__', '__setattr__', '__setstate__', '__sizeof__', '__str__', '__subclasshook__', '__weakref__', '_abc_impl', '_decision_function', '_estimator_type', '_get_param_names', '_get_tags', '_more_tags', '_preprocess_data', '_residues', '_set_intercept', 'coef_', 'copy_X', 'fit', 'fit_intercept', 'get_params', 'intercept_', 'n_jobs', 'normalize', 'predict', 'rank_', 'score', 'set_params', 'singular_']"
      ]
     },
     "execution_count": 78,
     "metadata": {},
     "output_type": "execute_result"
    }
   ],
   "source": [
    "dir(regressor)"
   ]
  },
  {
   "cell_type": "code",
   "execution_count": 79,
   "metadata": {},
   "outputs": [
    {
     "data": {
      "text/plain": [
       "array([9345.94244312])"
      ]
     },
     "execution_count": 79,
     "metadata": {},
     "output_type": "execute_result"
    },
    {
     "data": {
      "text/plain": [
       "{'copy_X': True, 'fit_intercept': True, 'n_jobs': None, 'normalize': False}"
      ]
     },
     "execution_count": 79,
     "metadata": {},
     "output_type": "execute_result"
    },
    {
     "data": {
      "text/plain": [
       "26816.19224403119"
      ]
     },
     "execution_count": 79,
     "metadata": {},
     "output_type": "execute_result"
    }
   ],
   "source": [
    "regressor.coef_\n",
    "regressor.get_params()\n",
    "regressor.intercept_"
   ]
  },
  {
   "cell_type": "markdown",
   "metadata": {},
   "source": [
    "### Plotting data and prediction\n",
    "1. On training set\n",
    "2. On test set"
   ]
  },
  {
   "cell_type": "code",
   "execution_count": 80,
   "metadata": {},
   "outputs": [
    {
     "data": {
      "text/plain": [
       "<matplotlib.collections.PathCollection object at 0x1c2030dfd0>"
      ]
     },
     "execution_count": 80,
     "metadata": {},
     "output_type": "execute_result"
    },
    {
     "data": {
      "text/plain": [
       "[<matplotlib.lines.Line2D object at 0x106a81490>]"
      ]
     },
     "execution_count": 80,
     "metadata": {},
     "output_type": "execute_result"
    },
    {
     "data": {
      "text/plain": [
       "Text(0.5, 1.0, 'Salary vs Experience (Training set)')"
      ]
     },
     "execution_count": 80,
     "metadata": {},
     "output_type": "execute_result"
    },
    {
     "data": {
      "text/plain": [
       "Text(0.5, 0, 'Years of Experience')"
      ]
     },
     "execution_count": 80,
     "metadata": {},
     "output_type": "execute_result"
    },
    {
     "data": {
      "text/plain": [
       "Text(0, 0.5, 'Salary')"
      ]
     },
     "execution_count": 80,
     "metadata": {},
     "output_type": "execute_result"
    },
    {
     "data": {
      "image/png": "[encoded data removed]",
      "text/plain": [
       "<Figure size 432x288 with 1 Axes>"
      ]
     },
     "metadata": {
      "needs_background": "light"
     },
     "output_type": "display_data"
    }
   ],
   "source": [
    "plt.scatter(X_train, y_train, color='red')\n",
    "plt.plot(X_train, regressor.predict(X_train), color='blue')\n",
    "plt.title('Salary vs Experience (Training set)')\n",
    "plt.xlabel('Years of Experience')\n",
    "plt.ylabel('Salary')\n",
    "plt.show()"
   ]
  },
  {
   "cell_type": "code",
   "execution_count": 81,
   "metadata": {},
   "outputs": [
    {
     "data": {
      "text/plain": [
       "<matplotlib.collections.PathCollection object at 0x1c2030d390>"
      ]
     },
     "execution_count": 81,
     "metadata": {},
     "output_type": "execute_result"
    },
    {
     "data": {
      "text/plain": [
       "[<matplotlib.lines.Line2D object at 0x1c2032e950>]"
      ]
     },
     "execution_count": 81,
     "metadata": {},
     "output_type": "execute_result"
    },
    {
     "data": {
      "text/plain": [
       "Text(0.5, 1.0, 'Salary vs Experience (Test set)')"
      ]
     },
     "execution_count": 81,
     "metadata": {},
     "output_type": "execute_result"
    },
    {
     "data": {
      "text/plain": [
       "Text(0.5, 0, 'Years of Experience')"
      ]
     },
     "execution_count": 81,
     "metadata": {},
     "output_type": "execute_result"
    },
    {
     "data": {
      "text/plain": [
       "Text(0, 0.5, 'Salary')"
      ]
     },
     "execution_count": 81,
     "metadata": {},
     "output_type": "execute_result"
    },
    {
     "data": {
      "image/png": "[encoded data removed]",
      "text/plain": [
       "<Figure size 432x288 with 1 Axes>"
      ]
     },
     "metadata": {
      "needs_background": "light"
     },
     "output_type": "display_data"
    }
   ],
   "source": [
    "plt.scatter(X_test, y_test, color='red')\n",
    "plt.plot(X_train, regressor.predict(X_train), color='blue')\n",
    "plt.title('Salary vs Experience (Test set)')\n",
    "plt.xlabel('Years of Experience')\n",
    "plt.ylabel('Salary')\n",
    "plt.show()"
   ]
  },
  {
   "cell_type": "code",
   "execution_count": 82,
   "metadata": {},
   "outputs": [
    {
     "data": {
      "text/html": [
       "<div>\n",
       "<style scoped>\n",
       "    .dataframe tbody tr th:only-of-type {\n",
       "        vertical-align: middle;\n",
       "    }\n",
       "\n",
       "    .dataframe tbody tr th {\n",
       "        vertical-align: top;\n",
       "    }\n",
       "\n",
       "    .dataframe thead th {\n",
       "        text-align: right;\n",
       "    }\n",
       "</style>\n",
       "<table border=\"1\" class=\"dataframe\">\n",
       "  <thead>\n",
       "    <tr style=\"text-align: right;\">\n",
       "      <th></th>\n",
       "      <th>years_experience</th>\n",
       "    </tr>\n",
       "  </thead>\n",
       "  <tbody>\n",
       "    <tr>\n",
       "      <td>0</td>\n",
       "      <td>0.5</td>\n",
       "    </tr>\n",
       "    <tr>\n",
       "      <td>1</td>\n",
       "      <td>15.0</td>\n",
       "    </tr>\n",
       "  </tbody>\n",
       "</table>\n",
       "</div>"
      ],
      "text/plain": [
       "   years_experience\n",
       "0               0.5\n",
       "1              15.0"
      ]
     },
     "execution_count": 82,
     "metadata": {},
     "output_type": "execute_result"
    },
    {
     "data": {
      "text/plain": [
       "array([ 31489.16346559, 167005.32889087])"
      ]
     },
     "execution_count": 82,
     "metadata": {},
     "output_type": "execute_result"
    }
   ],
   "source": [
    "# How about someone with just 0.5 year of experience? How about 15? \n",
    "newdf = pd.DataFrame({'years_experience':[0.5, 15]})\n",
    "newdf\n",
    "regressor.predict(newdf)"
   ]
  }
 ],
 "metadata": {
  "kernelspec": {
   "display_name": "Python 3",
   "language": "python",
   "name": "python3"
  },
  "language_info": {
   "codemirror_mode": {
    "name": "ipython",
    "version": 3
   },
   "file_extension": ".py",
   "mimetype": "text/x-python",
   "name": "python",
   "nbconvert_exporter": "python",
   "pygments_lexer": "ipython3",
   "version": "3.7.4"
  }
 },
 "nbformat": 4,
 "nbformat_minor": 2
}
