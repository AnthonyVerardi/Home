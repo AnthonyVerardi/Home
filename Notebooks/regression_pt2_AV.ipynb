{
 "cells": [
  {
   "cell_type": "markdown",
   "metadata": {},
   "source": [
    "# Introduction to Machine Learning 2\n",
    "Jevon Heath, Feb 2020"
   ]
  },
  {
   "cell_type": "markdown",
   "metadata": {},
   "source": [
    "### ~~Linear~~ Logistic Regression: fitting to a ~~line~~ probability curve\n",
    "Instead of a continuous outcome, we want a categorical response:\n",
    "* Is this email junk or not?\n",
    "* Is this a correct usage or not?\n",
    "* Is the speaker a native speaker or not?\n",
    "* Is the backchannel in question laughter, non-verbal, phrasal, or substantive?\n",
    "\n",
    "For these **classification** questions, the outcome should be a specific category.\n",
    "\n",
    "But a model can also give us the _likelihood_ of that predicted outcome."
   ]
  },
  {
   "cell_type": "markdown",
   "metadata": {},
   "source": [
    "#### Assumptions:\n",
    "* continuous values **for independent variables**\n",
    "* ~~a linear relationship~~ **linear independent variables**\n",
    "* ~~multivariate normality~~\n",
    "* no multicollinearity among independent variables\n",
    "* ~~homoskedasticity~~\n",
    "* **independence of observations**\n",
    "* **a large sample size**"
   ]
  },
  {
   "cell_type": "code",
   "execution_count": 1,
   "metadata": {},
   "outputs": [
    {
     "name": "stdout",
     "output_type": "stream",
     "text": [
      "Pretty printing has been turned OFF\n"
     ]
    }
   ],
   "source": [
    "# Turns on/off pretty printing \n",
    "%pprint\n",
    "\n",
    "# Every returned Out[] is displayed, not just the last one. \n",
    "from IPython.core.interactiveshell import InteractiveShell\n",
    "InteractiveShell.ast_node_interactivity = \"all\""
   ]
  },
  {
   "cell_type": "code",
   "execution_count": 2,
   "metadata": {},
   "outputs": [],
   "source": [
    "import numpy as np\n",
    "import pandas as pd\n",
    "import sklearn               \n",
    "import nltk \n",
    "\n",
    "import matplotlib.pyplot as plt\n",
    "import seaborn as sns        \n",
    "sns.set_style('darkgrid')\n",
    "\n",
    "import statsmodels.api as sm\n",
    "import statsmodels.formula.api as smf"
   ]
  },
  {
   "cell_type": "markdown",
   "metadata": {},
   "source": [
    "## Classification: predicting discrete labels"
   ]
  },
  {
   "cell_type": "markdown",
   "metadata": {},
   "source": [
    "##### Simple case: two labels\n",
    "Quick example: Given a reaction time, is the participant young or old?"
   ]
  },
  {
   "cell_type": "code",
   "execution_count": 3,
   "metadata": {},
   "outputs": [],
   "source": [
    "english = pd.read_csv('../../Class-Exercise-Repo/activity3/english_updated.csv', index_col='Index')"
   ]
  },
  {
   "cell_type": "code",
   "execution_count": 4,
   "metadata": {},
   "outputs": [
    {
     "data": {
      "text/html": [
       "<div>\n",
       "<style scoped>\n",
       "    .dataframe tbody tr th:only-of-type {\n",
       "        vertical-align: middle;\n",
       "    }\n",
       "\n",
       "    .dataframe tbody tr th {\n",
       "        vertical-align: top;\n",
       "    }\n",
       "\n",
       "    .dataframe thead th {\n",
       "        text-align: right;\n",
       "    }\n",
       "</style>\n",
       "<table border=\"1\" class=\"dataframe\">\n",
       "  <thead>\n",
       "    <tr style=\"text-align: right;\">\n",
       "      <th></th>\n",
       "      <th>RTlexdec</th>\n",
       "      <th>RTnaming</th>\n",
       "      <th>Familiarity</th>\n",
       "      <th>WrittenFrequency</th>\n",
       "      <th>WrittenSpokenFrequencyRatio</th>\n",
       "      <th>FamilySize</th>\n",
       "      <th>DerivationalEntropy</th>\n",
       "      <th>InflectionalEntropy</th>\n",
       "      <th>NumberSimplexSynsets</th>\n",
       "      <th>NumberComplexSynsets</th>\n",
       "      <th>...</th>\n",
       "      <th>ConfriendsN</th>\n",
       "      <th>ConffV</th>\n",
       "      <th>ConffN</th>\n",
       "      <th>ConfbV</th>\n",
       "      <th>ConfbN</th>\n",
       "      <th>NounFrequency</th>\n",
       "      <th>VerbFrequency</th>\n",
       "      <th>FrequencyInitialDiphoneWord</th>\n",
       "      <th>FrequencyInitialDiphoneSyllable</th>\n",
       "      <th>CorrectLexdec</th>\n",
       "    </tr>\n",
       "  </thead>\n",
       "  <tbody>\n",
       "    <tr>\n",
       "      <td>count</td>\n",
       "      <td>4394.000000</td>\n",
       "      <td>4394.000000</td>\n",
       "      <td>4394.000000</td>\n",
       "      <td>4394.000000</td>\n",
       "      <td>4394.000000</td>\n",
       "      <td>4394.000000</td>\n",
       "      <td>4394.000000</td>\n",
       "      <td>4394.000000</td>\n",
       "      <td>4394.000000</td>\n",
       "      <td>4394.000000</td>\n",
       "      <td>...</td>\n",
       "      <td>4394.000000</td>\n",
       "      <td>4394.000000</td>\n",
       "      <td>4394.000000</td>\n",
       "      <td>4394.000000</td>\n",
       "      <td>4394.000000</td>\n",
       "      <td>4394.000000</td>\n",
       "      <td>4394.000000</td>\n",
       "      <td>4394.000000</td>\n",
       "      <td>4394.000000</td>\n",
       "      <td>4394.000000</td>\n",
       "    </tr>\n",
       "    <tr>\n",
       "      <td>mean</td>\n",
       "      <td>6.550684</td>\n",
       "      <td>6.322843</td>\n",
       "      <td>3.796372</td>\n",
       "      <td>5.020491</td>\n",
       "      <td>0.689445</td>\n",
       "      <td>1.811214</td>\n",
       "      <td>0.536752</td>\n",
       "      <td>1.108217</td>\n",
       "      <td>1.699016</td>\n",
       "      <td>1.562105</td>\n",
       "      <td>...</td>\n",
       "      <td>5.248169</td>\n",
       "      <td>0.415286</td>\n",
       "      <td>1.324193</td>\n",
       "      <td>1.560806</td>\n",
       "      <td>3.912158</td>\n",
       "      <td>607.606736</td>\n",
       "      <td>860.991807</td>\n",
       "      <td>10.366159</td>\n",
       "      <td>10.795004</td>\n",
       "      <td>27.023669</td>\n",
       "    </tr>\n",
       "    <tr>\n",
       "      <td>std</td>\n",
       "      <td>0.157538</td>\n",
       "      <td>0.178585</td>\n",
       "      <td>1.154754</td>\n",
       "      <td>1.850710</td>\n",
       "      <td>1.164100</td>\n",
       "      <td>0.824997</td>\n",
       "      <td>0.559080</td>\n",
       "      <td>0.568047</td>\n",
       "      <td>0.672941</td>\n",
       "      <td>1.308853</td>\n",
       "      <td>...</td>\n",
       "      <td>2.082621</td>\n",
       "      <td>0.687585</td>\n",
       "      <td>2.422476</td>\n",
       "      <td>1.124702</td>\n",
       "      <td>3.130107</td>\n",
       "      <td>1885.165188</td>\n",
       "      <td>6767.632169</td>\n",
       "      <td>1.577864</td>\n",
       "      <td>1.593374</td>\n",
       "      <td>4.333091</td>\n",
       "    </tr>\n",
       "    <tr>\n",
       "      <td>min</td>\n",
       "      <td>6.205325</td>\n",
       "      <td>6.021751</td>\n",
       "      <td>1.100000</td>\n",
       "      <td>0.000000</td>\n",
       "      <td>-6.553933</td>\n",
       "      <td>0.693147</td>\n",
       "      <td>0.000000</td>\n",
       "      <td>0.000000</td>\n",
       "      <td>0.000000</td>\n",
       "      <td>0.000000</td>\n",
       "      <td>...</td>\n",
       "      <td>0.000000</td>\n",
       "      <td>0.000000</td>\n",
       "      <td>0.000000</td>\n",
       "      <td>0.000000</td>\n",
       "      <td>0.000000</td>\n",
       "      <td>0.000000</td>\n",
       "      <td>0.000000</td>\n",
       "      <td>3.091042</td>\n",
       "      <td>3.367296</td>\n",
       "      <td>1.000000</td>\n",
       "    </tr>\n",
       "    <tr>\n",
       "      <td>25%</td>\n",
       "      <td>6.424699</td>\n",
       "      <td>6.149109</td>\n",
       "      <td>2.970000</td>\n",
       "      <td>3.761200</td>\n",
       "      <td>-0.064093</td>\n",
       "      <td>1.098612</td>\n",
       "      <td>0.037530</td>\n",
       "      <td>0.728350</td>\n",
       "      <td>1.098612</td>\n",
       "      <td>0.000000</td>\n",
       "      <td>...</td>\n",
       "      <td>4.127134</td>\n",
       "      <td>0.000000</td>\n",
       "      <td>0.000000</td>\n",
       "      <td>0.693147</td>\n",
       "      <td>0.693147</td>\n",
       "      <td>28.000000</td>\n",
       "      <td>0.000000</td>\n",
       "      <td>9.564372</td>\n",
       "      <td>10.002744</td>\n",
       "      <td>27.000000</td>\n",
       "    </tr>\n",
       "    <tr>\n",
       "      <td>50%</td>\n",
       "      <td>6.551223</td>\n",
       "      <td>6.342023</td>\n",
       "      <td>3.700000</td>\n",
       "      <td>4.828314</td>\n",
       "      <td>0.688507</td>\n",
       "      <td>1.609438</td>\n",
       "      <td>0.398240</td>\n",
       "      <td>1.073820</td>\n",
       "      <td>1.609438</td>\n",
       "      <td>1.386294</td>\n",
       "      <td>...</td>\n",
       "      <td>5.476464</td>\n",
       "      <td>0.000000</td>\n",
       "      <td>0.000000</td>\n",
       "      <td>1.386294</td>\n",
       "      <td>4.158883</td>\n",
       "      <td>108.000000</td>\n",
       "      <td>28.000000</td>\n",
       "      <td>10.569058</td>\n",
       "      <td>11.000298</td>\n",
       "      <td>29.000000</td>\n",
       "    </tr>\n",
       "    <tr>\n",
       "      <td>75%</td>\n",
       "      <td>6.654417</td>\n",
       "      <td>6.490534</td>\n",
       "      <td>4.570000</td>\n",
       "      <td>6.265301</td>\n",
       "      <td>1.459906</td>\n",
       "      <td>2.302585</td>\n",
       "      <td>0.888440</td>\n",
       "      <td>1.628030</td>\n",
       "      <td>2.197225</td>\n",
       "      <td>2.564949</td>\n",
       "      <td>...</td>\n",
       "      <td>6.632002</td>\n",
       "      <td>0.693147</td>\n",
       "      <td>1.386294</td>\n",
       "      <td>2.564949</td>\n",
       "      <td>6.287859</td>\n",
       "      <td>434.000000</td>\n",
       "      <td>159.000000</td>\n",
       "      <td>11.319947</td>\n",
       "      <td>11.709692</td>\n",
       "      <td>30.000000</td>\n",
       "    </tr>\n",
       "    <tr>\n",
       "      <td>max</td>\n",
       "      <td>7.187808</td>\n",
       "      <td>6.695675</td>\n",
       "      <td>6.970000</td>\n",
       "      <td>11.356658</td>\n",
       "      <td>5.630714</td>\n",
       "      <td>5.517453</td>\n",
       "      <td>5.207280</td>\n",
       "      <td>2.451410</td>\n",
       "      <td>4.356709</td>\n",
       "      <td>6.111467</td>\n",
       "      <td>...</td>\n",
       "      <td>10.303035</td>\n",
       "      <td>3.332205</td>\n",
       "      <td>10.347436</td>\n",
       "      <td>4.189655</td>\n",
       "      <td>10.599755</td>\n",
       "      <td>35351.000000</td>\n",
       "      <td>242066.000000</td>\n",
       "      <td>13.924902</td>\n",
       "      <td>13.929620</td>\n",
       "      <td>30.000000</td>\n",
       "    </tr>\n",
       "  </tbody>\n",
       "</table>\n",
       "<p>8 rows × 29 columns</p>\n",
       "</div>"
      ],
      "text/plain": [
       "          RTlexdec     RTnaming  Familiarity  WrittenFrequency  \\\n",
       "count  4394.000000  4394.000000  4394.000000       4394.000000   \n",
       "mean      6.550684     6.322843     3.796372          5.020491   \n",
       "std       0.157538     0.178585     1.154754          1.850710   \n",
       "min       6.205325     6.021751     1.100000          0.000000   \n",
       "25%       6.424699     6.149109     2.970000          3.761200   \n",
       "50%       6.551223     6.342023     3.700000          4.828314   \n",
       "75%       6.654417     6.490534     4.570000          6.265301   \n",
       "max       7.187808     6.695675     6.970000         11.356658   \n",
       "\n",
       "       WrittenSpokenFrequencyRatio   FamilySize  DerivationalEntropy  \\\n",
       "count                  4394.000000  4394.000000          4394.000000   \n",
       "mean                      0.689445     1.811214             0.536752   \n",
       "std                       1.164100     0.824997             0.559080   \n",
       "min                      -6.553933     0.693147             0.000000   \n",
       "25%                      -0.064093     1.098612             0.037530   \n",
       "50%                       0.688507     1.609438             0.398240   \n",
       "75%                       1.459906     2.302585             0.888440   \n",
       "max                       5.630714     5.517453             5.207280   \n",
       "\n",
       "       InflectionalEntropy  NumberSimplexSynsets  NumberComplexSynsets  ...  \\\n",
       "count          4394.000000           4394.000000           4394.000000  ...   \n",
       "mean              1.108217              1.699016              1.562105  ...   \n",
       "std               0.568047              0.672941              1.308853  ...   \n",
       "min               0.000000              0.000000              0.000000  ...   \n",
       "25%               0.728350              1.098612              0.000000  ...   \n",
       "50%               1.073820              1.609438              1.386294  ...   \n",
       "75%               1.628030              2.197225              2.564949  ...   \n",
       "max               2.451410              4.356709              6.111467  ...   \n",
       "\n",
       "       ConfriendsN       ConffV       ConffN       ConfbV       ConfbN  \\\n",
       "count  4394.000000  4394.000000  4394.000000  4394.000000  4394.000000   \n",
       "mean      5.248169     0.415286     1.324193     1.560806     3.912158   \n",
       "std       2.082621     0.687585     2.422476     1.124702     3.130107   \n",
       "min       0.000000     0.000000     0.000000     0.000000     0.000000   \n",
       "25%       4.127134     0.000000     0.000000     0.693147     0.693147   \n",
       "50%       5.476464     0.000000     0.000000     1.386294     4.158883   \n",
       "75%       6.632002     0.693147     1.386294     2.564949     6.287859   \n",
       "max      10.303035     3.332205    10.347436     4.189655    10.599755   \n",
       "\n",
       "       NounFrequency  VerbFrequency  FrequencyInitialDiphoneWord  \\\n",
       "count    4394.000000    4394.000000                  4394.000000   \n",
       "mean      607.606736     860.991807                    10.366159   \n",
       "std      1885.165188    6767.632169                     1.577864   \n",
       "min         0.000000       0.000000                     3.091042   \n",
       "25%        28.000000       0.000000                     9.564372   \n",
       "50%       108.000000      28.000000                    10.569058   \n",
       "75%       434.000000     159.000000                    11.319947   \n",
       "max     35351.000000  242066.000000                    13.924902   \n",
       "\n",
       "       FrequencyInitialDiphoneSyllable  CorrectLexdec  \n",
       "count                      4394.000000    4394.000000  \n",
       "mean                         10.795004      27.023669  \n",
       "std                           1.593374       4.333091  \n",
       "min                           3.367296       1.000000  \n",
       "25%                          10.002744      27.000000  \n",
       "50%                          11.000298      29.000000  \n",
       "75%                          11.709692      30.000000  \n",
       "max                          13.929620      30.000000  \n",
       "\n",
       "[8 rows x 29 columns]"
      ]
     },
     "execution_count": 4,
     "metadata": {},
     "output_type": "execute_result"
    }
   ],
   "source": [
    "english.describe()"
   ]
  },
  {
   "cell_type": "code",
   "execution_count": 5,
   "metadata": {},
   "outputs": [
    {
     "name": "stdout",
     "output_type": "stream",
     "text": [
      "<class 'pandas.core.frame.DataFrame'>\n",
      "Int64Index: 4394 entries, 1 to 4567\n",
      "Data columns (total 36 columns):\n",
      "RTlexdec                           4394 non-null float64\n",
      "RTnaming                           4394 non-null float64\n",
      "Familiarity                        4394 non-null float64\n",
      "Word                               4394 non-null object\n",
      "AgeSubject                         4394 non-null object\n",
      "WordCategory                       4394 non-null object\n",
      "WrittenFrequency                   4394 non-null float64\n",
      "WrittenSpokenFrequencyRatio        4394 non-null float64\n",
      "FamilySize                         4394 non-null float64\n",
      "DerivationalEntropy                4394 non-null float64\n",
      "InflectionalEntropy                4394 non-null float64\n",
      "NumberSimplexSynsets               4394 non-null float64\n",
      "NumberComplexSynsets               4394 non-null float64\n",
      "LengthInLetters                    4394 non-null int64\n",
      "Ncount                             4394 non-null int64\n",
      "MeanBigramFrequency                4394 non-null float64\n",
      "FrequencyInitialDiphone            4394 non-null float64\n",
      "ConspelV                           4394 non-null int64\n",
      "ConspelN                           4394 non-null float64\n",
      "ConphonV                           4394 non-null int64\n",
      "ConphonN                           4394 non-null float64\n",
      "ConfriendsV                        4394 non-null int64\n",
      "ConfriendsN                        4394 non-null float64\n",
      "ConffV                             4394 non-null float64\n",
      "ConffN                             4394 non-null float64\n",
      "ConfbV                             4394 non-null float64\n",
      "ConfbN                             4394 non-null float64\n",
      "NounFrequency                      4394 non-null int64\n",
      "VerbFrequency                      4394 non-null int64\n",
      "CV                                 4394 non-null object\n",
      "Obstruent                          4394 non-null object\n",
      "Frication                          4394 non-null object\n",
      "Voice                              4394 non-null object\n",
      "FrequencyInitialDiphoneWord        4394 non-null float64\n",
      "FrequencyInitialDiphoneSyllable    4394 non-null float64\n",
      "CorrectLexdec                      4394 non-null int64\n",
      "dtypes: float64(21), int64(8), object(7)\n",
      "memory usage: 1.2+ MB\n"
     ]
    }
   ],
   "source": [
    "english.info()"
   ]
  },
  {
   "cell_type": "code",
   "execution_count": 6,
   "metadata": {},
   "outputs": [
    {
     "data": {
      "text/plain": [
       "young    2197\n",
       "old      2197\n",
       "Name: AgeSubject, dtype: int64"
      ]
     },
     "execution_count": 6,
     "metadata": {},
     "output_type": "execute_result"
    }
   ],
   "source": [
    "english['AgeSubject'].value_counts()"
   ]
  },
  {
   "cell_type": "code",
   "execution_count": 7,
   "metadata": {},
   "outputs": [],
   "source": [
    "logit1 = smf.glm(\"AgeSubject ~ RTlexdec + WrittenFrequency\", data=english, family=sm.families.Binomial())"
   ]
  },
  {
   "cell_type": "code",
   "execution_count": 8,
   "metadata": {},
   "outputs": [],
   "source": [
    "logit1f = logit1.fit()"
   ]
  },
  {
   "cell_type": "code",
   "execution_count": 9,
   "metadata": {},
   "outputs": [
    {
     "data": {
      "text/html": [
       "<table class=\"simpletable\">\n",
       "<caption>Generalized Linear Model Regression Results</caption>\n",
       "<tr>\n",
       "  <th>Dep. Variable:</th>   <td>['AgeSubject[old]', 'AgeSubject[young]']</td> <th>  No. Observations:  </th>  <td>  4394</td> \n",
       "</tr>\n",
       "<tr>\n",
       "  <th>Model:</th>                              <td>GLM</td>                   <th>  Df Residuals:      </th>  <td>  4391</td> \n",
       "</tr>\n",
       "<tr>\n",
       "  <th>Model Family:</th>                    <td>Binomial</td>                 <th>  Df Model:          </th>  <td>     2</td> \n",
       "</tr>\n",
       "<tr>\n",
       "  <th>Link Function:</th>                     <td>logit</td>                  <th>  Scale:             </th> <td>  1.0000</td>\n",
       "</tr>\n",
       "<tr>\n",
       "  <th>Method:</th>                            <td>IRLS</td>                   <th>  Log-Likelihood:    </th> <td> -1007.4</td>\n",
       "</tr>\n",
       "<tr>\n",
       "  <th>Date:</th>                        <td>Tue, 03 Mar 2020</td>             <th>  Deviance:          </th> <td>  2014.8</td>\n",
       "</tr>\n",
       "<tr>\n",
       "  <th>Time:</th>                            <td>22:59:19</td>                 <th>  Pearson chi2:      </th> <td>6.19e+03</td>\n",
       "</tr>\n",
       "<tr>\n",
       "  <th>No. Iterations:</th>                      <td>7</td>                    <th>                     </th>     <td> </td>   \n",
       "</tr>\n",
       "<tr>\n",
       "  <th>Covariance Type:</th>                 <td>nonrobust</td>                <th>                     </th>     <td> </td>   \n",
       "</tr>\n",
       "</table>\n",
       "<table class=\"simpletable\">\n",
       "<tr>\n",
       "          <td></td>            <th>coef</th>     <th>std err</th>      <th>z</th>      <th>P>|z|</th>  <th>[0.025</th>    <th>0.975]</th>  \n",
       "</tr>\n",
       "<tr>\n",
       "  <th>Intercept</th>        <td> -211.2127</td> <td>    6.703</td> <td>  -31.510</td> <td> 0.000</td> <td> -224.350</td> <td> -198.075</td>\n",
       "</tr>\n",
       "<tr>\n",
       "  <th>RTlexdec</th>         <td>   31.3852</td> <td>    0.996</td> <td>   31.521</td> <td> 0.000</td> <td>   29.434</td> <td>   33.337</td>\n",
       "</tr>\n",
       "<tr>\n",
       "  <th>WrittenFrequency</th> <td>    1.1391</td> <td>    0.048</td> <td>   23.715</td> <td> 0.000</td> <td>    1.045</td> <td>    1.233</td>\n",
       "</tr>\n",
       "</table>"
      ],
      "text/plain": [
       "<class 'statsmodels.iolib.summary.Summary'>\n",
       "\"\"\"\n",
       "                            Generalized Linear Model Regression Results                             \n",
       "====================================================================================================\n",
       "Dep. Variable:     ['AgeSubject[old]', 'AgeSubject[young]']   No. Observations:                 4394\n",
       "Model:                                                  GLM   Df Residuals:                     4391\n",
       "Model Family:                                      Binomial   Df Model:                            2\n",
       "Link Function:                                        logit   Scale:                          1.0000\n",
       "Method:                                                IRLS   Log-Likelihood:                -1007.4\n",
       "Date:                                      Tue, 03 Mar 2020   Deviance:                       2014.8\n",
       "Time:                                              22:59:19   Pearson chi2:                 6.19e+03\n",
       "No. Iterations:                                           7                                         \n",
       "Covariance Type:                                  nonrobust                                         \n",
       "====================================================================================\n",
       "                       coef    std err          z      P>|z|      [0.025      0.975]\n",
       "------------------------------------------------------------------------------------\n",
       "Intercept         -211.2127      6.703    -31.510      0.000    -224.350    -198.075\n",
       "RTlexdec            31.3852      0.996     31.521      0.000      29.434      33.337\n",
       "WrittenFrequency     1.1391      0.048     23.715      0.000       1.045       1.233\n",
       "====================================================================================\n",
       "\"\"\""
      ]
     },
     "execution_count": 9,
     "metadata": {},
     "output_type": "execute_result"
    }
   ],
   "source": [
    "logit1f.summary()"
   ]
  },
  {
   "cell_type": "markdown",
   "metadata": {},
   "source": [
    "##### Complicated case: many labels\n",
    "\n",
    "Now a textbook example using sklearn's pre-loaded data set 20 news group data. \n",
    "- For detailed explanation, see the textbook section:\n",
    " https://jakevdp.github.io/PythonDataScienceHandbook/05.05-naive-bayes.html\n",
    "- The original data set can be downloaded from: http://qwone.com/~jason/20Newsgroups/\n",
    "- sklearn's tutorial on the dataset: https://scikit-learn.org/0.19/datasets/twenty_newsgroups.html\n",
    "\n",
    "Topic classification is our goal: \n",
    "- Given a short text, can we identify topic labels? \n",
    "\n",
    "Text-based classification requires converting **INDIVIDUAL WORDS into a their own features**, which blows up feature space. Some common strategies:\n",
    "\n",
    "- Removing stop words and punctuation (depending on your data and goal) \n",
    "- Limiting word types to top 2000K, 5000K, etc. \n",
    "- Using \"sparse vector\" format"
   ]
  },
  {
   "cell_type": "code",
   "execution_count": 10,
   "metadata": {},
   "outputs": [
    {
     "data": {
      "text/plain": [
       "['alt.atheism', 'comp.graphics', 'comp.os.ms-windows.misc', 'comp.sys.ibm.pc.hardware', 'comp.sys.mac.hardware', 'comp.windows.x', 'misc.forsale', 'rec.autos', 'rec.motorcycles', 'rec.sport.baseball', 'rec.sport.hockey', 'sci.crypt', 'sci.electronics', 'sci.med', 'sci.space', 'soc.religion.christian', 'talk.politics.guns', 'talk.politics.mideast', 'talk.politics.misc', 'talk.religion.misc']"
      ]
     },
     "execution_count": 10,
     "metadata": {},
     "output_type": "execute_result"
    }
   ],
   "source": [
    "from sklearn.datasets import fetch_20newsgroups\n",
    "data = fetch_20newsgroups()   # downloads training data by default: subset='train'. test', 'all'\n",
    "data.target_names"
   ]
  },
  {
   "cell_type": "code",
   "execution_count": 11,
   "metadata": {},
   "outputs": [
    {
     "data": {
      "text/plain": [
       "['DESCR', 'data', 'filenames', 'target', 'target_names']"
      ]
     },
     "execution_count": 11,
     "metadata": {},
     "output_type": "execute_result"
    },
    {
     "data": {
      "text/plain": [
       "<class 'sklearn.utils.Bunch'>"
      ]
     },
     "execution_count": 11,
     "metadata": {},
     "output_type": "execute_result"
    }
   ],
   "source": [
    "dir(data)\n",
    "type(data)"
   ]
  },
  {
   "cell_type": "code",
   "execution_count": 12,
   "metadata": {},
   "outputs": [
    {
     "data": {
      "text/plain": [
       "(11314,)"
      ]
     },
     "execution_count": 12,
     "metadata": {},
     "output_type": "execute_result"
    }
   ],
   "source": [
    "data.target.shape"
   ]
  },
  {
   "cell_type": "code",
   "execution_count": 13,
   "metadata": {},
   "outputs": [
    {
     "data": {
      "text/plain": [
       "array(['C:\\\\Users\\\\Anthony\\\\scikit_learn_data\\\\20news_home\\\\20news-bydate-train\\\\rec.autos\\\\102994',\n",
       "       'C:\\\\Users\\\\Anthony\\\\scikit_learn_data\\\\20news_home\\\\20news-bydate-train\\\\comp.sys.mac.hardware\\\\51861',\n",
       "       'C:\\\\Users\\\\Anthony\\\\scikit_learn_data\\\\20news_home\\\\20news-bydate-train\\\\comp.sys.mac.hardware\\\\51879',\n",
       "       'C:\\\\Users\\\\Anthony\\\\scikit_learn_data\\\\20news_home\\\\20news-bydate-train\\\\comp.graphics\\\\38242',\n",
       "       'C:\\\\Users\\\\Anthony\\\\scikit_learn_data\\\\20news_home\\\\20news-bydate-train\\\\sci.space\\\\60880'],\n",
       "      dtype='<U97')"
      ]
     },
     "execution_count": 13,
     "metadata": {},
     "output_type": "execute_result"
    }
   ],
   "source": [
    "data.filenames[:5]"
   ]
  },
  {
   "cell_type": "code",
   "execution_count": 14,
   "metadata": {},
   "outputs": [
    {
     "data": {
      "text/plain": [
       "\"From: lerxst@wam.umd.edu (where's my thing)\\nSubject: WHAT car is this!?\\nNntp-Posting-Host: rac3.wam.umd.edu\\nOrganization: University of Maryland, College Park\\nLines: 15\\n\\n I was wondering if anyone out there could enlighten me on this car I saw\\nthe other day. It was a 2-door sports car, looked to be from the late 60s/\\nearly 70s. It was called a Bricklin. The doors were really small. In addition,\\nthe front bumper was separate from the rest of the body. This is \\nall I know. If anyone can tellme a model name, engine specs, years\\nof production, where this car is made, history, or whatever info you\\nhave on this funky looking car, please e-mail.\\n\\nThanks,\\n- IL\\n   ---- brought to you by your neighborhood Lerxst ----\\n\\n\\n\\n\\n\""
      ]
     },
     "execution_count": 14,
     "metadata": {},
     "output_type": "execute_result"
    }
   ],
   "source": [
    "data.data[0]"
   ]
  },
  {
   "cell_type": "code",
   "execution_count": 15,
   "metadata": {},
   "outputs": [
    {
     "data": {
      "text/plain": [
       "array([ 7,  4,  4,  1, 14])"
      ]
     },
     "execution_count": 15,
     "metadata": {},
     "output_type": "execute_result"
    }
   ],
   "source": [
    "data.target[:5]"
   ]
  },
  {
   "cell_type": "markdown",
   "metadata": {},
   "source": [
    "### We'll download subsections of the data, with four categories only, training and test sections"
   ]
  },
  {
   "cell_type": "code",
   "execution_count": 16,
   "metadata": {},
   "outputs": [],
   "source": [
    "categories = ['talk.religion.misc', 'soc.religion.christian',\n",
    "              'sci.space', 'comp.graphics']\n",
    "train = fetch_20newsgroups(subset='train', categories=categories)\n",
    "test = fetch_20newsgroups(subset='test', categories=categories)"
   ]
  },
  {
   "cell_type": "code",
   "execution_count": 17,
   "metadata": {},
   "outputs": [
    {
     "data": {
      "text/plain": [
       "<class 'sklearn.utils.Bunch'>"
      ]
     },
     "execution_count": 17,
     "metadata": {},
     "output_type": "execute_result"
    },
    {
     "data": {
      "text/plain": [
       "['DESCR', 'data', 'filenames', 'target', 'target_names']"
      ]
     },
     "execution_count": 17,
     "metadata": {},
     "output_type": "execute_result"
    }
   ],
   "source": [
    "type(train)\n",
    "dir(train)"
   ]
  },
  {
   "cell_type": "code",
   "execution_count": 18,
   "metadata": {},
   "outputs": [
    {
     "data": {
      "text/plain": [
       "'From: revdak@netcom.com (D. Andrew Kille)\\nSubject: Re: Serbian genocide Work of God?\\nOrganization: NETCOM On-line Communication Services (408 241-9760 guest)\\nLines: 22\\n\\nJames Sledd (jsledd@ssdc.sas.upenn.edu) wrote:\\n: Are the Serbs doing the work of God?  Hmm...\\n\\n: I\\'ve been wondering if anyone would ever ask the question,\\n\\n: Are the governments of the United States and Europe not moving\\n: to end the ethnic cleansing by the Serbs because the targets are\\n: muslims?\\n\\n: Can/Does God use those who are not following him to accomplish\\n: tasks for him?  Esp those tasks that are punative?\\n\\n: James Sledd\\n: no cute sig....  but I\\'m working on it.\\n\\nAre you suggesting that God supports genocide?\\nPerhaps the Germans were \"punishing\" Jews on God\\'s behalf?\\n\\nAny God who works that way is indescribably evil, and unworthy of\\nmy worship or faith.\\n\\nrevdak@netcom.com\\n'"
      ]
     },
     "execution_count": 18,
     "metadata": {},
     "output_type": "execute_result"
    }
   ],
   "source": [
    "train.data[3]\n",
    "# Quick! Which topic is this? "
   ]
  },
  {
   "cell_type": "code",
   "execution_count": 19,
   "metadata": {},
   "outputs": [
    {
     "data": {
      "text/plain": [
       "2"
      ]
     },
     "execution_count": 19,
     "metadata": {},
     "output_type": "execute_result"
    }
   ],
   "source": [
    "train.target[3]"
   ]
  },
  {
   "cell_type": "code",
   "execution_count": 20,
   "metadata": {},
   "outputs": [
    {
     "data": {
      "text/plain": [
       "['comp.graphics', 'sci.space', 'soc.religion.christian', 'talk.religion.misc']"
      ]
     },
     "execution_count": 20,
     "metadata": {},
     "output_type": "execute_result"
    },
    {
     "data": {
      "text/plain": [
       "'soc.religion.christian'"
      ]
     },
     "execution_count": 20,
     "metadata": {},
     "output_type": "execute_result"
    }
   ],
   "source": [
    "train.target_names\n",
    "train.target_names[train.target[3]]"
   ]
  },
  {
   "cell_type": "code",
   "execution_count": 21,
   "metadata": {},
   "outputs": [
    {
     "data": {
      "text/plain": [
       "array([2, 2, 1, 2, 0, 3, 1, 0, 3, 3, 2, 0, 1, 2, 3, 2, 2, 0, 1, 0, 1, 0,\n",
       "       1, 2, 2, 0, 0, 1, 3, 3, 1, 1, 2, 1, 1, 1, 0, 2, 0, 3, 2, 1, 2, 2,\n",
       "       2, 1, 1, 1, 1, 2, 3, 3, 1, 0, 1, 2, 3, 2, 2, 2, 0, 3, 1, 1, 2, 3,\n",
       "       0, 2, 0, 0, 1, 0, 2, 1, 2, 1, 0, 0, 1, 1, 2, 2, 1, 0, 2, 2, 0, 2,\n",
       "       0, 2, 0, 2, 1, 1, 3, 0, 1, 1, 0, 1], dtype=int64)"
      ]
     },
     "execution_count": 21,
     "metadata": {},
     "output_type": "execute_result"
    }
   ],
   "source": [
    "train.target[:100]"
   ]
  },
  {
   "cell_type": "code",
   "execution_count": 22,
   "metadata": {},
   "outputs": [
    {
     "data": {
      "text/plain": [
       "2153"
      ]
     },
     "execution_count": 22,
     "metadata": {},
     "output_type": "execute_result"
    },
    {
     "data": {
      "text/plain": [
       "1432"
      ]
     },
     "execution_count": 22,
     "metadata": {},
     "output_type": "execute_result"
    }
   ],
   "source": [
    "len(train.data)\n",
    "len(test.data)"
   ]
  },
  {
   "cell_type": "code",
   "execution_count": 23,
   "metadata": {},
   "outputs": [
    {
     "data": {
      "text/html": [
       "<div>\n",
       "<style scoped>\n",
       "    .dataframe tbody tr th:only-of-type {\n",
       "        vertical-align: middle;\n",
       "    }\n",
       "\n",
       "    .dataframe tbody tr th {\n",
       "        vertical-align: top;\n",
       "    }\n",
       "\n",
       "    .dataframe thead th {\n",
       "        text-align: right;\n",
       "    }\n",
       "</style>\n",
       "<table border=\"1\" class=\"dataframe\">\n",
       "  <thead>\n",
       "    <tr style=\"text-align: right;\">\n",
       "      <th></th>\n",
       "      <th>target</th>\n",
       "      <th>text</th>\n",
       "    </tr>\n",
       "  </thead>\n",
       "  <tbody>\n",
       "    <tr>\n",
       "      <td>0</td>\n",
       "      <td>2</td>\n",
       "      <td>From: jono@mac-ak-24.rtsg.mot.com (Jon Ogden)\\...</td>\n",
       "    </tr>\n",
       "    <tr>\n",
       "      <td>1</td>\n",
       "      <td>2</td>\n",
       "      <td>From: MANDTBACKA@finabo.abo.fi (Mats Andtbacka...</td>\n",
       "    </tr>\n",
       "    <tr>\n",
       "      <td>2</td>\n",
       "      <td>1</td>\n",
       "      <td>From: mccall@mksol.dseg.ti.com (fred j mccall ...</td>\n",
       "    </tr>\n",
       "    <tr>\n",
       "      <td>3</td>\n",
       "      <td>2</td>\n",
       "      <td>From: revdak@netcom.com (D. Andrew Kille)\\nSub...</td>\n",
       "    </tr>\n",
       "    <tr>\n",
       "      <td>4</td>\n",
       "      <td>0</td>\n",
       "      <td>From: hl7204@eehp22 (H L)\\nSubject: Re: Graphi...</td>\n",
       "    </tr>\n",
       "  </tbody>\n",
       "</table>\n",
       "</div>"
      ],
      "text/plain": [
       "   target                                               text\n",
       "0       2  From: jono@mac-ak-24.rtsg.mot.com (Jon Ogden)\\...\n",
       "1       2  From: MANDTBACKA@finabo.abo.fi (Mats Andtbacka...\n",
       "2       1  From: mccall@mksol.dseg.ti.com (fred j mccall ...\n",
       "3       2  From: revdak@netcom.com (D. Andrew Kille)\\nSub...\n",
       "4       0  From: hl7204@eehp22 (H L)\\nSubject: Re: Graphi..."
      ]
     },
     "execution_count": 23,
     "metadata": {},
     "output_type": "execute_result"
    }
   ],
   "source": [
    "# The data is not in DataFrame format, but you could shape it into one if you wanted to: \n",
    "train_df = pd.DataFrame()\n",
    "train_df['target'] = train.target\n",
    "train_df['text'] = train.data\n",
    "train_df.head()"
   ]
  },
  {
   "cell_type": "markdown",
   "metadata": {},
   "source": [
    "### Question: how do you extract & represent word-based features from the text?\n",
    "- **Bag-of-words** approach: reduce a document to the words it contains\n",
    "- **Occurrence** features: whether or not each word occurs in a document (0 or 1)\n",
    "- **Count features**:  how many times each word occurs in a document (0 --) "
   ]
  },
  {
   "cell_type": "code",
   "execution_count": 24,
   "metadata": {},
   "outputs": [
    {
     "data": {
      "text/html": [
       "<div>\n",
       "<style scoped>\n",
       "    .dataframe tbody tr th:only-of-type {\n",
       "        vertical-align: middle;\n",
       "    }\n",
       "\n",
       "    .dataframe tbody tr th {\n",
       "        vertical-align: top;\n",
       "    }\n",
       "\n",
       "    .dataframe thead th {\n",
       "        text-align: right;\n",
       "    }\n",
       "</style>\n",
       "<table border=\"1\" class=\"dataframe\">\n",
       "  <thead>\n",
       "    <tr style=\"text-align: right;\">\n",
       "      <th></th>\n",
       "      <th>target</th>\n",
       "      <th>text</th>\n",
       "    </tr>\n",
       "  </thead>\n",
       "  <tbody>\n",
       "    <tr>\n",
       "      <td>0</td>\n",
       "      <td>2</td>\n",
       "      <td>From: jono@mac-ak-24.rtsg.mot.com (Jon Ogden)\\...</td>\n",
       "    </tr>\n",
       "    <tr>\n",
       "      <td>1</td>\n",
       "      <td>2</td>\n",
       "      <td>From: MANDTBACKA@finabo.abo.fi (Mats Andtbacka...</td>\n",
       "    </tr>\n",
       "    <tr>\n",
       "      <td>2</td>\n",
       "      <td>1</td>\n",
       "      <td>From: mccall@mksol.dseg.ti.com (fred j mccall ...</td>\n",
       "    </tr>\n",
       "    <tr>\n",
       "      <td>3</td>\n",
       "      <td>2</td>\n",
       "      <td>From: revdak@netcom.com (D. Andrew Kille)\\nSub...</td>\n",
       "    </tr>\n",
       "    <tr>\n",
       "      <td>4</td>\n",
       "      <td>0</td>\n",
       "      <td>From: hl7204@eehp22 (H L)\\nSubject: Re: Graphi...</td>\n",
       "    </tr>\n",
       "    <tr>\n",
       "      <td>5</td>\n",
       "      <td>3</td>\n",
       "      <td>From: dmcgee@uluhe.soest.hawaii.edu (Don McGee...</td>\n",
       "    </tr>\n",
       "    <tr>\n",
       "      <td>6</td>\n",
       "      <td>1</td>\n",
       "      <td>From: will@rins.ryukoku.ac.jp (William Reiken)...</td>\n",
       "    </tr>\n",
       "    <tr>\n",
       "      <td>7</td>\n",
       "      <td>0</td>\n",
       "      <td>From: bprofane@netcom.com (Gert Niewahr)\\nSubj...</td>\n",
       "    </tr>\n",
       "    <tr>\n",
       "      <td>8</td>\n",
       "      <td>3</td>\n",
       "      <td>From: dan@Ingres.COM (a Rose arose)\\nSubject: ...</td>\n",
       "    </tr>\n",
       "    <tr>\n",
       "      <td>9</td>\n",
       "      <td>3</td>\n",
       "      <td>From: joslin@pogo.isp.pitt.edu (David Joslin)\\...</td>\n",
       "    </tr>\n",
       "  </tbody>\n",
       "</table>\n",
       "</div>"
      ],
      "text/plain": [
       "   target                                               text\n",
       "0       2  From: jono@mac-ak-24.rtsg.mot.com (Jon Ogden)\\...\n",
       "1       2  From: MANDTBACKA@finabo.abo.fi (Mats Andtbacka...\n",
       "2       1  From: mccall@mksol.dseg.ti.com (fred j mccall ...\n",
       "3       2  From: revdak@netcom.com (D. Andrew Kille)\\nSub...\n",
       "4       0  From: hl7204@eehp22 (H L)\\nSubject: Re: Graphi...\n",
       "5       3  From: dmcgee@uluhe.soest.hawaii.edu (Don McGee...\n",
       "6       1  From: will@rins.ryukoku.ac.jp (William Reiken)...\n",
       "7       0  From: bprofane@netcom.com (Gert Niewahr)\\nSubj...\n",
       "8       3  From: dan@Ingres.COM (a Rose arose)\\nSubject: ...\n",
       "9       3  From: joslin@pogo.isp.pitt.edu (David Joslin)\\..."
      ]
     },
     "execution_count": 24,
     "metadata": {},
     "output_type": "execute_result"
    }
   ],
   "source": [
    "toy_df = train_df[:10].copy()   # first 10 rows\n",
    "toy_df"
   ]
  },
  {
   "cell_type": "code",
   "execution_count": 25,
   "metadata": {},
   "outputs": [
    {
     "data": {
      "text/html": [
       "<div>\n",
       "<style scoped>\n",
       "    .dataframe tbody tr th:only-of-type {\n",
       "        vertical-align: middle;\n",
       "    }\n",
       "\n",
       "    .dataframe tbody tr th {\n",
       "        vertical-align: top;\n",
       "    }\n",
       "\n",
       "    .dataframe thead th {\n",
       "        text-align: right;\n",
       "    }\n",
       "</style>\n",
       "<table border=\"1\" class=\"dataframe\">\n",
       "  <thead>\n",
       "    <tr style=\"text-align: right;\">\n",
       "      <th></th>\n",
       "      <th>target</th>\n",
       "      <th>text</th>\n",
       "      <th>tokens</th>\n",
       "    </tr>\n",
       "  </thead>\n",
       "  <tbody>\n",
       "    <tr>\n",
       "      <td>0</td>\n",
       "      <td>2</td>\n",
       "      <td>From: jono@mac-ak-24.rtsg.mot.com (Jon Ogden)\\...</td>\n",
       "      <td>[from, :, jono, @, mac-ak-24.rtsg.mot.com, (, ...</td>\n",
       "    </tr>\n",
       "    <tr>\n",
       "      <td>1</td>\n",
       "      <td>2</td>\n",
       "      <td>From: MANDTBACKA@finabo.abo.fi (Mats Andtbacka...</td>\n",
       "      <td>[from, :, mandtbacka, @, finabo.abo.fi, (, mat...</td>\n",
       "    </tr>\n",
       "    <tr>\n",
       "      <td>2</td>\n",
       "      <td>1</td>\n",
       "      <td>From: mccall@mksol.dseg.ti.com (fred j mccall ...</td>\n",
       "      <td>[from, :, mccall, @, mksol.dseg.ti.com, (, fre...</td>\n",
       "    </tr>\n",
       "    <tr>\n",
       "      <td>3</td>\n",
       "      <td>2</td>\n",
       "      <td>From: revdak@netcom.com (D. Andrew Kille)\\nSub...</td>\n",
       "      <td>[from, :, revdak, @, netcom.com, (, d., andrew...</td>\n",
       "    </tr>\n",
       "    <tr>\n",
       "      <td>4</td>\n",
       "      <td>0</td>\n",
       "      <td>From: hl7204@eehp22 (H L)\\nSubject: Re: Graphi...</td>\n",
       "      <td>[from, :, hl7204, @, eehp22, (, h, l, ), subje...</td>\n",
       "    </tr>\n",
       "    <tr>\n",
       "      <td>5</td>\n",
       "      <td>3</td>\n",
       "      <td>From: dmcgee@uluhe.soest.hawaii.edu (Don McGee...</td>\n",
       "      <td>[from, :, dmcgee, @, uluhe.soest.hawaii.edu, (...</td>\n",
       "    </tr>\n",
       "    <tr>\n",
       "      <td>6</td>\n",
       "      <td>1</td>\n",
       "      <td>From: will@rins.ryukoku.ac.jp (William Reiken)...</td>\n",
       "      <td>[from, :, will, @, rins.ryukoku.ac.jp, (, will...</td>\n",
       "    </tr>\n",
       "    <tr>\n",
       "      <td>7</td>\n",
       "      <td>0</td>\n",
       "      <td>From: bprofane@netcom.com (Gert Niewahr)\\nSubj...</td>\n",
       "      <td>[from, :, bprofane, @, netcom.com, (, gert, ni...</td>\n",
       "    </tr>\n",
       "    <tr>\n",
       "      <td>8</td>\n",
       "      <td>3</td>\n",
       "      <td>From: dan@Ingres.COM (a Rose arose)\\nSubject: ...</td>\n",
       "      <td>[from, :, dan, @, ingres.com, (, a, rose, aros...</td>\n",
       "    </tr>\n",
       "    <tr>\n",
       "      <td>9</td>\n",
       "      <td>3</td>\n",
       "      <td>From: joslin@pogo.isp.pitt.edu (David Joslin)\\...</td>\n",
       "      <td>[from, :, joslin, @, pogo.isp.pitt.edu, (, dav...</td>\n",
       "    </tr>\n",
       "  </tbody>\n",
       "</table>\n",
       "</div>"
      ],
      "text/plain": [
       "   target                                               text  \\\n",
       "0       2  From: jono@mac-ak-24.rtsg.mot.com (Jon Ogden)\\...   \n",
       "1       2  From: MANDTBACKA@finabo.abo.fi (Mats Andtbacka...   \n",
       "2       1  From: mccall@mksol.dseg.ti.com (fred j mccall ...   \n",
       "3       2  From: revdak@netcom.com (D. Andrew Kille)\\nSub...   \n",
       "4       0  From: hl7204@eehp22 (H L)\\nSubject: Re: Graphi...   \n",
       "5       3  From: dmcgee@uluhe.soest.hawaii.edu (Don McGee...   \n",
       "6       1  From: will@rins.ryukoku.ac.jp (William Reiken)...   \n",
       "7       0  From: bprofane@netcom.com (Gert Niewahr)\\nSubj...   \n",
       "8       3  From: dan@Ingres.COM (a Rose arose)\\nSubject: ...   \n",
       "9       3  From: joslin@pogo.isp.pitt.edu (David Joslin)\\...   \n",
       "\n",
       "                                              tokens  \n",
       "0  [from, :, jono, @, mac-ak-24.rtsg.mot.com, (, ...  \n",
       "1  [from, :, mandtbacka, @, finabo.abo.fi, (, mat...  \n",
       "2  [from, :, mccall, @, mksol.dseg.ti.com, (, fre...  \n",
       "3  [from, :, revdak, @, netcom.com, (, d., andrew...  \n",
       "4  [from, :, hl7204, @, eehp22, (, h, l, ), subje...  \n",
       "5  [from, :, dmcgee, @, uluhe.soest.hawaii.edu, (...  \n",
       "6  [from, :, will, @, rins.ryukoku.ac.jp, (, will...  \n",
       "7  [from, :, bprofane, @, netcom.com, (, gert, ni...  \n",
       "8  [from, :, dan, @, ingres.com, (, a, rose, aros...  \n",
       "9  [from, :, joslin, @, pogo.isp.pitt.edu, (, dav...  "
      ]
     },
     "execution_count": 25,
     "metadata": {},
     "output_type": "execute_result"
    }
   ],
   "source": [
    "# Lowercase and then tokenize\n",
    "toy_df['tokens'] = toy_df.text.map(lambda x: nltk.word_tokenize(x.lower()))\n",
    "toy_df"
   ]
  },
  {
   "cell_type": "code",
   "execution_count": 26,
   "metadata": {},
   "outputs": [
    {
     "data": {
      "text/html": [
       "<div>\n",
       "<style scoped>\n",
       "    .dataframe tbody tr th:only-of-type {\n",
       "        vertical-align: middle;\n",
       "    }\n",
       "\n",
       "    .dataframe tbody tr th {\n",
       "        vertical-align: top;\n",
       "    }\n",
       "\n",
       "    .dataframe thead th {\n",
       "        text-align: right;\n",
       "    }\n",
       "</style>\n",
       "<table border=\"1\" class=\"dataframe\">\n",
       "  <thead>\n",
       "    <tr style=\"text-align: right;\">\n",
       "      <th></th>\n",
       "      <th>target</th>\n",
       "      <th>text</th>\n",
       "      <th>tokens</th>\n",
       "      <th>god#</th>\n",
       "      <th>believe#</th>\n",
       "      <th>space#</th>\n",
       "      <th>computer#</th>\n",
       "      <th>graphics#</th>\n",
       "      <th>the#</th>\n",
       "      <th>you#</th>\n",
       "      <th>way#</th>\n",
       "    </tr>\n",
       "  </thead>\n",
       "  <tbody>\n",
       "    <tr>\n",
       "      <td>0</td>\n",
       "      <td>2</td>\n",
       "      <td>From: jono@mac-ak-24.rtsg.mot.com (Jon Ogden)\\...</td>\n",
       "      <td>[from, :, jono, @, mac-ak-24.rtsg.mot.com, (, ...</td>\n",
       "      <td>0</td>\n",
       "      <td>0</td>\n",
       "      <td>0</td>\n",
       "      <td>0</td>\n",
       "      <td>0</td>\n",
       "      <td>6</td>\n",
       "      <td>0</td>\n",
       "      <td>0</td>\n",
       "    </tr>\n",
       "    <tr>\n",
       "      <td>1</td>\n",
       "      <td>2</td>\n",
       "      <td>From: MANDTBACKA@finabo.abo.fi (Mats Andtbacka...</td>\n",
       "      <td>[from, :, mandtbacka, @, finabo.abo.fi, (, mat...</td>\n",
       "      <td>1</td>\n",
       "      <td>0</td>\n",
       "      <td>1</td>\n",
       "      <td>0</td>\n",
       "      <td>0</td>\n",
       "      <td>3</td>\n",
       "      <td>2</td>\n",
       "      <td>0</td>\n",
       "    </tr>\n",
       "    <tr>\n",
       "      <td>2</td>\n",
       "      <td>1</td>\n",
       "      <td>From: mccall@mksol.dseg.ti.com (fred j mccall ...</td>\n",
       "      <td>[from, :, mccall, @, mksol.dseg.ti.com, (, fre...</td>\n",
       "      <td>0</td>\n",
       "      <td>0</td>\n",
       "      <td>0</td>\n",
       "      <td>0</td>\n",
       "      <td>0</td>\n",
       "      <td>7</td>\n",
       "      <td>3</td>\n",
       "      <td>0</td>\n",
       "    </tr>\n",
       "    <tr>\n",
       "      <td>3</td>\n",
       "      <td>2</td>\n",
       "      <td>From: revdak@netcom.com (D. Andrew Kille)\\nSub...</td>\n",
       "      <td>[from, :, revdak, @, netcom.com, (, d., andrew...</td>\n",
       "      <td>6</td>\n",
       "      <td>0</td>\n",
       "      <td>0</td>\n",
       "      <td>0</td>\n",
       "      <td>0</td>\n",
       "      <td>9</td>\n",
       "      <td>1</td>\n",
       "      <td>1</td>\n",
       "    </tr>\n",
       "    <tr>\n",
       "      <td>4</td>\n",
       "      <td>0</td>\n",
       "      <td>From: hl7204@eehp22 (H L)\\nSubject: Re: Graphi...</td>\n",
       "      <td>[from, :, hl7204, @, eehp22, (, h, l, ), subje...</td>\n",
       "      <td>0</td>\n",
       "      <td>0</td>\n",
       "      <td>0</td>\n",
       "      <td>0</td>\n",
       "      <td>1</td>\n",
       "      <td>0</td>\n",
       "      <td>0</td>\n",
       "      <td>0</td>\n",
       "    </tr>\n",
       "    <tr>\n",
       "      <td>5</td>\n",
       "      <td>3</td>\n",
       "      <td>From: dmcgee@uluhe.soest.hawaii.edu (Don McGee...</td>\n",
       "      <td>[from, :, dmcgee, @, uluhe.soest.hawaii.edu, (...</td>\n",
       "      <td>0</td>\n",
       "      <td>0</td>\n",
       "      <td>0</td>\n",
       "      <td>0</td>\n",
       "      <td>0</td>\n",
       "      <td>7</td>\n",
       "      <td>0</td>\n",
       "      <td>0</td>\n",
       "    </tr>\n",
       "    <tr>\n",
       "      <td>6</td>\n",
       "      <td>1</td>\n",
       "      <td>From: will@rins.ryukoku.ac.jp (William Reiken)...</td>\n",
       "      <td>[from, :, will, @, rins.ryukoku.ac.jp, (, will...</td>\n",
       "      <td>0</td>\n",
       "      <td>0</td>\n",
       "      <td>0</td>\n",
       "      <td>0</td>\n",
       "      <td>0</td>\n",
       "      <td>1</td>\n",
       "      <td>0</td>\n",
       "      <td>0</td>\n",
       "    </tr>\n",
       "    <tr>\n",
       "      <td>7</td>\n",
       "      <td>0</td>\n",
       "      <td>From: bprofane@netcom.com (Gert Niewahr)\\nSubj...</td>\n",
       "      <td>[from, :, bprofane, @, netcom.com, (, gert, ni...</td>\n",
       "      <td>0</td>\n",
       "      <td>0</td>\n",
       "      <td>0</td>\n",
       "      <td>0</td>\n",
       "      <td>0</td>\n",
       "      <td>14</td>\n",
       "      <td>1</td>\n",
       "      <td>0</td>\n",
       "    </tr>\n",
       "    <tr>\n",
       "      <td>8</td>\n",
       "      <td>3</td>\n",
       "      <td>From: dan@Ingres.COM (a Rose arose)\\nSubject: ...</td>\n",
       "      <td>[from, :, dan, @, ingres.com, (, a, rose, aros...</td>\n",
       "      <td>3</td>\n",
       "      <td>0</td>\n",
       "      <td>0</td>\n",
       "      <td>0</td>\n",
       "      <td>0</td>\n",
       "      <td>49</td>\n",
       "      <td>2</td>\n",
       "      <td>1</td>\n",
       "    </tr>\n",
       "    <tr>\n",
       "      <td>9</td>\n",
       "      <td>3</td>\n",
       "      <td>From: joslin@pogo.isp.pitt.edu (David Joslin)\\...</td>\n",
       "      <td>[from, :, joslin, @, pogo.isp.pitt.edu, (, dav...</td>\n",
       "      <td>2</td>\n",
       "      <td>1</td>\n",
       "      <td>0</td>\n",
       "      <td>0</td>\n",
       "      <td>0</td>\n",
       "      <td>9</td>\n",
       "      <td>14</td>\n",
       "      <td>1</td>\n",
       "    </tr>\n",
       "  </tbody>\n",
       "</table>\n",
       "</div>"
      ],
      "text/plain": [
       "   target                                               text  \\\n",
       "0       2  From: jono@mac-ak-24.rtsg.mot.com (Jon Ogden)\\...   \n",
       "1       2  From: MANDTBACKA@finabo.abo.fi (Mats Andtbacka...   \n",
       "2       1  From: mccall@mksol.dseg.ti.com (fred j mccall ...   \n",
       "3       2  From: revdak@netcom.com (D. Andrew Kille)\\nSub...   \n",
       "4       0  From: hl7204@eehp22 (H L)\\nSubject: Re: Graphi...   \n",
       "5       3  From: dmcgee@uluhe.soest.hawaii.edu (Don McGee...   \n",
       "6       1  From: will@rins.ryukoku.ac.jp (William Reiken)...   \n",
       "7       0  From: bprofane@netcom.com (Gert Niewahr)\\nSubj...   \n",
       "8       3  From: dan@Ingres.COM (a Rose arose)\\nSubject: ...   \n",
       "9       3  From: joslin@pogo.isp.pitt.edu (David Joslin)\\...   \n",
       "\n",
       "                                              tokens  god#  believe#  space#  \\\n",
       "0  [from, :, jono, @, mac-ak-24.rtsg.mot.com, (, ...     0         0       0   \n",
       "1  [from, :, mandtbacka, @, finabo.abo.fi, (, mat...     1         0       1   \n",
       "2  [from, :, mccall, @, mksol.dseg.ti.com, (, fre...     0         0       0   \n",
       "3  [from, :, revdak, @, netcom.com, (, d., andrew...     6         0       0   \n",
       "4  [from, :, hl7204, @, eehp22, (, h, l, ), subje...     0         0       0   \n",
       "5  [from, :, dmcgee, @, uluhe.soest.hawaii.edu, (...     0         0       0   \n",
       "6  [from, :, will, @, rins.ryukoku.ac.jp, (, will...     0         0       0   \n",
       "7  [from, :, bprofane, @, netcom.com, (, gert, ni...     0         0       0   \n",
       "8  [from, :, dan, @, ingres.com, (, a, rose, aros...     3         0       0   \n",
       "9  [from, :, joslin, @, pogo.isp.pitt.edu, (, dav...     2         1       0   \n",
       "\n",
       "   computer#  graphics#  the#  you#  way#  \n",
       "0          0          0     6     0     0  \n",
       "1          0          0     3     2     0  \n",
       "2          0          0     7     3     0  \n",
       "3          0          0     9     1     1  \n",
       "4          0          1     0     0     0  \n",
       "5          0          0     7     0     0  \n",
       "6          0          0     1     0     0  \n",
       "7          0          0    14     1     0  \n",
       "8          0          0    49     2     1  \n",
       "9          0          0     9    14     1  "
      ]
     },
     "execution_count": 26,
     "metadata": {},
     "output_type": "execute_result"
    }
   ],
   "source": [
    "toy_df['god#'] = toy_df.tokens.map(lambda x: x.count('god'))\n",
    "toy_df['believe#'] = toy_df.tokens.map(lambda x: x.count('believe'))\n",
    "toy_df['space#'] = toy_df.tokens.map(lambda x: x.count('space'))\n",
    "toy_df['computer#'] = toy_df.tokens.map(lambda x: x.count('computer'))\n",
    "toy_df['graphics#'] = toy_df.tokens.map(lambda x: x.count('graphics'))\n",
    "toy_df['the#'] = toy_df.tokens.map(lambda x: x.count('the'))\n",
    "toy_df['you#'] = toy_df.tokens.map(lambda x: x.count('you'))\n",
    "toy_df['way#'] = toy_df.tokens.map(lambda x: x.count('way'))\n",
    "toy_df"
   ]
  },
  {
   "cell_type": "markdown",
   "metadata": {},
   "source": [
    "### Now do this for ALL word types in the training data...\n",
    "- Or, more realistically, we could do this for the _n_ most frequent word types (We'll use 3,000)\n",
    "- Then, the word-count columns (3,000 of them!) will be `X_train`. Feed that into the Naive Bayes training algorithm...\n",
    "- But is there a better way?"
   ]
  },
  {
   "cell_type": "markdown",
   "metadata": {},
   "source": [
    "### Considerations\n",
    "1. We need to normalize the values: raw counts are sensitive to text length. \n",
    "2. Some words are going to be frequent across all topics, just because they are common words ('the', 'way', 'talked')\n",
    "   - We could filter our function words, but that goes only so far \n",
    "   - 'space' will be common in one topic, not so in others. 'god' will be common in two, but not in others. How to better capture this? \n",
    "3. The vector is going to be SPARSE: most values will be 0. A DataFrame is not an efficient data structure for this.\n",
    "4. We don't want to do all this manually, word by word! "
   ]
  },
  {
   "cell_type": "markdown",
   "metadata": {},
   "source": [
    "## Under the hood with CounterVectorizer and TF-IDF\n",
    "\n",
    "#### Count-vectorize, and then TF-IDF\n",
    "- 3. & 4. as well as tokenization are handled by `CountVectorizer`\n",
    "- 1. & 2. are addressed by `TfidfTransformer`\n",
    "\n",
    "A detour: we will take a look at a detailed illustration of CountVectors and TF-IDF:\n",
    "http://www.pitt.edu/~naraehan/presentation/Movie%20Reviews%20sentiment%20analysis%20with%20Scikit-Learn.html#A-detour:-try-out-CountVectorizer-&-TF-IDF\n",
    "\n",
    "\n",
    "**TF-IDF (Term Frequency - Inverse Document Frequency)**\n",
    "- Textbook section on TF-IDF: https://jakevdp.github.io/PythonDataScienceHandbook/05.04-feature-engineering.html#Text-Features\n",
    "- Better explanation here: http://www.tfidf.com/"
   ]
  },
  {
   "cell_type": "markdown",
   "metadata": {},
   "source": [
    "### Back to the textbook and our 4 newsgroups. \n",
    "-  **Reminder:  Refer to textbook for explanation!! Link up above.** \n",
    "- `TfidfVectorizer()` used below is a combination of `CountVectorizer()` and `TfidfTransformer()`. It takes care of:\n",
    "   - Tokenizes text and gets rid of stop words and punctuation\n",
    "   - Builds a token count vector \n",
    "   - Converts raw token count into TF-IDF (Term Frequency - Inverse Document Frequency)"
   ]
  },
  {
   "cell_type": "code",
   "execution_count": 27,
   "metadata": {},
   "outputs": [],
   "source": [
    "from sklearn.feature_extraction.text import TfidfVectorizer\n",
    "from sklearn.naive_bayes import MultinomialNB\n",
    "from sklearn.pipeline import make_pipeline\n",
    "\n",
    "# pipeline! See textbook. \n",
    "model = make_pipeline(TfidfVectorizer(), MultinomialNB())"
   ]
  },
  {
   "cell_type": "code",
   "execution_count": 28,
   "metadata": {},
   "outputs": [
    {
     "data": {
      "text/plain": [
       "Pipeline(memory=None,\n",
       "         steps=[('tfidfvectorizer',\n",
       "                 TfidfVectorizer(analyzer='word', binary=False,\n",
       "                                 decode_error='strict',\n",
       "                                 dtype=<class 'numpy.float64'>,\n",
       "                                 encoding='utf-8', input='content',\n",
       "                                 lowercase=True, max_df=1.0, max_features=None,\n",
       "                                 min_df=1, ngram_range=(1, 1), norm='l2',\n",
       "                                 preprocessor=None, smooth_idf=True,\n",
       "                                 stop_words=None, strip_accents=None,\n",
       "                                 sublinear_tf=False,\n",
       "                                 token_pattern='(?u)\\\\b\\\\w\\\\w+\\\\b',\n",
       "                                 tokenizer=None, use_idf=True,\n",
       "                                 vocabulary=None)),\n",
       "                ('multinomialnb',\n",
       "                 MultinomialNB(alpha=1.0, class_prior=None, fit_prior=True))],\n",
       "         verbose=False)"
      ]
     },
     "execution_count": 28,
     "metadata": {},
     "output_type": "execute_result"
    }
   ],
   "source": [
    "# train model\n",
    "model.fit(train.data, train.target)\n",
    "\n",
    "# predict labels on test data\n",
    "labels = model.predict(test.data)"
   ]
  },
  {
   "cell_type": "code",
   "execution_count": 29,
   "metadata": {},
   "outputs": [
    {
     "data": {
      "text/plain": [
       "<class 'numpy.ndarray'>"
      ]
     },
     "execution_count": 29,
     "metadata": {},
     "output_type": "execute_result"
    },
    {
     "data": {
      "text/plain": [
       "array([2, 0, 1, 0, 1, 2, 1, 1, 0, 1], dtype=int64)"
      ]
     },
     "execution_count": 29,
     "metadata": {},
     "output_type": "execute_result"
    }
   ],
   "source": [
    "type(labels)\n",
    "labels[:10]"
   ]
  },
  {
   "cell_type": "code",
   "execution_count": 30,
   "metadata": {},
   "outputs": [
    {
     "data": {
      "text/plain": [
       "0"
      ]
     },
     "execution_count": 30,
     "metadata": {},
     "output_type": "execute_result"
    },
    {
     "data": {
      "text/plain": [
       "'comp.graphics'"
      ]
     },
     "execution_count": 30,
     "metadata": {},
     "output_type": "execute_result"
    },
    {
     "data": {
      "text/plain": [
       "\"From: ddennis@nyx.cs.du.edu (Dave Dennis)\\nSubject: Re: Adobe Type Manager - what good is it??\\nOrganization: University of Denver, Dept. of Math & Comp. Sci.\\nLines: 29\\n\\nmenchett@dws015.unr.edu (Peter J Menchetti) writes:\\n\\n>The subject says it all. I bought Adobe Type Manager and find it completely\\n>useless. I ftped some atm fonts and couldn't install them. What's the use?\\n>Are you supposed to be able to convert ATM fonts to Truetype?\\n\\n>If there's anyone out there who has this program and actually finds it \\n>useful, enlighten me!\\n\\n>Pete\\n\\nThere are some tricks to installing ATM to windows... install them first\\nto dos, then run the ATM control panel to get them into windows.\\n\\nThe best reason for ATM is that Adobe IS the standard.  Truetype is a\\nfailed MS venture to undercut Adobe when Adobe was being nasty about\\nkeeping their formats proprietary.  Just about any service bureau or print\\nshop will smirk and send you on your way if you bring a TrueType document\\nto them for high resolution printing or ripping.\\n\\nAlthough there are lots of pretty TT fonts floating around, they are really\\nfor dot matrix or your own lazer printer.\\nHowever, you can convert your TT fonts with Fontmonger or some similar program\\nto ATM fonts for high end stuff.\\n\\nIf you are using dot matrix for all your printing, you may have wasted\\nyour money!\\n\\nDave\\n\""
      ]
     },
     "execution_count": 30,
     "metadata": {},
     "output_type": "execute_result"
    }
   ],
   "source": [
    "test.target[1]\n",
    "test.target_names[0]\n",
    "test.data[1]"
   ]
  },
  {
   "cell_type": "code",
   "execution_count": 31,
   "metadata": {},
   "outputs": [
    {
     "data": {
      "text/plain": [
       "array([3, 0, 1, 0, 1, 2, 1, 1, 0, 1], dtype=int64)"
      ]
     },
     "execution_count": 31,
     "metadata": {},
     "output_type": "execute_result"
    },
    {
     "data": {
      "text/plain": [
       "array([2, 0, 1, 0, 1, 2, 1, 1, 0, 1], dtype=int64)"
      ]
     },
     "execution_count": 31,
     "metadata": {},
     "output_type": "execute_result"
    }
   ],
   "source": [
    "# seems to match up pretty well\n",
    "test.target[:10]\n",
    "labels[:10]"
   ]
  },
  {
   "cell_type": "code",
   "execution_count": 32,
   "metadata": {},
   "outputs": [],
   "source": [
    "from sklearn.metrics import confusion_matrix\n",
    "mat1 = confusion_matrix(test.target, labels)"
   ]
  },
  {
   "cell_type": "code",
   "execution_count": 33,
   "metadata": {},
   "outputs": [
    {
     "data": {
      "text/plain": [
       "array([[344,  13,  32,   0],\n",
       "       [  6, 364,  24,   0],\n",
       "       [  1,   5, 392,   0],\n",
       "       [  4,  12, 187,  48]], dtype=int64)"
      ]
     },
     "execution_count": 33,
     "metadata": {},
     "output_type": "execute_result"
    }
   ],
   "source": [
    "mat1"
   ]
  },
  {
   "cell_type": "code",
   "execution_count": 34,
   "metadata": {},
   "outputs": [
    {
     "data": {
      "text/plain": [
       "0.8016759776536313"
      ]
     },
     "execution_count": 34,
     "metadata": {},
     "output_type": "execute_result"
    }
   ],
   "source": [
    "from sklearn.metrics import accuracy_score\n",
    "accuracy_score(test.target, labels)"
   ]
  },
  {
   "cell_type": "code",
   "execution_count": 35,
   "metadata": {},
   "outputs": [
    {
     "data": {
      "text/plain": [
       "<matplotlib.axes._subplots.AxesSubplot object at 0x000001B437DD3DC8>"
      ]
     },
     "execution_count": 35,
     "metadata": {},
     "output_type": "execute_result"
    },
    {
     "data": {
      "text/plain": [
       "Text(0.5, 16.0, 'true label')"
      ]
     },
     "execution_count": 35,
     "metadata": {},
     "output_type": "execute_result"
    },
    {
     "data": {
      "text/plain": [
       "Text(56.440000000000005, 0.5, 'predicted label')"
      ]
     },
     "execution_count": 35,
     "metadata": {},
     "output_type": "execute_result"
    },
    {
     "data": {
      "image/png": "[encoded data removed]",
      "text/plain": [
       "<Figure size 432x288 with 1 Axes>"
      ]
     },
     "metadata": {
      "needs_background": "light"
     },
     "output_type": "display_data"
    }
   ],
   "source": [
    "sns.heatmap(mat1.T, square=True, annot=True, fmt='d', cbar=False,\n",
    "            xticklabels=train.target_names, yticklabels=train.target_names)\n",
    "plt.xlabel('true label')\n",
    "plt.ylabel('predicted label')\n",
    "plt.show()"
   ]
  },
  {
   "cell_type": "code",
   "execution_count": 36,
   "metadata": {},
   "outputs": [
    {
     "data": {
      "text/plain": [
       "(4.0, 0.0)"
      ]
     },
     "execution_count": 36,
     "metadata": {},
     "output_type": "execute_result"
    },
    {
     "data": {
      "image/png": "[encoded data removed]",
      "text/plain": [
       "<Figure size 432x288 with 2 Axes>"
      ]
     },
     "metadata": {
      "needs_background": "light"
     },
     "output_type": "display_data"
    }
   ],
   "source": [
    "# If you run into this issue with top and bottom rows being cut off,\n",
    "# it's because of a matplotlib version issue (Thanks StackOverflow!).\n",
    "# You'll have to explicitly widen the y-axis, as below.\n",
    "\n",
    "ax = sns.heatmap(mat1, annot=True) #notation: \"annot\" not \"annote\"\n",
    "bottom, top = ax.get_ylim()\n",
    "ax.set_ylim(bottom + 0.5, top - 0.5)"
   ]
  },
  {
   "cell_type": "code",
   "execution_count": 37,
   "metadata": {},
   "outputs": [
    {
     "name": "stdout",
     "output_type": "stream",
     "text": [
      "[1 2 1 2 0 0 2]\n"
     ]
    }
   ],
   "source": [
    "tests = ['sending a payload to the ISS', 'I met Santa Claus once', \"Bismillah al-rahman al-raheem\",\n",
    "         \"Today is a good day to say hi to the Prophet Jesus on the international space station\",\n",
    "        \"I hate trying to save pictures of in a .jpg format when .png looks so much better\",\n",
    "        \"I hate trying to save pictures of the Prophet Mohammed in a .jpg format when .png looks so much better\",\n",
    "        \"I hate trying to save pictures of the Prophet Jesus in a .jpg format when .png looks so much better\"]\n",
    "preds = model.predict(tests)\n",
    "print(preds)"
   ]
  },
  {
   "cell_type": "code",
   "execution_count": 38,
   "metadata": {},
   "outputs": [
    {
     "name": "stdout",
     "output_type": "stream",
     "text": [
      "comp.graphics\n",
      "sci.space\n",
      "soc.religion.christian\n",
      "talk.religion.misc\n"
     ]
    }
   ],
   "source": [
    "print(train.target_names[0])\n",
    "print(train.target_names[1])\n",
    "print(train.target_names[2])\n",
    "print(train.target_names[3])"
   ]
  }
 ],
 "metadata": {
  "kernelspec": {
   "display_name": "Python 3",
   "language": "python",
   "name": "python3"
  },
  "language_info": {
   "codemirror_mode": {
    "name": "ipython",
    "version": 3
   },
   "file_extension": ".py",
   "mimetype": "text/x-python",
   "name": "python",
   "nbconvert_exporter": "python",
   "pygments_lexer": "ipython3",
   "version": "3.7.4"
  }
 },
 "nbformat": 4,
 "nbformat_minor": 2
}
